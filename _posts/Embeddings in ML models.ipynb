{
 "cells": [
  {
   "cell_type": "markdown",
   "metadata": {},
   "source": [
    "# About me"
   ]
  },
  {
   "cell_type": "markdown",
   "metadata": {},
   "source": [
    "* Cristian Lungu, Phd.c. UTCN, AI\n",
    "* ML Researcher, Trainer, Consultant \n",
    "* www.clungu.com"
   ]
  },
  {
   "cell_type": "markdown",
   "metadata": {},
   "source": [
    "# Intuition"
   ]
  },
  {
   "cell_type": "markdown",
   "metadata": {},
   "source": [
    "Everypresentation starts with a cat"
   ]
  },
  {
   "cell_type": "markdown",
   "metadata": {},
   "source": [
    "![image.png](https://r.hswstatic.com/w_907/gif/tesla-cat.jpg)"
   ]
  },
  {
   "cell_type": "markdown",
   "metadata": {},
   "source": [
    "If I show you one, what do you see?"
   ]
  },
  {
   "cell_type": "markdown",
   "metadata": {},
   "source": [
    "* has fur\n",
    "* black eyes\n",
    "* two ears\n",
    "* sits\n",
    "* looks away from the camera\n",
    "\n",
    "\n",
    "* small \n",
    "* mamal\n",
    "* likes to cuddle\n",
    "* eats mice\n",
    "..."
   ]
  },
  {
   "cell_type": "markdown",
   "metadata": {},
   "source": [
    "# Maths embeddings"
   ]
  },
  {
   "cell_type": "markdown",
   "metadata": {},
   "source": [
    "In mathematics, an embedding (or imbedding[1]) is one instance of some mathematical structure contained within another instance, such as a group that is a subgroup. (wikipedia)"
   ]
  },
  {
   "cell_type": "markdown",
   "metadata": {},
   "source": [
    ".... (!)"
   ]
  },
  {
   "cell_type": "markdown",
   "metadata": {},
   "source": [
    "In IT we say it's a mapping (form A to B)"
   ]
  },
  {
   "cell_type": "markdown",
   "metadata": {},
   "source": [
    "# Embeddings as expansions "
   ]
  },
  {
   "cell_type": "markdown",
   "metadata": {},
   "source": [
    "The first use-case (and arguably the most common one) is expanding an element into some semantic values (latent variables)."
   ]
  },
  {
   "cell_type": "markdown",
   "metadata": {},
   "source": [
    "## Word embeddings"
   ]
  },
  {
   "cell_type": "markdown",
   "metadata": {},
   "source": [
    "We will try to attach for each word, a \"meaning\" (a semantic context). \n",
    "We interpret \"context\" as whatever words are, before (or after our target word). So we will get a dataset that parses free text, and slides a window of a certain size over the full text.\n",
    "\n",
    "In this example we're going to use:\n",
    "* 3 words sized window, 1 word prediction"
   ]
  },
  {
   "cell_type": "markdown",
   "metadata": {},
   "source": [
    "ETL.. get the data, process it and load it in a specific format"
   ]
  },
  {
   "cell_type": "code",
   "execution_count": 20,
   "metadata": {},
   "outputs": [],
   "source": [
    "%matplotlib inline\n",
    "import numpy as np\n",
    "from matplotlib import pyplot as plt \n",
    "\n",
    "from scipy import io\n",
    "from keras.utils.np_utils import to_categorical\n",
    "\n",
    "mat = io.loadmat(\"/home/cristi/Applications/GITHub/keras/tensor_flow/data/word-embeddings.mat\")\n",
    "data = mat['data']['trainData'][0][0] - 1 # in octave arrays start from one\n",
    "\n",
    "vocab = np.array([element[0] for element in mat['data']['vocab'][0][0].reshape(250)])\n",
    "\n",
    "inputs = data[:3, :].T\n",
    "label_index = data[3, :]\n",
    "labels = to_categorical(label_index)"
   ]
  },
  {
   "cell_type": "markdown",
   "metadata": {},
   "source": [
    "Printing some examples, to get a feel of what we are working with"
   ]
  },
  {
   "cell_type": "code",
   "execution_count": 3,
   "metadata": {},
   "outputs": [
    {
     "data": {
      "text/plain": [
       "[([u'going', u'to', u'be'], u'.'),\n",
       " ([u'were', u'not', u'the'], u'first'),\n",
       " ([u'can', u'do', u'for'], u'each'),\n",
       " ([u'first', u'time', u'in'], u'my'),\n",
       " ([u'nt', u'have', u'the'], u'money'),\n",
       " ([u'know', u'what', u'to'], u'do'),\n",
       " ([u'i', u'do', u'nt'], u'do'),\n",
       " ([u'nt', u'do', u'that'], u'.'),\n",
       " ([u'what', u'do', u'you'], u'do'),\n",
       " ([u'know', u'is', u'we'], u'are')]"
      ]
     },
     "execution_count": 3,
     "metadata": {},
     "output_type": "execute_result"
    }
   ],
   "source": [
    "first = 10\n",
    "list(zip(\n",
    "    [[vocab[i] for i in words] for words in inputs[:first]], \n",
    "    [vocab[l] for l in label_index[:first]]\n",
    "))"
   ]
  },
  {
   "cell_type": "code",
   "execution_count": 4,
   "metadata": {},
   "outputs": [
    {
     "name": "stdout",
     "output_type": "stream",
     "text": [
      "____________________________________________________________________________________________________\n",
      "Layer (type)                     Output Shape          Param #     Connected to                     \n",
      "====================================================================================================\n",
      "input_1 (InputLayer)             (None, 1)             0                                            \n",
      "____________________________________________________________________________________________________\n",
      "input_2 (InputLayer)             (None, 1)             0                                            \n",
      "____________________________________________________________________________________________________\n",
      "input_3 (InputLayer)             (None, 1)             0                                            \n",
      "____________________________________________________________________________________________________\n",
      "embedding_1 (Embedding)          (None, 1, 5)          1250        input_1[0][0]                    \n",
      "                                                                   input_2[0][0]                    \n",
      "                                                                   input_3[0][0]                    \n",
      "____________________________________________________________________________________________________\n",
      "merge_1 (Merge)                  (None, 1, 15)         0           embedding_1[0][0]                \n",
      "                                                                   embedding_1[1][0]                \n",
      "                                                                   embedding_1[2][0]                \n",
      "____________________________________________________________________________________________________\n",
      "reshape_1 (Reshape)              (None, 15)            0           merge_1[0][0]                    \n",
      "____________________________________________________________________________________________________\n",
      "dense_1 (Dense)                  (None, 250)           4000        reshape_1[0][0]                  \n",
      "====================================================================================================\n",
      "Total params: 5,250\n",
      "Trainable params: 5,250\n",
      "Non-trainable params: 0\n",
      "____________________________________________________________________________________________________\n"
     ]
    }
   ],
   "source": [
    "import keras\n",
    "from keras.layers import Input\n",
    "from keras.layers import Embedding\n",
    "from keras.layers import merge, Lambda, Reshape, Dense, BatchNormalization\n",
    "from keras.models import Model\n",
    "from keras import backend as K\n",
    "from keras.layers import Activation\n",
    "from keras.regularizers import l2\n",
    "\n",
    "inp_1 = Input(shape=(1,), dtype='int32')\n",
    "inp_2 = Input(shape=(1,), dtype='int32')\n",
    "inp_3 = Input(shape=(1,), dtype='int32')\n",
    "\n",
    "lbl = Input(shape=(1,), dtype='int32')\n",
    "\n",
    "DIMS = 5\n",
    "word_emb = Embedding(input_dim=len(vocab), output_dim=(DIMS), W_regularizer=l2(0.0001))\n",
    "\n",
    "emb_1 = word_emb(inp_1)\n",
    "emb_2 = word_emb(inp_2)\n",
    "emb_3 = word_emb(inp_3)\n",
    "\n",
    "out = Reshape((-1,))(merge([emb_1, emb_2, emb_3], mode='concat'))\n",
    "out = Dense(output_dim=len(vocab), activation='softmax')(out)\n",
    "word_model = Model(input=[inp_1, inp_2, inp_3], output=out)\n",
    "word_model.compile(optimizer='adam', loss='categorical_crossentropy')\n",
    "word_model.summary()"
   ]
  },
  {
   "cell_type": "code",
   "execution_count": 5,
   "metadata": {},
   "outputs": [
    {
     "name": "stdout",
     "output_type": "stream",
     "text": [
      "Epoch 1/10\n",
      "372550/372550 [==============================] - 37s - loss: 3.6846    \n",
      "Epoch 2/10\n",
      "372550/372550 [==============================] - 37s - loss: 3.3462    \n",
      "Epoch 3/10\n",
      "372550/372550 [==============================] - 35s - loss: 3.2946    \n",
      "Epoch 4/10\n",
      "372550/372550 [==============================] - 34s - loss: 3.2680    \n",
      "Epoch 5/10\n",
      "372550/372550 [==============================] - 34s - loss: 3.2508    \n",
      "Epoch 6/10\n",
      "372550/372550 [==============================] - 36s - loss: 3.2389    \n",
      "Epoch 7/10\n",
      "372550/372550 [==============================] - 38s - loss: 3.2302    \n",
      "Epoch 8/10\n",
      "372550/372550 [==============================] - 38s - loss: 3.2232    \n",
      "Epoch 9/10\n",
      "372550/372550 [==============================] - 39s - loss: 3.2177    \n",
      "Epoch 10/10\n",
      "372550/372550 [==============================] - 39s - loss: 3.2130    \n"
     ]
    },
    {
     "data": {
      "text/plain": [
       "<keras.callbacks.History at 0x7fc787b17190>"
      ]
     },
     "execution_count": 5,
     "metadata": {},
     "output_type": "execute_result"
    }
   ],
   "source": [
    "word_model.fit([inputs[:, 0], inputs[:, 1], inputs[:, 2]], labels)"
   ]
  },
  {
   "cell_type": "markdown",
   "metadata": {},
   "source": [
    "Building a reversable dictionary"
   ]
  },
  {
   "cell_type": "code",
   "execution_count": 6,
   "metadata": {},
   "outputs": [],
   "source": [
    "vocab2id = {word: id for id, word in enumerate(vocab)}\n",
    "assert vocab[vocab2id['going']] == 'going'"
   ]
  },
  {
   "cell_type": "markdown",
   "metadata": {},
   "source": [
    "Getting the actuall embeddings"
   ]
  },
  {
   "cell_type": "code",
   "execution_count": 7,
   "metadata": {},
   "outputs": [],
   "source": [
    "embeddings = word_emb.get_weights()[0]"
   ]
  },
  {
   "cell_type": "markdown",
   "metadata": {},
   "source": [
    "What are the words that are the most similar to one another?"
   ]
  },
  {
   "cell_type": "code",
   "execution_count": 72,
   "metadata": {},
   "outputs": [
    {
     "data": {
      "text/plain": [
       "[u'war',\n",
       " u'country',\n",
       " u'season',\n",
       " u'business',\n",
       " u'game',\n",
       " u'house',\n",
       " u'here',\n",
       " u'music',\n",
       " u'company',\n",
       " u'office']"
      ]
     },
     "execution_count": 72,
     "metadata": {},
     "output_type": "execute_result"
    }
   ],
   "source": [
    "from scipy.spatial.distance import cosine\n",
    "word = 'going'\n",
    "\n",
    "def most_similar_words(word):\n",
    "    t_id = vocab2id[word]\n",
    "    t_emb = embeddings[t_id]\n",
    "    return [vocab[id] for id in np.argsort([cosine(t_emb, w_emb) for w_emb in embeddings])[:10]]\n",
    "\n",
    "most_similar_words('war')"
   ]
  },
  {
   "cell_type": "markdown",
   "metadata": {},
   "source": [
    "## Word2Vec, Glove"
   ]
  },
  {
   "cell_type": "markdown",
   "metadata": {},
   "source": [
    "In NLP, the above is just the first thing that you usually do before you want to process text (i.e. substituting words with their embeddings).\n",
    "\n",
    "Fortunately, there were many attempts (and many companies) that trained word embeddings on large corpuses (and their expense) but made available the results."
   ]
  },
  {
   "cell_type": "markdown",
   "metadata": {},
   "source": [
    "Examples of public word embeddinge libraries:\n",
    "* [Word2Vec](https://code.google.com/archive/p/word2vec/) (Google)\n",
    "* [GloVe](https://nlp.stanford.edu/projects/glove/) (Stanford)\n",
    "* [FastText](https://github.com/facebookresearch/fastText/blob/master/pretrained-vectors.md) (Facebook)"
   ]
  },
  {
   "cell_type": "markdown",
   "metadata": {},
   "source": [
    "The most famous one, word2vec has the following two strategies used to training the embeddings:"
   ]
  },
  {
   "cell_type": "markdown",
   "metadata": {},
   "source": [
    "![image.png](https://raw.githubusercontent.com/rohan-varma/paper-analysis/master/word2vec-papers/models.png)"
   ]
  },
  {
   "cell_type": "markdown",
   "metadata": {},
   "source": [
    "(Continous Bag of Words), (Skip Gram model)"
   ]
  },
  {
   "cell_type": "markdown",
   "metadata": {},
   "source": [
    "These embeddings have some pretty cool properties:"
   ]
  },
  {
   "cell_type": "markdown",
   "metadata": {},
   "source": [
    "![image.png](https://shanelynnwebsite-mid9n9g1q9y8tt.netdna-ssl.com/wp-content/uploads/2018/02/vocabulary-linear-relationships.png)"
   ]
  },
  {
   "cell_type": "markdown",
   "metadata": {},
   "source": [
    "One downside of embeddings is that they are specific to what they have been trained on.\n",
    "In this case, english word embeddings are specific, to english and don't relate in any way to embeddings of other languages (except for the fact that distances between equivalent words should have roughtly the same values)"
   ]
  },
  {
   "cell_type": "markdown",
   "metadata": {},
   "source": [
    "### Same space alligned embeddings"
   ]
  },
  {
   "cell_type": "markdown",
   "metadata": {},
   "source": [
    "You can also have embeddings alligned in the same vector space\n",
    "\n",
    "FastText embeddings have a [git repo](https://github.com/Babylonpartners/fastText_multilingual) that you can use to allign all the 190 language embeddings on the same vector space."
   ]
  },
  {
   "cell_type": "markdown",
   "metadata": {},
   "source": [
    "One thing that you can use them for is to do a quick, dirty and imperfect transaltion mechanism, where for each word in language A, you take it's embeddings, and search the closest embedding form language B. Having found that embedding you can now substitute it with the word it stands for.\n",
    "\n",
    "Bellow is a translation done using this mechanism.\n",
    "\n",
    "```acesta este un text frumos scris```\n",
    "\n",
    "\n",
    "```lui est un texte plaisant écrit```"
   ]
  },
  {
   "cell_type": "markdown",
   "metadata": {},
   "source": [
    "## Elemental embeddings"
   ]
  },
  {
   "cell_type": "markdown",
   "metadata": {},
   "source": [
    "Another use-case for embeddings is expanding your own elements into a \"semantic\" representation."
   ]
  },
  {
   "cell_type": "markdown",
   "metadata": {},
   "source": [
    "We will be using a wine-selection [dataset](https://www.kaggle.com/zynicide/wine-reviews) hosted on Kaggle."
   ]
  },
  {
   "cell_type": "code",
   "execution_count": 9,
   "metadata": {},
   "outputs": [
    {
     "data": {
      "text/html": [
       "<div>\n",
       "<table border=\"1\" class=\"dataframe\">\n",
       "  <thead>\n",
       "    <tr style=\"text-align: right;\">\n",
       "      <th></th>\n",
       "      <th>country</th>\n",
       "      <th>description</th>\n",
       "      <th>designation</th>\n",
       "      <th>points</th>\n",
       "      <th>price</th>\n",
       "      <th>province</th>\n",
       "      <th>region_1</th>\n",
       "      <th>region_2</th>\n",
       "      <th>taster_name</th>\n",
       "      <th>taster_twitter_handle</th>\n",
       "      <th>title</th>\n",
       "      <th>variety</th>\n",
       "      <th>winery</th>\n",
       "    </tr>\n",
       "  </thead>\n",
       "  <tbody>\n",
       "    <tr>\n",
       "      <th>0</th>\n",
       "      <td>Italy</td>\n",
       "      <td>Aromas include tropical fruit, broom, brimston...</td>\n",
       "      <td>Vulkà Bianco</td>\n",
       "      <td>87</td>\n",
       "      <td>NaN</td>\n",
       "      <td>Sicily &amp; Sardinia</td>\n",
       "      <td>Etna</td>\n",
       "      <td>None</td>\n",
       "      <td>Kerin O’Keefe</td>\n",
       "      <td>@kerinokeefe</td>\n",
       "      <td>Nicosia 2013 Vulkà Bianco  (Etna)</td>\n",
       "      <td>White Blend</td>\n",
       "      <td>Nicosia</td>\n",
       "    </tr>\n",
       "    <tr>\n",
       "      <th>1</th>\n",
       "      <td>Portugal</td>\n",
       "      <td>This is ripe and fruity, a wine that is smooth...</td>\n",
       "      <td>Avidagos</td>\n",
       "      <td>87</td>\n",
       "      <td>15.0</td>\n",
       "      <td>Douro</td>\n",
       "      <td>None</td>\n",
       "      <td>None</td>\n",
       "      <td>Roger Voss</td>\n",
       "      <td>@vossroger</td>\n",
       "      <td>Quinta dos Avidagos 2011 Avidagos Red (Douro)</td>\n",
       "      <td>Portuguese Red</td>\n",
       "      <td>Quinta dos Avidagos</td>\n",
       "    </tr>\n",
       "    <tr>\n",
       "      <th>2</th>\n",
       "      <td>US</td>\n",
       "      <td>Tart and snappy, the flavors of lime flesh and...</td>\n",
       "      <td>None</td>\n",
       "      <td>87</td>\n",
       "      <td>14.0</td>\n",
       "      <td>Oregon</td>\n",
       "      <td>Willamette Valley</td>\n",
       "      <td>Willamette Valley</td>\n",
       "      <td>Paul Gregutt</td>\n",
       "      <td>@paulgwine</td>\n",
       "      <td>Rainstorm 2013 Pinot Gris (Willamette Valley)</td>\n",
       "      <td>Pinot Gris</td>\n",
       "      <td>Rainstorm</td>\n",
       "    </tr>\n",
       "    <tr>\n",
       "      <th>3</th>\n",
       "      <td>US</td>\n",
       "      <td>Pineapple rind, lemon pith and orange blossom ...</td>\n",
       "      <td>Reserve Late Harvest</td>\n",
       "      <td>87</td>\n",
       "      <td>13.0</td>\n",
       "      <td>Michigan</td>\n",
       "      <td>Lake Michigan Shore</td>\n",
       "      <td>None</td>\n",
       "      <td>Alexander Peartree</td>\n",
       "      <td>None</td>\n",
       "      <td>St. Julian 2013 Reserve Late Harvest Riesling ...</td>\n",
       "      <td>Riesling</td>\n",
       "      <td>St. Julian</td>\n",
       "    </tr>\n",
       "    <tr>\n",
       "      <th>4</th>\n",
       "      <td>US</td>\n",
       "      <td>Much like the regular bottling from 2012, this...</td>\n",
       "      <td>Vintner's Reserve Wild Child Block</td>\n",
       "      <td>87</td>\n",
       "      <td>65.0</td>\n",
       "      <td>Oregon</td>\n",
       "      <td>Willamette Valley</td>\n",
       "      <td>Willamette Valley</td>\n",
       "      <td>Paul Gregutt</td>\n",
       "      <td>@paulgwine</td>\n",
       "      <td>Sweet Cheeks 2012 Vintner's Reserve Wild Child...</td>\n",
       "      <td>Pinot Noir</td>\n",
       "      <td>Sweet Cheeks</td>\n",
       "    </tr>\n",
       "  </tbody>\n",
       "</table>\n",
       "</div>"
      ],
      "text/plain": [
       "    country                                        description  \\\n",
       "0     Italy  Aromas include tropical fruit, broom, brimston...   \n",
       "1  Portugal  This is ripe and fruity, a wine that is smooth...   \n",
       "2        US  Tart and snappy, the flavors of lime flesh and...   \n",
       "3        US  Pineapple rind, lemon pith and orange blossom ...   \n",
       "4        US  Much like the regular bottling from 2012, this...   \n",
       "\n",
       "                          designation  points  price           province  \\\n",
       "0                        Vulkà Bianco      87    NaN  Sicily & Sardinia   \n",
       "1                            Avidagos      87   15.0              Douro   \n",
       "2                                None      87   14.0             Oregon   \n",
       "3                Reserve Late Harvest      87   13.0           Michigan   \n",
       "4  Vintner's Reserve Wild Child Block      87   65.0             Oregon   \n",
       "\n",
       "              region_1           region_2         taster_name  \\\n",
       "0                 Etna               None       Kerin O’Keefe   \n",
       "1                 None               None          Roger Voss   \n",
       "2    Willamette Valley  Willamette Valley        Paul Gregutt   \n",
       "3  Lake Michigan Shore               None  Alexander Peartree   \n",
       "4    Willamette Valley  Willamette Valley        Paul Gregutt   \n",
       "\n",
       "  taster_twitter_handle                                              title  \\\n",
       "0          @kerinokeefe                  Nicosia 2013 Vulkà Bianco  (Etna)   \n",
       "1            @vossroger      Quinta dos Avidagos 2011 Avidagos Red (Douro)   \n",
       "2           @paulgwine       Rainstorm 2013 Pinot Gris (Willamette Valley)   \n",
       "3                  None  St. Julian 2013 Reserve Late Harvest Riesling ...   \n",
       "4           @paulgwine   Sweet Cheeks 2012 Vintner's Reserve Wild Child...   \n",
       "\n",
       "          variety               winery  \n",
       "0     White Blend              Nicosia  \n",
       "1  Portuguese Red  Quinta dos Avidagos  \n",
       "2      Pinot Gris            Rainstorm  \n",
       "3        Riesling           St. Julian  \n",
       "4      Pinot Noir         Sweet Cheeks  "
      ]
     },
     "metadata": {},
     "output_type": "display_data"
    }
   ],
   "source": [
    "import pandas as pd\n",
    "from IPython.display import display\n",
    "table = pd.read_json('./winemag-data-130k-v2.json', encoding = \"ISO-8859-1\")\n",
    "display(table.head())"
   ]
  },
  {
   "cell_type": "markdown",
   "metadata": {},
   "source": [
    "We're only going to take 'taster_name', 'variety' and 'country' fields into acount."
   ]
  },
  {
   "cell_type": "code",
   "execution_count": 114,
   "metadata": {},
   "outputs": [
    {
     "data": {
      "text/plain": [
       "(20, 708, 44)"
      ]
     },
     "execution_count": 114,
     "metadata": {},
     "output_type": "execute_result"
    }
   ],
   "source": [
    "def count_unique(column_name):\n",
    "    return len(table[column_name].unique())\n",
    "\n",
    "count_unique('taster_name'), count_unique('variety'), count_unique('country')"
   ]
  },
  {
   "cell_type": "markdown",
   "metadata": {},
   "source": [
    "See that we have values for all the point rows "
   ]
  },
  {
   "cell_type": "code",
   "execution_count": 10,
   "metadata": {},
   "outputs": [
    {
     "data": {
      "text/plain": [
       "0"
      ]
     },
     "execution_count": 10,
     "metadata": {},
     "output_type": "execute_result"
    }
   ],
   "source": [
    "import numpy as np\n",
    "sum(np.isnan(table['points'].values))"
   ]
  },
  {
   "cell_type": "code",
   "execution_count": 87,
   "metadata": {},
   "outputs": [
    {
     "data": {
      "text/plain": [
       "array([u'Kerin O\\u2019Keefe', u'Roger Voss', u'Paul Gregutt',\n",
       "       u'Alexander Peartree', u'Michael Schachner', u'Anna Lee C. Iijima',\n",
       "       u'Virginie Boone', u'Matt Kettmann', None, u'Sean P. Sullivan',\n",
       "       u'Jim Gordon', u'Joe Czerwinski', u'Anne Krebiehl\\xa0MW',\n",
       "       u'Lauren Buzzeo', u'Mike DeSimone', u'Jeff Jenssen',\n",
       "       u'Susan Kostrzewa', u'Carrie Dykes', u'Fiona Adams',\n",
       "       u'Christina Pickard'], dtype=object)"
      ]
     },
     "execution_count": 87,
     "metadata": {},
     "output_type": "execute_result"
    }
   ],
   "source": [
    "table['taster_name'].unique()"
   ]
  },
  {
   "cell_type": "markdown",
   "metadata": {},
   "source": [
    "Let's make some reversible dictionaries so we can restore the strings from ids and viceversa"
   ]
  },
  {
   "cell_type": "code",
   "execution_count": 11,
   "metadata": {},
   "outputs": [],
   "source": [
    "taster2id = {taster: id for id, taster in enumerate(table['taster_name'].unique())}\n",
    "id2taster = {id: taster for id, taster in enumerate(table['taster_name'].unique())}\n",
    "\n",
    "variety2id = {taster: id for id, taster in enumerate(table['variety'].unique())}\n",
    "id2variety = {id: taster for id, taster in enumerate(table['variety'].unique())}\n",
    "\n",
    "country2id = {taster: id for id, taster in enumerate(table['country'].unique())}\n",
    "id2country = {id: taster for id, taster in enumerate(table['country'].unique())}"
   ]
  },
  {
   "cell_type": "markdown",
   "metadata": {},
   "source": [
    "Compiling a dataset that has only the above values and uses 'points' as lables"
   ]
  },
  {
   "cell_type": "code",
   "execution_count": 12,
   "metadata": {},
   "outputs": [
    {
     "data": {
      "text/plain": [
       "[(array([4, 5, 3]), array([87])),\n",
       " (array([0, 6, 0]), array([87])),\n",
       " (array([1, 7, 4]), array([87])),\n",
       " (array([5, 7, 5]), array([87])),\n",
       " (array([1, 2, 4]), array([87]))]"
      ]
     },
     "execution_count": 12,
     "metadata": {},
     "output_type": "execute_result"
    }
   ],
   "source": [
    "data = np.array([[taster2id[t], variety2id[v], country2id[c]] for t, v, c in table[['taster_name', 'variety', 'country']].values])\n",
    "\n",
    "labels = table[['points']].values\n",
    "assert data.shape[0] == labels.shape[0]\n",
    "\n",
    "# print some examples\n",
    "list(zip(data[5:10], labels[5:10]))"
   ]
  },
  {
   "cell_type": "markdown",
   "metadata": {},
   "source": [
    "The embeddings model just translates the element ids into embedded values. We dot product all the permutation and expect that their sum is equal to the predicted price. \n",
    "\n",
    "We also add some bias terms to account for the specific 'biases' of each element."
   ]
  },
  {
   "cell_type": "code",
   "execution_count": 13,
   "metadata": {},
   "outputs": [
    {
     "name": "stdout",
     "output_type": "stream",
     "text": [
      "____________________________________________________________________________________________________\n",
      "Layer (type)                     Output Shape          Param #     Connected to                     \n",
      "====================================================================================================\n",
      "input_5 (InputLayer)             (None, 1)             0                                            \n",
      "____________________________________________________________________________________________________\n",
      "input_6 (InputLayer)             (None, 1)             0                                            \n",
      "____________________________________________________________________________________________________\n",
      "input_7 (InputLayer)             (None, 1)             0                                            \n",
      "____________________________________________________________________________________________________\n",
      "embedding_2 (Embedding)          (None, 1, 10)         200         input_5[0][0]                    \n",
      "____________________________________________________________________________________________________\n",
      "embedding_4 (Embedding)          (None, 1, 10)         7080        input_6[0][0]                    \n",
      "____________________________________________________________________________________________________\n",
      "embedding_6 (Embedding)          (None, 1, 10)         440         input_7[0][0]                    \n",
      "____________________________________________________________________________________________________\n",
      "reshape_2 (Reshape)              (None, 10, 1)         0           embedding_2[0][0]                \n",
      "____________________________________________________________________________________________________\n",
      "reshape_3 (Reshape)              (None, 10, 1)         0           embedding_4[0][0]                \n",
      "____________________________________________________________________________________________________\n",
      "reshape_4 (Reshape)              (None, 10, 1)         0           embedding_6[0][0]                \n",
      "____________________________________________________________________________________________________\n",
      "batchnormalization_1 (BatchNorma (None, 10, 1)         40          reshape_2[0][0]                  \n",
      "____________________________________________________________________________________________________\n",
      "batchnormalization_2 (BatchNorma (None, 10, 1)         40          reshape_3[0][0]                  \n",
      "____________________________________________________________________________________________________\n",
      "batchnormalization_3 (BatchNorma (None, 10, 1)         40          reshape_4[0][0]                  \n",
      "____________________________________________________________________________________________________\n",
      "merge_2 (Merge)                  (None, 1, 1)          0           batchnormalization_1[0][0]       \n",
      "                                                                   batchnormalization_2[0][0]       \n",
      "____________________________________________________________________________________________________\n",
      "merge_3 (Merge)                  (None, 1, 1)          0           batchnormalization_1[0][0]       \n",
      "                                                                   batchnormalization_3[0][0]       \n",
      "____________________________________________________________________________________________________\n",
      "merge_4 (Merge)                  (None, 1, 1)          0           batchnormalization_2[0][0]       \n",
      "                                                                   batchnormalization_3[0][0]       \n",
      "____________________________________________________________________________________________________\n",
      "merge_5 (Merge)                  (None, 1, 1)          0           merge_2[0][0]                    \n",
      "                                                                   merge_3[0][0]                    \n",
      "                                                                   merge_4[0][0]                    \n",
      "____________________________________________________________________________________________________\n",
      "embedding_3 (Embedding)          (None, 1, 1)          20          input_5[0][0]                    \n",
      "____________________________________________________________________________________________________\n",
      "merge_6 (Merge)                  (None, 1, 1)          0           merge_5[0][0]                    \n",
      "                                                                   embedding_3[0][0]                \n",
      "____________________________________________________________________________________________________\n",
      "embedding_5 (Embedding)          (None, 1, 1)          708         input_6[0][0]                    \n",
      "____________________________________________________________________________________________________\n",
      "merge_7 (Merge)                  (None, 1, 1)          0           merge_6[0][0]                    \n",
      "                                                                   embedding_5[0][0]                \n",
      "____________________________________________________________________________________________________\n",
      "embedding_7 (Embedding)          (None, 1, 1)          44          input_7[0][0]                    \n",
      "____________________________________________________________________________________________________\n",
      "merge_8 (Merge)                  (None, 1, 1)          0           merge_7[0][0]                    \n",
      "                                                                   embedding_7[0][0]                \n",
      "____________________________________________________________________________________________________\n",
      "reshape_5 (Reshape)              (None, 1)             0           merge_8[0][0]                    \n",
      "____________________________________________________________________________________________________\n",
      "activation_1 (Activation)        (None, 1)             0           reshape_5[0][0]                  \n",
      "====================================================================================================\n",
      "Total params: 8,612\n",
      "Trainable params: 8,552\n",
      "Non-trainable params: 60\n",
      "____________________________________________________________________________________________________\n"
     ]
    }
   ],
   "source": [
    "import keras\n",
    "from keras.layers import Input\n",
    "from keras.layers import Embedding\n",
    "from keras.layers import merge, Lambda, Reshape, Dense, BatchNormalization\n",
    "from keras.models import Model\n",
    "from keras import backend as K\n",
    "from keras.layers import Activation\n",
    "from keras.regularizers import l2\n",
    "\n",
    "nam_inp = Input(shape=(1,), dtype='int32')\n",
    "var_inp = Input(shape=(1,), dtype='int32')\n",
    "cty_inp = Input(shape=(1,), dtype='int32')\n",
    "\n",
    "DIMS = 10\n",
    "\n",
    "lbl = Input(shape=(1,), dtype='int32')\n",
    "\n",
    "nam_emb = Embedding(input_dim=len(taster2id), output_dim=(DIMS), W_regularizer=l2(0.0001))\n",
    "nam_bis = Embedding(input_dim=len(taster2id), output_dim=1, init='zero')\n",
    "\n",
    "var_emb = Embedding(input_dim=len(variety2id), output_dim=(DIMS), W_regularizer=l2(0.0001))\n",
    "var_bis = Embedding(input_dim=len(variety2id), output_dim=1, init='zero')\n",
    "\n",
    "cty_emb = Embedding(input_dim=len(country2id), output_dim=(DIMS), W_regularizer=l2(0.0001))\n",
    "cty_bis = Embedding(input_dim=len(country2id), output_dim=1, init='zero')\n",
    "\n",
    "\n",
    "nam_rsh = BatchNormalization(axis=1)(Reshape((-1, 1))(nam_emb(nam_inp)))\n",
    "var_rsh = BatchNormalization(axis=1)(Reshape((-1, 1))(var_emb(var_inp)))\n",
    "cty_rsh = BatchNormalization(axis=1)(Reshape((-1, 1))(cty_emb(cty_inp)))\n",
    "\n",
    "dot1 = merge([nam_rsh, var_rsh], mode='dot', dot_axes=1)\n",
    "dot2 = merge([nam_rsh, cty_rsh], mode='dot', dot_axes=1)\n",
    "dot3 = merge([var_rsh, cty_rsh], mode='dot', dot_axes=1)\n",
    "\n",
    "dot = merge([dot1, dot2, dot3], mode='sum')\n",
    "\n",
    "dot = merge([dot, nam_bis(nam_inp)], mode='sum')\n",
    "dot = merge([dot, var_bis(var_inp)], mode='sum')\n",
    "dot = merge([dot, cty_bis(cty_inp)], mode='sum')\n",
    "dot = Reshape((1,))(dot)\n",
    "\n",
    "out = Activation(activation='relu')(dot)\n",
    "\n",
    "model = Model([nam_inp, var_inp, cty_inp], out)\n",
    "model.summary()\n",
    "model.compile(optimizer='rmsprop', loss='mae')"
   ]
  },
  {
   "cell_type": "code",
   "execution_count": 14,
   "metadata": {},
   "outputs": [
    {
     "name": "stdout",
     "output_type": "stream",
     "text": [
      "Epoch 1/10\n",
      "129971/129971 [==============================] - 9s - loss: 29.1668     \n",
      "Epoch 2/10\n",
      "129971/129971 [==============================] - 8s - loss: 9.4990     \n",
      "Epoch 3/10\n",
      "129971/129971 [==============================] - 8s - loss: 3.8390     \n",
      "Epoch 4/10\n",
      "129971/129971 [==============================] - 8s - loss: 2.6311     \n",
      "Epoch 5/10\n",
      "129971/129971 [==============================] - 8s - loss: 2.4363     \n",
      "Epoch 6/10\n",
      "129971/129971 [==============================] - 10s - loss: 2.3623    \n",
      "Epoch 7/10\n",
      "129971/129971 [==============================] - 11s - loss: 2.3188    \n",
      "Epoch 8/10\n",
      "129971/129971 [==============================] - 9s - loss: 2.2963     \n",
      "Epoch 9/10\n",
      "129971/129971 [==============================] - 8s - loss: 2.2824     \n",
      "Epoch 10/10\n",
      "129971/129971 [==============================] - 8s - loss: 2.2726     \n"
     ]
    },
    {
     "data": {
      "text/plain": [
       "<keras.callbacks.History at 0x7fc713320e90>"
      ]
     },
     "execution_count": 14,
     "metadata": {},
     "output_type": "execute_result"
    }
   ],
   "source": [
    "model.fit([data[:, 0], data[:, 1], data[:, 2]], labels)"
   ]
  },
  {
   "cell_type": "markdown",
   "metadata": {},
   "source": [
    "Trying to extract some meaning from the dimensions"
   ]
  },
  {
   "cell_type": "code",
   "execution_count": 153,
   "metadata": {},
   "outputs": [
    {
     "name": "stdout",
     "output_type": "stream",
     "text": [
      "(0, [u'Port', u'Albari\\xf1o', u'Cabernet Sauvignon', u'Malbec', u'Nebbiolo'])\n",
      "(1, [u'Ros\\xe9', u'Merlot', u'Cabernet Sauvignon', u'White Blend', u'Viognier'])\n",
      "(2, [u'Pinot Noir', u'Chardonnay', u'Cabernet Sauvignon', u'Champagne Blend', u'Malbec'])\n",
      "(3, [u'Bordeaux-style Red Blend', u'Syrah', u'Ros\\xe9', u'Red Blend', u'Pinot Noir'])\n",
      "(4, [u'Pinot Noir', u'Champagne Blend', u'Chardonnay', u'Ros\\xe9', u'Viognier'])\n",
      "(5, [u'Chenin Blanc', u'Pinot Grigio', u'Pinot Blanc', u'Tempranillo Blend', u'Rh\\xf4ne-style Red Blend'])\n",
      "(6, [u'Ros\\xe9', u'Red Blend', u'Syrah', u'Viognier', u'Champagne Blend'])\n",
      "(7, [u'Pinot Noir', u'Chardonnay', u'Ros\\xe9', u'Syrah', u'Riesling'])\n",
      "(8, [u'Cabernet Sauvignon', u'Pinot Blanc', u'Pinot Gris', u'Pinot Noir', u'Sauvignon Blanc'])\n",
      "(9, [u'Petite Sirah', u'Meritage', u'Glera', u'Sauvignon', u'Tempranillo'])\n"
     ]
    }
   ],
   "source": [
    "wines = np.array(var_emb.get_weights()[0])\n",
    "\n",
    "# 0 - being Italian\n",
    "# 1 - mainstream\n",
    "# 3 - red-ness\n",
    "# 8 - Sauvignon / Pinot (sweetness?)\n",
    "for dimension in range(DIMS):\n",
    "    print(dimension, [id2variety[v] for v in np.argsort(wines[:, dimension])][:5])"
   ]
  },
  {
   "cell_type": "code",
   "execution_count": 16,
   "metadata": {},
   "outputs": [
    {
     "name": "stdout",
     "output_type": "stream",
     "text": [
      "0.22\t 0.16\t 0.23\t -0.07\t -0.16\t -0.33\t -0.35\t -0.20\t 0.07\t -0.02\t\n",
      "0.12\t 0.03\t 0.21\t -0.29\t 0.19\t 0.11\t -0.27\t 0.01\t -0.21\t -0.22\t\n"
     ]
    }
   ],
   "source": [
    "name_embeddings = np.array(nam_emb.get_weights()[0])\n",
    "\n",
    "print(\" \".join([\"%.2f\\t\" % val for val in name_embeddings[0]]))\n",
    "print(\" \".join([\"%.2f\\t\" % val for val in name_embeddings[10]]))\n",
    "\n",
    "# list(name_embeddings[0]), list(name_embeddings[10])"
   ]
  },
  {
   "cell_type": "markdown",
   "metadata": {
    "heading_collapsed": true
   },
   "source": [
    "## From all the examples we gave, observe the pattern?"
   ]
  },
  {
   "cell_type": "markdown",
   "metadata": {
    "hidden": true
   },
   "source": [
    "We usually use embeddings when we want to reason about ids."
   ]
  },
  {
   "cell_type": "markdown",
   "metadata": {
    "heading_collapsed": true
   },
   "source": [
    "## Composite (event) embeddings"
   ]
  },
  {
   "cell_type": "markdown",
   "metadata": {
    "hidden": true
   },
   "source": [
    "Go to previous [talk](http://www.clungu.com/Monitoring-media-for-terrorisim-with-AI/#the-embeddings-model)"
   ]
  },
  {
   "cell_type": "markdown",
   "metadata": {
    "hidden": true
   },
   "source": [
    "If you train names as above, you're going to be able to do additive operations on the embeddings."
   ]
  },
  {
   "cell_type": "markdown",
   "metadata": {
    "hidden": true
   },
   "source": [
    "We’ve trained a model to derive name embeddings that we latter used to assemble “event embeddings”.\n",
    "\n",
    "These can be used as indexes in a database (similar elements being close to one another).\n",
    "\n",
    "The interesting thing about embeddings right now is that we can also use them to make intelligent “Google-like” queries: \n",
    "* “Air force” + “New York” + “Bombings” + “1980” -> “John Malcom”"
   ]
  },
  {
   "cell_type": "markdown",
   "metadata": {
    "heading_collapsed": true
   },
   "source": [
    "# Sparse matrixes to embeddings"
   ]
  },
  {
   "cell_type": "markdown",
   "metadata": {
    "hidden": true
   },
   "source": [
    "Another example of embeddings usage is the case where we want to take a really large / sparse matrix and convert it to a reduced set value."
   ]
  },
  {
   "cell_type": "markdown",
   "metadata": {
    "hidden": true
   },
   "source": [
    "Arguably, Word2Vec has been [shown to do exactly this](http://www.aclweb.org/anthology/Q15-1016) (build the coocurence matrix and factor it down into a low-dimensional representation)."
   ]
  },
  {
   "cell_type": "markdown",
   "metadata": {
    "heading_collapsed": true,
    "hidden": true
   },
   "source": [
    "## PCA"
   ]
  },
  {
   "cell_type": "markdown",
   "metadata": {
    "hidden": true
   },
   "source": [
    "Just to exemplify how this might work, we're going to take the [iris dataset](http://scikit-learn.org/stable/auto_examples/datasets/plot_iris_dataset.html) and use it to deribe embeddings for each element."
   ]
  },
  {
   "cell_type": "markdown",
   "metadata": {
    "hidden": true
   },
   "source": [
    "Some ETL.."
   ]
  },
  {
   "cell_type": "code",
   "execution_count": 17,
   "metadata": {
    "hidden": true
   },
   "outputs": [
    {
     "data": {
      "text/plain": [
       "array([[-2.68420713,  0.32660731, -0.02151184],\n",
       "       [-2.71539062, -0.16955685, -0.20352143],\n",
       "       [-2.88981954, -0.13734561,  0.02470924],\n",
       "       [-2.7464372 , -0.31112432,  0.03767198],\n",
       "       [-2.72859298,  0.33392456,  0.0962297 ],\n",
       "       [-2.27989736,  0.74778271,  0.17432562],\n",
       "       [-2.82089068, -0.08210451,  0.26425109],\n",
       "       [-2.62648199,  0.17040535, -0.01580151],\n",
       "       [-2.88795857, -0.57079803,  0.02733541],\n",
       "       [-2.67384469, -0.1066917 , -0.1915333 ]])"
      ]
     },
     "execution_count": 17,
     "metadata": {},
     "output_type": "execute_result"
    }
   ],
   "source": [
    "from sklearn.decomposition import PCA\n",
    "from sklearn import datasets\n",
    "\n",
    "iris = datasets.load_iris()\n",
    "X = iris.data\n",
    "y = iris.target\n",
    "\n",
    "pca = PCA(n_components=3)\n",
    "pca.fit(X)\n",
    "X_ = pca.transform(X)\n",
    "\n",
    "X_[:10]"
   ]
  },
  {
   "cell_type": "markdown",
   "metadata": {
    "hidden": true
   },
   "source": [
    "Let's how each element decomposed on only three dimensions."
   ]
  },
  {
   "cell_type": "code",
   "execution_count": 21,
   "metadata": {
    "hidden": true
   },
   "outputs": [
    {
     "data": {
      "image/png": "[encoded data removed]",
      "text/plain": [
       "<matplotlib.figure.Figure at 0x7fc7873444d0>"
      ]
     },
     "metadata": {},
     "output_type": "display_data"
    }
   ],
   "source": [
    "from mpl_toolkits.mplot3d import Axes3D\n",
    "fig = plt.figure(1, figsize=(4, 3))\n",
    "plt.clf()\n",
    "ax = Axes3D(fig, rect=[0, 0, .95, 1], elev=48, azim=134)\n",
    "plt.cla()\n",
    "\n",
    "\n",
    "for name, label in [('Setosa', 0), ('Versicolour', 1), ('Virginica', 2)]:\n",
    "    ax.text3D(X[y == label, 0].mean(),\n",
    "              X[y == label, 1].mean() + 1.5,\n",
    "              X[y == label, 2].mean(), name,\n",
    "              horizontalalignment='center',\n",
    "              bbox=dict(alpha=.5, edgecolor='w', facecolor='w'))\n",
    "# Reorder the labels to have colors matching the cluster results\n",
    "y = np.choose(y, [1, 2, 0]).astype(np.float)\n",
    "ax.scatter(X[:, 0], X[:, 1], X[:, 2], c=y, cmap=plt.cm.nipy_spectral,\n",
    "           edgecolor='k')\n",
    "\n",
    "ax.w_xaxis.set_ticklabels([])\n",
    "ax.w_yaxis.set_ticklabels([])\n",
    "ax.w_zaxis.set_ticklabels([])\n",
    "\n",
    "plt.show()"
   ]
  },
  {
   "cell_type": "markdown",
   "metadata": {
    "heading_collapsed": true,
    "hidden": true
   },
   "source": [
    "## Autoencoders"
   ]
  },
  {
   "cell_type": "markdown",
   "metadata": {
    "hidden": true
   },
   "source": [
    "We can also create embeddings for multidimensional data using autoencoders.\n",
    "\n",
    "Autoencoders model the function f, where f(x) = x"
   ]
  },
  {
   "cell_type": "markdown",
   "metadata": {
    "hidden": true
   },
   "source": [
    "Autoencoders have a \"bottleneck\" part where data is reduced to a low dimensional representation and then expanded back into the same dimension as the one we've started from.\n",
    "\n",
    "The \"bottleneck\" output will be our encoding. "
   ]
  },
  {
   "cell_type": "markdown",
   "metadata": {
    "hidden": true
   },
   "source": [
    "We're going to use the MNIST dataset as well, to model what we've just said."
   ]
  },
  {
   "cell_type": "markdown",
   "metadata": {
    "hidden": true
   },
   "source": [
    "ETL... again"
   ]
  },
  {
   "cell_type": "code",
   "execution_count": 30,
   "metadata": {
    "hidden": true
   },
   "outputs": [],
   "source": [
    "from keras.datasets import mnist\n",
    "(x_train, y_train), (x_test, y_test) = mnist.load_data()"
   ]
  },
  {
   "cell_type": "code",
   "execution_count": 38,
   "metadata": {
    "hidden": true
   },
   "outputs": [
    {
     "name": "stdout",
     "output_type": "stream",
     "text": [
      "(60000, 28, 28, 1)\n"
     ]
    }
   ],
   "source": [
    "X = np.expand_dims(x_train, -1)\n",
    "print(X.shape)\n",
    "\n",
    "X_val = np.expand_dims(x_test, -1)\n",
    "\n",
    "from keras.utils.np_utils import to_categorical\n",
    "y = to_categorical(y_train)\n",
    "y_val = to_categorical(y_test)"
   ]
  },
  {
   "cell_type": "code",
   "execution_count": 39,
   "metadata": {
    "hidden": true
   },
   "outputs": [
    {
     "name": "stdout",
     "output_type": "stream",
     "text": [
      "(60000, 28, 28)\n"
     ]
    },
    {
     "data": {
      "image/png": "[encoded data removed]",
      "text/plain": [
       "<matplotlib.figure.Figure at 0x7fc7095fe5d0>"
      ]
     },
     "metadata": {},
     "output_type": "display_data"
    },
    {
     "data": {
      "image/png": "[encoded data removed]",
      "text/plain": [
       "<matplotlib.figure.Figure at 0x7fc70adb3890>"
      ]
     },
     "metadata": {},
     "output_type": "display_data"
    }
   ],
   "source": [
    "# Data shape\n",
    "print(x_train.shape)\n",
    "\n",
    "# show raw pixels\n",
    "plt.imshow(x_train[0], cmap='gray')\n",
    "\n",
    "# plot the first 10 images\n",
    "plots(x_train[:10], titles=y_train[:10])"
   ]
  },
  {
   "cell_type": "markdown",
   "metadata": {
    "hidden": true
   },
   "source": [
    "The model that we are going to create will look as follows"
   ]
  },
  {
   "cell_type": "markdown",
   "metadata": {
    "hidden": true
   },
   "source": [
    "![image.png](https://cdn-images-1.medium.com/max/1600/1*MMRDQ4g3QvQNc7iJsKM9pg@2x.png)"
   ]
  },
  {
   "cell_type": "code",
   "execution_count": 61,
   "metadata": {
    "hidden": true
   },
   "outputs": [
    {
     "name": "stdout",
     "output_type": "stream",
     "text": [
      "____________________________________________________________________________________________________\n",
      "Layer (type)                     Output Shape          Param #     Connected to                     \n",
      "====================================================================================================\n",
      "input_24 (InputLayer)            (None, 28, 28, 1)     0                                            \n",
      "____________________________________________________________________________________________________\n",
      "convolution2d_47 (Convolution2D) (None, 28, 28, 16)    160         input_24[0][0]                   \n",
      "____________________________________________________________________________________________________\n",
      "maxpooling2d_22 (MaxPooling2D)   (None, 14, 14, 16)    0           convolution2d_47[0][0]           \n",
      "____________________________________________________________________________________________________\n",
      "convolution2d_48 (Convolution2D) (None, 14, 14, 8)     1160        maxpooling2d_22[0][0]            \n",
      "____________________________________________________________________________________________________\n",
      "maxpooling2d_23 (MaxPooling2D)   (None, 7, 7, 8)       0           convolution2d_48[0][0]           \n",
      "____________________________________________________________________________________________________\n",
      "convolution2d_49 (Convolution2D) (None, 7, 7, 8)       584         maxpooling2d_23[0][0]            \n",
      "____________________________________________________________________________________________________\n",
      "maxpooling2d_24 (MaxPooling2D)   (None, 4, 4, 8)       0           convolution2d_49[0][0]           \n",
      "____________________________________________________________________________________________________\n",
      "convolution2d_50 (Convolution2D) (None, 4, 4, 8)       584         maxpooling2d_24[0][0]            \n",
      "____________________________________________________________________________________________________\n",
      "upsampling2d_19 (UpSampling2D)   (None, 8, 8, 8)       0           convolution2d_50[0][0]           \n",
      "____________________________________________________________________________________________________\n",
      "convolution2d_51 (Convolution2D) (None, 8, 8, 8)       584         upsampling2d_19[0][0]            \n",
      "____________________________________________________________________________________________________\n",
      "upsampling2d_20 (UpSampling2D)   (None, 16, 16, 8)     0           convolution2d_51[0][0]           \n",
      "____________________________________________________________________________________________________\n",
      "convolution2d_52 (Convolution2D) (None, 14, 14, 16)    1168        upsampling2d_20[0][0]            \n",
      "____________________________________________________________________________________________________\n",
      "upsampling2d_21 (UpSampling2D)   (None, 28, 28, 16)    0           convolution2d_52[0][0]           \n",
      "____________________________________________________________________________________________________\n",
      "convolution2d_53 (Convolution2D) (None, 28, 28, 1)     145         upsampling2d_21[0][0]            \n",
      "====================================================================================================\n",
      "Total params: 4,385\n",
      "Trainable params: 4,385\n",
      "Non-trainable params: 0\n",
      "____________________________________________________________________________________________________\n"
     ]
    }
   ],
   "source": [
    "from keras.layers import Input, Dense, Convolution2D, MaxPooling2D, UpSampling2D\n",
    "from keras.models import Model\n",
    "\n",
    "input_img = Input(shape=(28, 28, 1))\n",
    "\n",
    "# -----------\n",
    "# The encoder\n",
    "# -----------\n",
    "x = Convolution2D(16, 3, 3, activation='relu', border_mode='same')(input_img)\n",
    "x = MaxPooling2D((2, 2), border_mode='same')(x)\n",
    "x = Convolution2D(8, 3, 3, activation='relu', border_mode='same')(x)\n",
    "x = MaxPooling2D((2, 2), border_mode='same')(x)\n",
    "x = Convolution2D(8, 3, 3, activation='relu', border_mode='same')(x)\n",
    "encoded = MaxPooling2D((2, 2), border_mode='same')(x)\n",
    "\n",
    "\n",
    "# at this point the representation is (4, 4, 8) i.e. 128-dimensional\n",
    "\n",
    "\n",
    "# -----------\n",
    "# The decoder\n",
    "# -----------\n",
    "x = Convolution2D(8, 3, 3, activation='relu', border_mode='same')(encoded)\n",
    "x = UpSampling2D((2, 2))(x)\n",
    "x = Convolution2D(8, 3, 3, activation='relu', border_mode='same')(x)\n",
    "x = UpSampling2D((2, 2))(x)\n",
    "x = Convolution2D(16, 3, 3, activation='relu')(x)\n",
    "x = UpSampling2D((2, 2))(x)\n",
    "decoded = Convolution2D(1, 3, 3, activation='sigmoid', border_mode='same')(x)\n",
    "\n",
    "autoencoder = Model(input_img, decoded)\n",
    "autoencoder.compile(optimizer='adadelta', loss='binary_crossentropy')\n",
    "\n",
    "autoencoder.summary()"
   ]
  },
  {
   "cell_type": "code",
   "execution_count": 70,
   "metadata": {
    "hidden": true
   },
   "outputs": [
    {
     "name": "stdout",
     "output_type": "stream",
     "text": [
      "Train on 60000 samples, validate on 10000 samples\n",
      "Epoch 1/10\n",
      "60000/60000 [==============================] - 79s - loss: -523.6325 - val_loss: -531.9488\n",
      "Epoch 2/10\n",
      "60000/60000 [==============================] - 79s - loss: -524.6607 - val_loss: -532.4966\n",
      "Epoch 3/10\n",
      "60000/60000 [==============================] - 81s - loss: -525.0491 - val_loss: -532.7882\n",
      "Epoch 4/10\n",
      "60000/60000 [==============================] - 82s - loss: -525.2669 - val_loss: -532.9055\n",
      "Epoch 5/10\n",
      "60000/60000 [==============================] - 78s - loss: -525.4088 - val_loss: -533.0264\n",
      "Epoch 6/10\n",
      "60000/60000 [==============================] - 85s - loss: -525.5086 - val_loss: -533.1522\n",
      "Epoch 7/10\n",
      "60000/60000 [==============================] - 79s - loss: -525.5668 - val_loss: -533.2292\n",
      "Epoch 8/10\n",
      "60000/60000 [==============================] - 80s - loss: -525.6431 - val_loss: -533.2739\n",
      "Epoch 9/10\n",
      "60000/60000 [==============================] - 85s - loss: -525.7007 - val_loss: -533.2745\n",
      "Epoch 10/10\n",
      "60000/60000 [==============================] - 89s - loss: -525.7559 - val_loss: -533.1048\n"
     ]
    },
    {
     "data": {
      "text/plain": [
       "<keras.callbacks.History at 0x7fc77956f610>"
      ]
     },
     "execution_count": 70,
     "metadata": {},
     "output_type": "execute_result"
    }
   ],
   "source": [
    "autoencoder.fit(X, X,\n",
    "                nb_epoch=10,\n",
    "                batch_size=256,\n",
    "                shuffle=True,\n",
    "                validation_data=(X_val, X_val))"
   ]
  },
  {
   "cell_type": "markdown",
   "metadata": {
    "hidden": true
   },
   "source": [
    "Let's see the reconstruction of a single example"
   ]
  },
  {
   "cell_type": "code",
   "execution_count": 71,
   "metadata": {
    "hidden": true
   },
   "outputs": [
    {
     "data": {
      "image/png": "[encoded data removed]",
      "text/plain": [
       "<matplotlib.figure.Figure at 0x7fc77b6bded0>"
      ]
     },
     "metadata": {},
     "output_type": "display_data"
    }
   ],
   "source": [
    "plots(autoencoder.predict(np.array([X[0]])))"
   ]
  },
  {
   "cell_type": "code",
   "execution_count": 66,
   "metadata": {
    "hidden": true
   },
   "outputs": [],
   "source": [
    "encoder = Model(input_img, encoded)"
   ]
  },
  {
   "cell_type": "code",
   "execution_count": 69,
   "metadata": {
    "hidden": true
   },
   "outputs": [
    {
     "data": {
      "text/plain": [
       "(4, 4, 8)"
      ]
     },
     "execution_count": 69,
     "metadata": {},
     "output_type": "execute_result"
    }
   ],
   "source": [
    "encoder.predict(X[:1])[0].shape"
   ]
  },
  {
   "cell_type": "markdown",
   "metadata": {
    "hidden": true
   },
   "source": [
    "In the end, the \"embeddings\" will can be mapped like this."
   ]
  },
  {
   "cell_type": "markdown",
   "metadata": {
    "hidden": true
   },
   "source": [
    "![image.png](https://blog.keras.io/img/ae/vae_classes_plane.png)"
   ]
  },
  {
   "cell_type": "code",
   "execution_count": 29,
   "metadata": {
    "hidden": true
   },
   "outputs": [],
   "source": [
    "def plots(ims, figsize=(12, 6), rows=1, interp=False, titles=None, display=False):\n",
    "    if type(ims[0]) is np.ndarray:\n",
    "        ims = np.array(ims).astype(np.uint8)\n",
    "        if len(ims.shape) != 3:\n",
    "            # Find out if the last dimension is not the color channel.\n",
    "            # If we have K.dim_ordering('th') then the color channel is the second dimension\n",
    "            # The code bellow ensures the images are in the K.dim_ordering('tf') format (channels last)\n",
    "            if (ims.shape[-1] not in {1, 3}):\n",
    "                # Take the color axis(1) and put it at the back(4)\n",
    "                ims = ims.transpose((0, 2, 3, 1))\n",
    "        else:\n",
    "            # We have no color information, so no need to change the dimensions to put color on the back\n",
    "            pass\n",
    "\n",
    "    f = plt.figure(figsize=figsize)\n",
    "    for i in range(len(ims)):\n",
    "        sp = f.add_subplot(rows, len(ims) // rows, i + 1)\n",
    "        sp.axis('Off')\n",
    "        if titles is not None:\n",
    "            sp.set_title(titles[i], fontsize=16)\n",
    "        if ims.shape[-1] == 1:\n",
    "            # Last axis is a single color channel so we can discard it and treat the data as a gray image\n",
    "            plt.imshow(np.squeeze(ims[i]), interpolation=None if interp else 'none', cmap='gray')\n",
    "        else:\n",
    "            plt.imshow(ims[i], interpolation=None if interp else 'none')\n",
    "    if display:\n",
    "        return f"
   ]
  },
  {
   "cell_type": "markdown",
   "metadata": {
    "heading_collapsed": true
   },
   "source": [
    "# Conclusions"
   ]
  },
  {
   "cell_type": "markdown",
   "metadata": {
    "hidden": true
   },
   "source": [
    "* IDs always mean embeddings!\n",
    "* NLP stands on the sholders of word2vec, glove, fasttext\n",
    "* Usually, embeddings are additive"
   ]
  },
  {
   "cell_type": "markdown",
   "metadata": {
    "heading_collapsed": true
   },
   "source": [
    "# QA"
   ]
  },
  {
   "cell_type": "markdown",
   "metadata": {
    "hidden": true
   },
   "source": [
    "* www.clungu.com"
   ]
  }
 ],
 "metadata": {
  "kernelspec": {
   "display_name": "Python 3",
   "language": "python",
   "name": "python3"
  },
  "language_info": {
   "codemirror_mode": {
    "name": "ipython",
    "version": 2
   },
   "file_extension": ".py",
   "mimetype": "text/x-python",
   "name": "python",
   "nbconvert_exporter": "python",
   "pygments_lexer": "ipython2",
   "version": "2.7.12"
  },
  "toc": {
   "colors": {
    "hover_highlight": "#DAA520",
    "navigate_num": "#000000",
    "navigate_text": "#333333",
    "running_highlight": "#FF0000",
    "selected_highlight": "#FFD700",
    "sidebar_border": "#EEEEEE",
    "wrapper_background": "#FFFFFF"
   },
   "moveMenuLeft": true,
   "nav_menu": {
    "height": "278px",
    "width": "251px"
   },
   "navigate_menu": true,
   "number_sections": true,
   "sideBar": true,
   "threshold": 4,
   "toc_cell": false,
   "toc_section_display": "block",
   "toc_window_display": true,
   "widenNotebook": false
  }
 },
 "nbformat": 4,
 "nbformat_minor": 2
}
