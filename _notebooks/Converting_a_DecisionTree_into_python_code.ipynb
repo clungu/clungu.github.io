{
  "nbformat": 4,
  "nbformat_minor": 0,
  "metadata": {
    "colab": {
      "name": "Converting a DecisionTree into python code.ipynb",
      "provenance": [],
      "collapsed_sections": [],
      "toc_visible": true
    },
    "kernelspec": {
      "name": "python3",
      "display_name": "Python 3"
    },
    "widgets": {
      "application/vnd.jupyter.widget-state+json": {
        "f3f424931cde4f5fb1cd2eab474bc802": {
          "model_module": "@jupyter-widgets/controls",
          "model_name": "HBoxModel",
          "state": {
            "_view_name": "HBoxView",
            "_dom_classes": [],
            "_model_name": "HBoxModel",
            "_view_module": "@jupyter-widgets/controls",
            "_model_module_version": "1.5.0",
            "_view_count": null,
            "_view_module_version": "1.5.0",
            "box_style": "",
            "layout": "IPY_MODEL_d60826ddc58644b88d01f18aa8b22ba2",
            "_model_module": "@jupyter-widgets/controls",
            "children": [
              "IPY_MODEL_33efb576b0514f6d9e86c7e1eb9d7ee1",
              "IPY_MODEL_efa414a60721493bb00fc77ae5cc7fa7"
            ]
          }
        },
        "d60826ddc58644b88d01f18aa8b22ba2": {
          "model_module": "@jupyter-widgets/base",
          "model_name": "LayoutModel",
          "state": {
            "_view_name": "LayoutView",
            "grid_template_rows": null,
            "right": null,
            "justify_content": null,
            "_view_module": "@jupyter-widgets/base",
            "overflow": null,
            "_model_module_version": "1.2.0",
            "_view_count": null,
            "flex_flow": null,
            "width": null,
            "min_width": null,
            "border": null,
            "align_items": null,
            "bottom": null,
            "_model_module": "@jupyter-widgets/base",
            "top": null,
            "grid_column": null,
            "overflow_y": null,
            "overflow_x": null,
            "grid_auto_flow": null,
            "grid_area": null,
            "grid_template_columns": null,
            "flex": null,
            "_model_name": "LayoutModel",
            "justify_items": null,
            "grid_row": null,
            "max_height": null,
            "align_content": null,
            "visibility": null,
            "align_self": null,
            "height": null,
            "min_height": null,
            "padding": null,
            "grid_auto_rows": null,
            "grid_gap": null,
            "max_width": null,
            "order": null,
            "_view_module_version": "1.2.0",
            "grid_template_areas": null,
            "object_position": null,
            "object_fit": null,
            "grid_auto_columns": null,
            "margin": null,
            "display": null,
            "left": null
          }
        },
        "33efb576b0514f6d9e86c7e1eb9d7ee1": {
          "model_module": "@jupyter-widgets/controls",
          "model_name": "FloatProgressModel",
          "state": {
            "_view_name": "ProgressView",
            "style": "IPY_MODEL_f55fba7606ed4dcf883bd6ae98c53774",
            "_dom_classes": [],
            "description": "100%",
            "_model_name": "FloatProgressModel",
            "bar_style": "success",
            "max": 150,
            "_view_module": "@jupyter-widgets/controls",
            "_model_module_version": "1.5.0",
            "value": 150,
            "_view_count": null,
            "_view_module_version": "1.5.0",
            "orientation": "horizontal",
            "min": 0,
            "description_tooltip": null,
            "_model_module": "@jupyter-widgets/controls",
            "layout": "IPY_MODEL_20a0fa6759cd471783cbd38cca1e8cd7"
          }
        },
        "efa414a60721493bb00fc77ae5cc7fa7": {
          "model_module": "@jupyter-widgets/controls",
          "model_name": "HTMLModel",
          "state": {
            "_view_name": "HTMLView",
            "style": "IPY_MODEL_d03d65b9c3954f419eb921962d125cb1",
            "_dom_classes": [],
            "description": "",
            "_model_name": "HTMLModel",
            "placeholder": "​",
            "_view_module": "@jupyter-widgets/controls",
            "_model_module_version": "1.5.0",
            "value": " 150/150 [00:04&lt;00:00, 33.94it/s]",
            "_view_count": null,
            "_view_module_version": "1.5.0",
            "description_tooltip": null,
            "_model_module": "@jupyter-widgets/controls",
            "layout": "IPY_MODEL_f12aee3db6a14ba08e800b75ea1c78e3"
          }
        },
        "f55fba7606ed4dcf883bd6ae98c53774": {
          "model_module": "@jupyter-widgets/controls",
          "model_name": "ProgressStyleModel",
          "state": {
            "_view_name": "StyleView",
            "_model_name": "ProgressStyleModel",
            "description_width": "initial",
            "_view_module": "@jupyter-widgets/base",
            "_model_module_version": "1.5.0",
            "_view_count": null,
            "_view_module_version": "1.2.0",
            "bar_color": null,
            "_model_module": "@jupyter-widgets/controls"
          }
        },
        "20a0fa6759cd471783cbd38cca1e8cd7": {
          "model_module": "@jupyter-widgets/base",
          "model_name": "LayoutModel",
          "state": {
            "_view_name": "LayoutView",
            "grid_template_rows": null,
            "right": null,
            "justify_content": null,
            "_view_module": "@jupyter-widgets/base",
            "overflow": null,
            "_model_module_version": "1.2.0",
            "_view_count": null,
            "flex_flow": null,
            "width": null,
            "min_width": null,
            "border": null,
            "align_items": null,
            "bottom": null,
            "_model_module": "@jupyter-widgets/base",
            "top": null,
            "grid_column": null,
            "overflow_y": null,
            "overflow_x": null,
            "grid_auto_flow": null,
            "grid_area": null,
            "grid_template_columns": null,
            "flex": null,
            "_model_name": "LayoutModel",
            "justify_items": null,
            "grid_row": null,
            "max_height": null,
            "align_content": null,
            "visibility": null,
            "align_self": null,
            "height": null,
            "min_height": null,
            "padding": null,
            "grid_auto_rows": null,
            "grid_gap": null,
            "max_width": null,
            "order": null,
            "_view_module_version": "1.2.0",
            "grid_template_areas": null,
            "object_position": null,
            "object_fit": null,
            "grid_auto_columns": null,
            "margin": null,
            "display": null,
            "left": null
          }
        },
        "d03d65b9c3954f419eb921962d125cb1": {
          "model_module": "@jupyter-widgets/controls",
          "model_name": "DescriptionStyleModel",
          "state": {
            "_view_name": "StyleView",
            "_model_name": "DescriptionStyleModel",
            "description_width": "",
            "_view_module": "@jupyter-widgets/base",
            "_model_module_version": "1.5.0",
            "_view_count": null,
            "_view_module_version": "1.2.0",
            "_model_module": "@jupyter-widgets/controls"
          }
        },
        "f12aee3db6a14ba08e800b75ea1c78e3": {
          "model_module": "@jupyter-widgets/base",
          "model_name": "LayoutModel",
          "state": {
            "_view_name": "LayoutView",
            "grid_template_rows": null,
            "right": null,
            "justify_content": null,
            "_view_module": "@jupyter-widgets/base",
            "overflow": null,
            "_model_module_version": "1.2.0",
            "_view_count": null,
            "flex_flow": null,
            "width": null,
            "min_width": null,
            "border": null,
            "align_items": null,
            "bottom": null,
            "_model_module": "@jupyter-widgets/base",
            "top": null,
            "grid_column": null,
            "overflow_y": null,
            "overflow_x": null,
            "grid_auto_flow": null,
            "grid_area": null,
            "grid_template_columns": null,
            "flex": null,
            "_model_name": "LayoutModel",
            "justify_items": null,
            "grid_row": null,
            "max_height": null,
            "align_content": null,
            "visibility": null,
            "align_self": null,
            "height": null,
            "min_height": null,
            "padding": null,
            "grid_auto_rows": null,
            "grid_gap": null,
            "max_width": null,
            "order": null,
            "_view_module_version": "1.2.0",
            "grid_template_areas": null,
            "object_position": null,
            "object_fit": null,
            "grid_auto_columns": null,
            "margin": null,
            "display": null,
            "left": null
          }
        }
      }
    }
  },
  "cells": [
    {
      "cell_type": "markdown",
      "metadata": {
        "id": "xxP9uvvhUve7"
      },
      "source": [
        "It is sometimes usefull to be able to convert a decision tree into and actual usefull code snippet. This notebook shows how you'd go around to achieve this."
      ]
    },
    {
      "cell_type": "markdown",
      "metadata": {
        "id": "KqU8J6MBVDsf"
      },
      "source": [
        "We will use as an example, the iris dataset (which is a toy example and not really that interesting but sufficiently interesting that we can show a usable final result and make a point).\n",
        "\n",
        "We will take the dataset, split it into training set and testing set (70%/15%) and we will train a minimal DecisionTree over it.\n",
        "\n",
        "With the above trained decision tree we can convert it into actual python code."
      ]
    },
    {
      "cell_type": "markdown",
      "metadata": {
        "id": "JCD2_INAVCT2"
      },
      "source": [
        "# Setup"
      ]
    },
    {
      "cell_type": "code",
      "metadata": {
        "id": "efX5dG9tTCDR"
      },
      "source": [
        "import pandas as pd\n",
        "\n",
        "from sklearn.datasets import load_iris\n",
        "from sklearn.tree import DecisionTreeClassifier\n",
        "from sklearn.metrics import classification_report\n",
        "from sklearn.model_selection import train_test_split\n",
        "import numpy as np"
      ],
      "execution_count": 6,
      "outputs": []
    },
    {
      "cell_type": "markdown",
      "metadata": {
        "id": "rNX7BApLVaIJ"
      },
      "source": [
        "Get the dataset"
      ]
    },
    {
      "cell_type": "code",
      "metadata": {
        "colab": {
          "base_uri": "https://localhost:8080/",
          "height": 204
        },
        "id": "xpEZy6qyS9nD",
        "outputId": "29fb08a4-f102-4589-af0c-1b6875e6aaa9"
      },
      "source": [
        "dataset = load_iris()\n",
        "df = pd.DataFrame(data=dataset.data, columns=dataset.feature_names)\n",
        "df['target'] = dataset.target\n",
        "\n",
        "df.head()"
      ],
      "execution_count": 2,
      "outputs": [
        {
          "output_type": "execute_result",
          "data": {
            "text/html": [
              "<div>\n",
              "<style scoped>\n",
              "    .dataframe tbody tr th:only-of-type {\n",
              "        vertical-align: middle;\n",
              "    }\n",
              "\n",
              "    .dataframe tbody tr th {\n",
              "        vertical-align: top;\n",
              "    }\n",
              "\n",
              "    .dataframe thead th {\n",
              "        text-align: right;\n",
              "    }\n",
              "</style>\n",
              "<table border=\"1\" class=\"dataframe\">\n",
              "  <thead>\n",
              "    <tr style=\"text-align: right;\">\n",
              "      <th></th>\n",
              "      <th>sepal length (cm)</th>\n",
              "      <th>sepal width (cm)</th>\n",
              "      <th>petal length (cm)</th>\n",
              "      <th>petal width (cm)</th>\n",
              "      <th>target</th>\n",
              "    </tr>\n",
              "  </thead>\n",
              "  <tbody>\n",
              "    <tr>\n",
              "      <th>0</th>\n",
              "      <td>5.1</td>\n",
              "      <td>3.5</td>\n",
              "      <td>1.4</td>\n",
              "      <td>0.2</td>\n",
              "      <td>0</td>\n",
              "    </tr>\n",
              "    <tr>\n",
              "      <th>1</th>\n",
              "      <td>4.9</td>\n",
              "      <td>3.0</td>\n",
              "      <td>1.4</td>\n",
              "      <td>0.2</td>\n",
              "      <td>0</td>\n",
              "    </tr>\n",
              "    <tr>\n",
              "      <th>2</th>\n",
              "      <td>4.7</td>\n",
              "      <td>3.2</td>\n",
              "      <td>1.3</td>\n",
              "      <td>0.2</td>\n",
              "      <td>0</td>\n",
              "    </tr>\n",
              "    <tr>\n",
              "      <th>3</th>\n",
              "      <td>4.6</td>\n",
              "      <td>3.1</td>\n",
              "      <td>1.5</td>\n",
              "      <td>0.2</td>\n",
              "      <td>0</td>\n",
              "    </tr>\n",
              "    <tr>\n",
              "      <th>4</th>\n",
              "      <td>5.0</td>\n",
              "      <td>3.6</td>\n",
              "      <td>1.4</td>\n",
              "      <td>0.2</td>\n",
              "      <td>0</td>\n",
              "    </tr>\n",
              "  </tbody>\n",
              "</table>\n",
              "</div>"
            ],
            "text/plain": [
              "   sepal length (cm)  sepal width (cm)  ...  petal width (cm)  target\n",
              "0                5.1               3.5  ...               0.2       0\n",
              "1                4.9               3.0  ...               0.2       0\n",
              "2                4.7               3.2  ...               0.2       0\n",
              "3                4.6               3.1  ...               0.2       0\n",
              "4                5.0               3.6  ...               0.2       0\n",
              "\n",
              "[5 rows x 5 columns]"
            ]
          },
          "metadata": {
            "tags": []
          },
          "execution_count": 2
        }
      ]
    },
    {
      "cell_type": "markdown",
      "metadata": {
        "id": "Cv8Xa-YXkFpz"
      },
      "source": [
        "Train / test splitting."
      ]
    },
    {
      "cell_type": "code",
      "metadata": {
        "colab": {
          "base_uri": "https://localhost:8080/"
        },
        "id": "uCWsMGoRTBRi",
        "outputId": "64d57dea-6c48-46df-dfa0-548921575295"
      },
      "source": [
        "df_train, df_test = train_test_split(df, test_size=0.3, random_state=0)\n",
        "df_train.shape, df_test.shape, df_train.shape[0] / (df_train.shape[0] + df_test.shape[0])"
      ],
      "execution_count": 23,
      "outputs": [
        {
          "output_type": "execute_result",
          "data": {
            "text/plain": [
              "((105, 5), (45, 5), 0.7)"
            ]
          },
          "metadata": {
            "tags": []
          },
          "execution_count": 23
        }
      ]
    },
    {
      "cell_type": "markdown",
      "metadata": {
        "id": "3OMN4YwYkHkw"
      },
      "source": [
        "Train the `DecisionTree` model that we will work on."
      ]
    },
    {
      "cell_type": "code",
      "metadata": {
        "colab": {
          "base_uri": "https://localhost:8080/"
        },
        "id": "oiJebHTaTcpu",
        "outputId": "2d80b593-2d19-448a-980f-1c10d38207be"
      },
      "source": [
        "dt = DecisionTreeClassifier(max_depth=5, random_state=0)\n",
        "dt.fit(df_train.drop(columns='target'), df_train['target'])\n",
        "\n",
        "print(classification_report(df_test['target'], dt.predict(df_test.drop(columns='target'))))"
      ],
      "execution_count": 24,
      "outputs": [
        {
          "output_type": "stream",
          "text": [
            "              precision    recall  f1-score   support\n",
            "\n",
            "           0       1.00      1.00      1.00        16\n",
            "           1       1.00      0.94      0.97        18\n",
            "           2       0.92      1.00      0.96        11\n",
            "\n",
            "    accuracy                           0.98        45\n",
            "   macro avg       0.97      0.98      0.98        45\n",
            "weighted avg       0.98      0.98      0.98        45\n",
            "\n"
          ],
          "name": "stdout"
        }
      ]
    },
    {
      "cell_type": "markdown",
      "metadata": {
        "id": "k4mdDEHmhpDJ"
      },
      "source": [
        "The tree we've just trained[*] has the structure from the figure bellow.\n",
        "\n",
        "[*] We've used the [dtreeviz](https://github.com/parrt/dtreeviz) library to generate this visualisation and since we have a fixed `random_state=0` in all steps that might generate different results between runs, I'm pretty confident that this outcome is reproducible.  "
      ]
    },
    {
      "cell_type": "markdown",
      "metadata": {
        "id": "De69JIc1hnIa"
      },
      "source": [
        "![image.png](data:image/png;base64,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)"
      ]
    },
    {
      "cell_type": "markdown",
      "metadata": {
        "id": "vDy-xpb7geE1"
      },
      "source": [
        "# Code conversion"
      ]
    },
    {
      "cell_type": "markdown",
      "metadata": {
        "id": "jtPQD2myiS9W"
      },
      "source": [
        "Ok, so we have a `DecisionTree` object that functions as you can see above and we want to convert that into actual running code. \n",
        "\n",
        "We will largely use and improve upon the code @paulkernfeld and @NirIzr provided in [this stackoverflow answer](https://stackoverflow.com/questions/20224526/how-to-extract-the-decision-rules-from-scikit-learn-decision-tree)."
      ]
    },
    {
      "cell_type": "code",
      "metadata": {
        "colab": {
          "base_uri": "https://localhost:8080/"
        },
        "id": "5gp33md8S2Q4",
        "outputId": "21576276-5a89-491f-9e6f-2dbd40e663ef"
      },
      "source": [
        "from sklearn.tree import _tree\n",
        "PYTHON_INDENT_STEP = \"  \"\n",
        "\n",
        "def pythonize(feature_name):\n",
        "    \"\"\"\n",
        "    Since we will be likely using the columns names of some datasets, and will wish to \n",
        "    have some python parmeters for referencing them we need to make sure that these \n",
        "    names abide by the python varible nameing convention.\n",
        "\n",
        "    This function is a really quick and dirty way of achieveing this, in through some quick replace rules.\n",
        "    \"\"\"\n",
        "    return (\n",
        "        feature_name\n",
        "            .replace(\" \", \"_\")\n",
        "            .replace(\"(\", \"_\")\n",
        "            .replace(\")\", \"_\")\n",
        "            .replace(\"__\", \"_\")\n",
        "    )\n",
        "\n",
        "def get_node_feature_names(tree_, feature_names):\n",
        "    \"\"\"\n",
        "    Whenever possible, return the feature names (as in strings)\n",
        "    \"\"\"\n",
        "    try:\n",
        "        return [\n",
        "            pythonize(feature_names[i]) if i != _tree.TREE_UNDEFINED else \"undefined!\"\n",
        "            for i in tree_.feature\n",
        "        ]\n",
        "    except:\n",
        "        # when something goes wrong with the above, we will have numbers in the `tree_.feature` list \n",
        "        # which we want to convert to actual python variable names (i.e. by converting 5 to \"_5\")\n",
        "\n",
        "        # TODO: maybe add this rule to the `pythonize` function and use here instead\n",
        "        return [f\"_{i}\" for i in tree_.feature]\n",
        "    \n",
        "def stringify_list(_list):\n",
        "    return f\"[{', '.join(str(i) for i in _list)}]\"\n",
        "\n",
        "def probabilities(node_counts):\n",
        "    \"\"\"\n",
        "    By default, the tree stores the number of datapoints from each class in a leaf node (as the node values)\n",
        "    but we want to convert this into probabilities so the generated code acts like a propper model.\n",
        "\n",
        "    We can use `softmax` of other squish-list-to-probabilities formulas (in this case `a / sum(A)`)\n",
        "    \"\"\"\n",
        "    return node_counts / np.sum(node_counts)\n",
        "\n",
        "def tree_to_code(tree, feature_names):\n",
        "    tree_ = tree.tree_\n",
        "    feature_names = list(map(pythonize, feature_names))\n",
        "    node_feature_name = get_node_feature_names(tree_, feature_names)\n",
        "    print(f\"def tree_model({', '.join(feature_names)}):\")\n",
        "\n",
        "    def __recurse(node, depth):\n",
        "        indent = PYTHON_INDENT_STEP * depth\n",
        "        if tree_.feature[node] != _tree.TREE_UNDEFINED:\n",
        "            name = node_feature_name[node]\n",
        "            threshold = tree_.threshold[node]\n",
        "            \n",
        "            print(f\"{indent}if ({name} <= {threshold}):\")\n",
        "            __recurse(tree_.children_left[node], depth + 1)\n",
        "\n",
        "            print(f\"{indent}else:  # if ({name} > {threshold})\")\n",
        "            __recurse(tree_.children_right[node], depth + 1)\n",
        "        else:\n",
        "            print(f\"{indent}return {stringify_list(probabilities(tree_.value[node][0]))}\")\n",
        "\n",
        "    __recurse(0, 1)\n",
        "\n",
        "tree_to_code(dt, df.columns)"
      ],
      "execution_count": 25,
      "outputs": [
        {
          "output_type": "stream",
          "text": [
            "def tree_model(sepal_length_cm_, sepal_width_cm_, petal_length_cm_, petal_width_cm_, target):\n",
            "  if (petal_width_cm_ <= 0.75):\n",
            "    return [1.0, 0.0, 0.0]\n",
            "  else:  # if (petal_width_cm_ > 0.75)\n",
            "    if (petal_length_cm_ <= 4.950000047683716):\n",
            "      if (petal_width_cm_ <= 1.6500000357627869):\n",
            "        return [0.0, 1.0, 0.0]\n",
            "      else:  # if (petal_width_cm_ > 1.6500000357627869)\n",
            "        if (sepal_width_cm_ <= 3.100000023841858):\n",
            "          return [0.0, 0.0, 1.0]\n",
            "        else:  # if (sepal_width_cm_ > 3.100000023841858)\n",
            "          return [0.0, 1.0, 0.0]\n",
            "    else:  # if (petal_length_cm_ > 4.950000047683716)\n",
            "      if (petal_width_cm_ <= 1.75):\n",
            "        if (petal_width_cm_ <= 1.6500000357627869):\n",
            "          return [0.0, 0.0, 1.0]\n",
            "        else:  # if (petal_width_cm_ > 1.6500000357627869)\n",
            "          return [0.0, 1.0, 0.0]\n",
            "      else:  # if (petal_width_cm_ > 1.75)\n",
            "        return [0.0, 0.0, 1.0]\n"
          ],
          "name": "stdout"
        }
      ]
    },
    {
      "cell_type": "markdown",
      "metadata": {
        "id": "s4OpG3I8dobo"
      },
      "source": [
        "Let's also store this code into a python file that we can later on load and use."
      ]
    },
    {
      "cell_type": "code",
      "metadata": {
        "colab": {
          "base_uri": "https://localhost:8080/"
        },
        "id": "Qk_33wYKcYHz",
        "outputId": "bc048430-67de-4bc2-8751-86530d98c610"
      },
      "source": [
        "import io\n",
        "from contextlib import redirect_stdout\n",
        "\n",
        "with open(\"python_code_model.py\", \"w\") as buf, redirect_stdout(buf):\n",
        "    tree_to_code(dt, df.drop(columns='target').columns)\n",
        "\n",
        "!cat python_code_model.py"
      ],
      "execution_count": 26,
      "outputs": [
        {
          "output_type": "stream",
          "text": [
            "def tree_model(sepal_length_cm_, sepal_width_cm_, petal_length_cm_, petal_width_cm_):\n",
            "  if (petal_width_cm_ <= 0.75):\n",
            "    return [1.0, 0.0, 0.0]\n",
            "  else:  # if (petal_width_cm_ > 0.75)\n",
            "    if (petal_length_cm_ <= 4.950000047683716):\n",
            "      if (petal_width_cm_ <= 1.6500000357627869):\n",
            "        return [0.0, 1.0, 0.0]\n",
            "      else:  # if (petal_width_cm_ > 1.6500000357627869)\n",
            "        if (sepal_width_cm_ <= 3.100000023841858):\n",
            "          return [0.0, 0.0, 1.0]\n",
            "        else:  # if (sepal_width_cm_ > 3.100000023841858)\n",
            "          return [0.0, 1.0, 0.0]\n",
            "    else:  # if (petal_length_cm_ > 4.950000047683716)\n",
            "      if (petal_width_cm_ <= 1.75):\n",
            "        if (petal_width_cm_ <= 1.6500000357627869):\n",
            "          return [0.0, 0.0, 1.0]\n",
            "        else:  # if (petal_width_cm_ > 1.6500000357627869)\n",
            "          return [0.0, 1.0, 0.0]\n",
            "      else:  # if (petal_width_cm_ > 1.75)\n",
            "        return [0.0, 0.0, 1.0]\n"
          ],
          "name": "stdout"
        }
      ]
    },
    {
      "cell_type": "markdown",
      "metadata": {
        "id": "AAdUCnQ8gC85"
      },
      "source": [
        "So, now that we've wrote the code into a python file, let's load it and certify that all the predictions between the original scikit-learn model and the hardcoded one predict the same outcome.\n",
        "\n",
        "Our `tree_model` function is actually the equivalent of `predict_proba` method of a `DecisionTree` so we will compare these two on all datapoints of the dataset."
      ]
    },
    {
      "cell_type": "code",
      "metadata": {
        "colab": {
          "base_uri": "https://localhost:8080/",
          "height": 134,
          "referenced_widgets": [
            "f3f424931cde4f5fb1cd2eab474bc802",
            "d60826ddc58644b88d01f18aa8b22ba2",
            "33efb576b0514f6d9e86c7e1eb9d7ee1",
            "efa414a60721493bb00fc77ae5cc7fa7",
            "f55fba7606ed4dcf883bd6ae98c53774",
            "20a0fa6759cd471783cbd38cca1e8cd7",
            "d03d65b9c3954f419eb921962d125cb1",
            "f12aee3db6a14ba08e800b75ea1c78e3"
          ]
        },
        "id": "zILzCRFadyhO",
        "outputId": "d910ee7a-460b-43b1-af25-153416bb3dc0"
      },
      "source": [
        "%load_ext autoreload\n",
        "%autoreload 2\n",
        "\n",
        "from python_code_model import tree_model\n",
        "from tqdm.notebook import tqdm\n",
        "\n",
        "_df = df.drop(columns='target')\n",
        "for i in tqdm(range(df.shape[0])):\n",
        "    code_prediction = np.array(tree_model(*_df.iloc[i, :].values))\n",
        "    dt_prediction = dt.predict_proba(_df.iloc[i, :].values[np.newaxis, :]).squeeze()\n",
        "    assert np.allclose(code_prediction, dt_prediction)\n",
        "\n",
        "print(f\"All {df.shape[0]} datapoints had the same predictions in both the DecisionTree and the code generation model!\")\n",
        "code_prediction, dt_prediction"
      ],
      "execution_count": 27,
      "outputs": [
        {
          "output_type": "stream",
          "text": [
            "The autoreload extension is already loaded. To reload it, use:\n",
            "  %reload_ext autoreload\n"
          ],
          "name": "stdout"
        },
        {
          "output_type": "display_data",
          "data": {
            "application/vnd.jupyter.widget-view+json": {
              "model_id": "f3f424931cde4f5fb1cd2eab474bc802",
              "version_minor": 0,
              "version_major": 2
            },
            "text/plain": [
              "HBox(children=(FloatProgress(value=0.0, max=150.0), HTML(value='')))"
            ]
          },
          "metadata": {
            "tags": []
          }
        },
        {
          "output_type": "stream",
          "text": [
            "\n",
            "All 150 datapoints had the same predictions in both the DecisionTree and the code generation model!\n"
          ],
          "name": "stdout"
        },
        {
          "output_type": "execute_result",
          "data": {
            "text/plain": [
              "(array([0., 0., 1.]), array([0., 0., 1.]))"
            ]
          },
          "metadata": {
            "tags": []
          },
          "execution_count": 27
        }
      ]
    },
    {
      "cell_type": "markdown",
      "metadata": {
        "id": "pFTioMrMkbd3"
      },
      "source": [
        "It works!"
      ]
    },
    {
      "cell_type": "markdown",
      "metadata": {
        "id": "u7_8N0npUQ1k"
      },
      "source": [
        "# Conclusions "
      ]
    },
    {
      "cell_type": "markdown",
      "metadata": {
        "id": "F4uyFh1XjmFg"
      },
      "source": [
        "So we've shown how we can take a `DecisionTree` object and convert it into a python function that can be later on used as a regular module.\n",
        "\n",
        "This has several advantages:\n",
        "* Code is more interpretable than some `pickled` blob of data\n",
        "* This code has no dependency whatsoever (it doesn't depend on `pandas`, `scikit-learn`, `numpy`, etc..). I'd even argue that it doesn't even depend on `python` as well, since you can use other language constructs for crafting a valid code generation (for `C#`, `Java`, etc..)\n",
        "* Being code, you can push that into a `git` repository.\n",
        "* Being code, you can deploy the actual compiled artifact of this code in production (this doesn't really apply to `python` but other languages might benefit from this quite a lot). Let's say we are working in `C++`. Instead of pushing to production a blob of data (the model) along with the `dlls` that can read, instantiate and use the model (and of its dependencies) you can compile the code and send only tha `dll` of the code. No model data, no deserialisation code / dependencies, no code for interpreting the model data.\n",
        "* Coupled with the previous strategy of distilling a more powerfull model (a `RandomForest` or a `XGBoost` model) to a `DecisionTree` (discussed here) you get a way of deploying a powerfull model with 0 dependencies.\n",
        "\n",
        "Sure, there are some disadvantages as well:\n",
        "* This only applies to a `DecisionTree`\n",
        "* Running generated code in production is always a security leak (and if the code isn't vetted properly might crash the whole system).\n",
        "* Although you will generate code for the fitted `DecisionTree` the code won't have any of controling the fitting process (i.e. the generated model cannot be refitted unless generating a new code model)."
      ]
    },
    {
      "cell_type": "markdown",
      "metadata": {
        "id": "cxOdTYwTmIqI"
      },
      "source": [
        "You can open this notebook in Colab by using the button bellow:\n",
        "\n",
        "[![Open In Colab](https://colab.research.google.com/assets/colab-badge.svg)](https://colab.research.google.com/drive/1yHeXJHPILSBDWbCEf9OEvdhT3rdcN3LZ?usp=sharing)\n"
      ]
    }
  ]
}