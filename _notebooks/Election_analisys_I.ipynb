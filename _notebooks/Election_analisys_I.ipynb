{
 "cells": [
  {
   "cell_type": "markdown",
   "metadata": {},
   "source": [
    "On the 26th of May, we had the european parliamentary elections. In Romania, the results and progress of the vote were published online in real time on the official electoral site.\n",
    "\n",
    "As far as I know it's the first time we had such data exposed to the public, and with such granularity.\n",
    "\n",
    "Since my daily work involves working closely with data, I couldn't miss the oportunity to get my hands on that dataset. [Previously](http://www.clungu.com/Getting-data-of-an-election/) I've shown how I got the data. \n",
    "\n",
    "In this second post I'll try to do some quick analisys of it."
   ]
  },
  {
   "cell_type": "markdown",
   "metadata": {},
   "source": [
    "# Loading the data"
   ]
  },
  {
   "cell_type": "markdown",
   "metadata": {},
   "source": [
    "Just to remind ourselves what we're working with.\n",
    "\n",
    "This is the dataset:"
   ]
  },
  {
   "cell_type": "code",
   "execution_count": 510,
   "metadata": {
    "ExecuteTime": {
     "end_time": "2019-07-29T10:37:03.919835Z",
     "start_time": "2019-07-29T10:37:03.453639Z"
    }
   },
   "outputs": [
    {
     "data": {
      "text/html": [
       "<div>\n",
       "<style scoped>\n",
       "    .dataframe tbody tr th:only-of-type {\n",
       "        vertical-align: middle;\n",
       "    }\n",
       "\n",
       "    .dataframe tbody tr th {\n",
       "        vertical-align: top;\n",
       "    }\n",
       "\n",
       "    .dataframe thead th {\n",
       "        text-align: right;\n",
       "    }\n",
       "</style>\n",
       "<table border=\"1\" class=\"dataframe\">\n",
       "  <thead>\n",
       "    <tr style=\"text-align: right;\">\n",
       "      <th></th>\n",
       "      <th>liste_permanente</th>\n",
       "      <th>lista_suplimentare</th>\n",
       "      <th>total</th>\n",
       "      <th>urna_mobila</th>\n",
       "      <th>county_code</th>\n",
       "      <th>county_name</th>\n",
       "      <th>id_county</th>\n",
       "      <th>id_locality</th>\n",
       "      <th>id_precinct</th>\n",
       "      <th>id_uat</th>\n",
       "      <th>...</th>\n",
       "      <th>Femei 96</th>\n",
       "      <th>Femei 97</th>\n",
       "      <th>Femei 98</th>\n",
       "      <th>Femei 99</th>\n",
       "      <th>Femei 100</th>\n",
       "      <th>Femei 101</th>\n",
       "      <th>Femei 102</th>\n",
       "      <th>Femei 103</th>\n",
       "      <th>Femei 104</th>\n",
       "      <th>Femei 109</th>\n",
       "    </tr>\n",
       "  </thead>\n",
       "  <tbody>\n",
       "    <tr>\n",
       "      <th>0</th>\n",
       "      <td>696</td>\n",
       "      <td>63</td>\n",
       "      <td>759</td>\n",
       "      <td>0</td>\n",
       "      <td>VS</td>\n",
       "      <td>VASLUI</td>\n",
       "      <td>39</td>\n",
       "      <td>9015</td>\n",
       "      <td>16128</td>\n",
       "      <td>2936</td>\n",
       "      <td>...</td>\n",
       "      <td>0</td>\n",
       "      <td>0</td>\n",
       "      <td>0</td>\n",
       "      <td>0</td>\n",
       "      <td>0</td>\n",
       "      <td>0</td>\n",
       "      <td>0</td>\n",
       "      <td>0</td>\n",
       "      <td>0</td>\n",
       "      <td>0</td>\n",
       "    </tr>\n",
       "    <tr>\n",
       "      <th>1</th>\n",
       "      <td>140</td>\n",
       "      <td>10</td>\n",
       "      <td>150</td>\n",
       "      <td>0</td>\n",
       "      <td>VS</td>\n",
       "      <td>VASLUI</td>\n",
       "      <td>39</td>\n",
       "      <td>9015</td>\n",
       "      <td>16187</td>\n",
       "      <td>2936</td>\n",
       "      <td>...</td>\n",
       "      <td>0</td>\n",
       "      <td>0</td>\n",
       "      <td>0</td>\n",
       "      <td>0</td>\n",
       "      <td>0</td>\n",
       "      <td>0</td>\n",
       "      <td>0</td>\n",
       "      <td>0</td>\n",
       "      <td>0</td>\n",
       "      <td>0</td>\n",
       "    </tr>\n",
       "    <tr>\n",
       "      <th>2</th>\n",
       "      <td>501</td>\n",
       "      <td>25</td>\n",
       "      <td>526</td>\n",
       "      <td>0</td>\n",
       "      <td>VS</td>\n",
       "      <td>VASLUI</td>\n",
       "      <td>39</td>\n",
       "      <td>9006</td>\n",
       "      <td>16086</td>\n",
       "      <td>2933</td>\n",
       "      <td>...</td>\n",
       "      <td>0</td>\n",
       "      <td>0</td>\n",
       "      <td>0</td>\n",
       "      <td>0</td>\n",
       "      <td>0</td>\n",
       "      <td>0</td>\n",
       "      <td>0</td>\n",
       "      <td>0</td>\n",
       "      <td>0</td>\n",
       "      <td>0</td>\n",
       "    </tr>\n",
       "    <tr>\n",
       "      <th>3</th>\n",
       "      <td>571</td>\n",
       "      <td>41</td>\n",
       "      <td>612</td>\n",
       "      <td>0</td>\n",
       "      <td>VS</td>\n",
       "      <td>VASLUI</td>\n",
       "      <td>39</td>\n",
       "      <td>9006</td>\n",
       "      <td>16087</td>\n",
       "      <td>2933</td>\n",
       "      <td>...</td>\n",
       "      <td>0</td>\n",
       "      <td>0</td>\n",
       "      <td>0</td>\n",
       "      <td>0</td>\n",
       "      <td>0</td>\n",
       "      <td>0</td>\n",
       "      <td>0</td>\n",
       "      <td>0</td>\n",
       "      <td>0</td>\n",
       "      <td>0</td>\n",
       "    </tr>\n",
       "    <tr>\n",
       "      <th>4</th>\n",
       "      <td>680</td>\n",
       "      <td>55</td>\n",
       "      <td>736</td>\n",
       "      <td>1</td>\n",
       "      <td>VS</td>\n",
       "      <td>VASLUI</td>\n",
       "      <td>39</td>\n",
       "      <td>9006</td>\n",
       "      <td>16088</td>\n",
       "      <td>2933</td>\n",
       "      <td>...</td>\n",
       "      <td>0</td>\n",
       "      <td>0</td>\n",
       "      <td>0</td>\n",
       "      <td>0</td>\n",
       "      <td>0</td>\n",
       "      <td>0</td>\n",
       "      <td>0</td>\n",
       "      <td>0</td>\n",
       "      <td>0</td>\n",
       "      <td>0</td>\n",
       "    </tr>\n",
       "  </tbody>\n",
       "</table>\n",
       "<p>5 rows × 241 columns</p>\n",
       "</div>"
      ],
      "text/plain": [
       "   liste_permanente  lista_suplimentare  total  urna_mobila county_code  \\\n",
       "0               696                  63    759            0          VS   \n",
       "1               140                  10    150            0          VS   \n",
       "2               501                  25    526            0          VS   \n",
       "3               571                  41    612            0          VS   \n",
       "4               680                  55    736            1          VS   \n",
       "\n",
       "  county_name  id_county  id_locality  id_precinct  id_uat  ...  Femei 96  \\\n",
       "0      VASLUI         39         9015        16128    2936  ...         0   \n",
       "1      VASLUI         39         9015        16187    2936  ...         0   \n",
       "2      VASLUI         39         9006        16086    2933  ...         0   \n",
       "3      VASLUI         39         9006        16087    2933  ...         0   \n",
       "4      VASLUI         39         9006        16088    2933  ...         0   \n",
       "\n",
       "  Femei 97  Femei 98 Femei 99 Femei 100  Femei 101  Femei 102  Femei 103  \\\n",
       "0        0         0        0         0          0          0          0   \n",
       "1        0         0        0         0          0          0          0   \n",
       "2        0         0        0         0          0          0          0   \n",
       "3        0         0        0         0          0          0          0   \n",
       "4        0         0        0         0          0          0          0   \n",
       "\n",
       "  Femei 104 Femei 109  \n",
       "0         0         0  \n",
       "1         0         0  \n",
       "2         0         0  \n",
       "3         0         0  \n",
       "4         0         0  \n",
       "\n",
       "[5 rows x 241 columns]"
      ]
     },
     "execution_count": 510,
     "metadata": {},
     "output_type": "execute_result"
    }
   ],
   "source": [
    "import pandas as pd\n",
    "import numpy as np\n",
    "df = pd.read_csv(\"_data/final.csv\")\n",
    "df.head()"
   ]
  },
  {
   "cell_type": "markdown",
   "metadata": {},
   "source": [
    "It has 19k rows (places where voting was held)."
   ]
  },
  {
   "cell_type": "code",
   "execution_count": 7,
   "metadata": {
    "ExecuteTime": {
     "end_time": "2019-07-18T10:46:15.797545Z",
     "start_time": "2019-07-18T10:46:15.791478Z"
    }
   },
   "outputs": [
    {
     "data": {
      "text/plain": [
       "(19171, 242)"
      ]
     },
     "execution_count": 7,
     "metadata": {},
     "output_type": "execute_result"
    }
   ],
   "source": [
    "df.shape"
   ]
  },
  {
   "cell_type": "markdown",
   "metadata": {},
   "source": [
    "Some descriptive statistics about the dataset."
   ]
  },
  {
   "cell_type": "code",
   "execution_count": 8,
   "metadata": {
    "ExecuteTime": {
     "end_time": "2019-07-18T10:46:18.839208Z",
     "start_time": "2019-07-18T10:46:18.091280Z"
    },
    "collapsed": true
   },
   "outputs": [
    {
     "data": {
      "text/html": [
       "<div>\n",
       "<style scoped>\n",
       "    .dataframe tbody tr th:only-of-type {\n",
       "        vertical-align: middle;\n",
       "    }\n",
       "\n",
       "    .dataframe tbody tr th {\n",
       "        vertical-align: top;\n",
       "    }\n",
       "\n",
       "    .dataframe thead th {\n",
       "        text-align: right;\n",
       "    }\n",
       "</style>\n",
       "<table border=\"1\" class=\"dataframe\">\n",
       "  <thead>\n",
       "    <tr style=\"text-align: right;\">\n",
       "      <th></th>\n",
       "      <th>liste_permanente</th>\n",
       "      <th>lista_suplimentare</th>\n",
       "      <th>total</th>\n",
       "      <th>urna_mobila</th>\n",
       "      <th>county_code</th>\n",
       "      <th>county_name</th>\n",
       "      <th>id_county</th>\n",
       "      <th>id_locality</th>\n",
       "      <th>id_precinct</th>\n",
       "      <th>id_uat</th>\n",
       "      <th>...</th>\n",
       "      <th>Femei 96</th>\n",
       "      <th>Femei 97</th>\n",
       "      <th>Femei 98</th>\n",
       "      <th>Femei 99</th>\n",
       "      <th>Femei 100</th>\n",
       "      <th>Femei 101</th>\n",
       "      <th>Femei 102</th>\n",
       "      <th>Femei 103</th>\n",
       "      <th>Femei 104</th>\n",
       "      <th>Femei 109</th>\n",
       "    </tr>\n",
       "  </thead>\n",
       "  <tbody>\n",
       "    <tr>\n",
       "      <th>count</th>\n",
       "      <td>19171.000000</td>\n",
       "      <td>19171.000000</td>\n",
       "      <td>19171.000000</td>\n",
       "      <td>19171.000000</td>\n",
       "      <td>19171</td>\n",
       "      <td>19171</td>\n",
       "      <td>19171.000000</td>\n",
       "      <td>19171.000000</td>\n",
       "      <td>19171.000000</td>\n",
       "      <td>19171.000000</td>\n",
       "      <td>...</td>\n",
       "      <td>19171.000000</td>\n",
       "      <td>19171.000000</td>\n",
       "      <td>19171.000000</td>\n",
       "      <td>19171.000000</td>\n",
       "      <td>19171.000000</td>\n",
       "      <td>19171.000000</td>\n",
       "      <td>19171.000000</td>\n",
       "      <td>19171.000000</td>\n",
       "      <td>19171.000000</td>\n",
       "      <td>19171.000000</td>\n",
       "    </tr>\n",
       "    <tr>\n",
       "      <th>unique</th>\n",
       "      <td>NaN</td>\n",
       "      <td>NaN</td>\n",
       "      <td>NaN</td>\n",
       "      <td>NaN</td>\n",
       "      <td>43</td>\n",
       "      <td>43</td>\n",
       "      <td>NaN</td>\n",
       "      <td>NaN</td>\n",
       "      <td>NaN</td>\n",
       "      <td>NaN</td>\n",
       "      <td>...</td>\n",
       "      <td>NaN</td>\n",
       "      <td>NaN</td>\n",
       "      <td>NaN</td>\n",
       "      <td>NaN</td>\n",
       "      <td>NaN</td>\n",
       "      <td>NaN</td>\n",
       "      <td>NaN</td>\n",
       "      <td>NaN</td>\n",
       "      <td>NaN</td>\n",
       "      <td>NaN</td>\n",
       "    </tr>\n",
       "    <tr>\n",
       "      <th>top</th>\n",
       "      <td>NaN</td>\n",
       "      <td>NaN</td>\n",
       "      <td>NaN</td>\n",
       "      <td>NaN</td>\n",
       "      <td>B</td>\n",
       "      <td>MUNICIPIUL BUCUREŞTI</td>\n",
       "      <td>NaN</td>\n",
       "      <td>NaN</td>\n",
       "      <td>NaN</td>\n",
       "      <td>NaN</td>\n",
       "      <td>...</td>\n",
       "      <td>NaN</td>\n",
       "      <td>NaN</td>\n",
       "      <td>NaN</td>\n",
       "      <td>NaN</td>\n",
       "      <td>NaN</td>\n",
       "      <td>NaN</td>\n",
       "      <td>NaN</td>\n",
       "      <td>NaN</td>\n",
       "      <td>NaN</td>\n",
       "      <td>NaN</td>\n",
       "    </tr>\n",
       "    <tr>\n",
       "      <th>freq</th>\n",
       "      <td>NaN</td>\n",
       "      <td>NaN</td>\n",
       "      <td>NaN</td>\n",
       "      <td>NaN</td>\n",
       "      <td>1269</td>\n",
       "      <td>1269</td>\n",
       "      <td>NaN</td>\n",
       "      <td>NaN</td>\n",
       "      <td>NaN</td>\n",
       "      <td>NaN</td>\n",
       "      <td>...</td>\n",
       "      <td>NaN</td>\n",
       "      <td>NaN</td>\n",
       "      <td>NaN</td>\n",
       "      <td>NaN</td>\n",
       "      <td>NaN</td>\n",
       "      <td>NaN</td>\n",
       "      <td>NaN</td>\n",
       "      <td>NaN</td>\n",
       "      <td>NaN</td>\n",
       "      <td>NaN</td>\n",
       "    </tr>\n",
       "    <tr>\n",
       "      <th>mean</th>\n",
       "      <td>402.484847</td>\n",
       "      <td>81.316468</td>\n",
       "      <td>486.681863</td>\n",
       "      <td>2.880549</td>\n",
       "      <td>NaN</td>\n",
       "      <td>NaN</td>\n",
       "      <td>22.577852</td>\n",
       "      <td>5338.597517</td>\n",
       "      <td>9590.956132</td>\n",
       "      <td>1674.926817</td>\n",
       "      <td>...</td>\n",
       "      <td>0.008137</td>\n",
       "      <td>0.004016</td>\n",
       "      <td>0.001982</td>\n",
       "      <td>0.001565</td>\n",
       "      <td>0.000782</td>\n",
       "      <td>0.000156</td>\n",
       "      <td>0.000365</td>\n",
       "      <td>0.000052</td>\n",
       "      <td>0.000104</td>\n",
       "      <td>0.000052</td>\n",
       "    </tr>\n",
       "    <tr>\n",
       "      <th>std</th>\n",
       "      <td>234.090739</td>\n",
       "      <td>162.995607</td>\n",
       "      <td>279.595538</td>\n",
       "      <td>12.756191</td>\n",
       "      <td>NaN</td>\n",
       "      <td>NaN</td>\n",
       "      <td>13.044442</td>\n",
       "      <td>3033.239896</td>\n",
       "      <td>5536.418093</td>\n",
       "      <td>992.618029</td>\n",
       "      <td>...</td>\n",
       "      <td>0.093818</td>\n",
       "      <td>0.064069</td>\n",
       "      <td>0.044478</td>\n",
       "      <td>0.039528</td>\n",
       "      <td>0.027962</td>\n",
       "      <td>0.012509</td>\n",
       "      <td>0.019106</td>\n",
       "      <td>0.007222</td>\n",
       "      <td>0.010214</td>\n",
       "      <td>0.007222</td>\n",
       "    </tr>\n",
       "    <tr>\n",
       "      <th>min</th>\n",
       "      <td>0.000000</td>\n",
       "      <td>0.000000</td>\n",
       "      <td>4.000000</td>\n",
       "      <td>0.000000</td>\n",
       "      <td>NaN</td>\n",
       "      <td>NaN</td>\n",
       "      <td>1.000000</td>\n",
       "      <td>1.000000</td>\n",
       "      <td>1.000000</td>\n",
       "      <td>1.000000</td>\n",
       "      <td>...</td>\n",
       "      <td>0.000000</td>\n",
       "      <td>0.000000</td>\n",
       "      <td>0.000000</td>\n",
       "      <td>0.000000</td>\n",
       "      <td>0.000000</td>\n",
       "      <td>0.000000</td>\n",
       "      <td>0.000000</td>\n",
       "      <td>0.000000</td>\n",
       "      <td>0.000000</td>\n",
       "      <td>0.000000</td>\n",
       "    </tr>\n",
       "    <tr>\n",
       "      <th>25%</th>\n",
       "      <td>204.000000</td>\n",
       "      <td>27.000000</td>\n",
       "      <td>260.000000</td>\n",
       "      <td>0.000000</td>\n",
       "      <td>NaN</td>\n",
       "      <td>NaN</td>\n",
       "      <td>11.000000</td>\n",
       "      <td>2790.500000</td>\n",
       "      <td>4798.500000</td>\n",
       "      <td>807.000000</td>\n",
       "      <td>...</td>\n",
       "      <td>0.000000</td>\n",
       "      <td>0.000000</td>\n",
       "      <td>0.000000</td>\n",
       "      <td>0.000000</td>\n",
       "      <td>0.000000</td>\n",
       "      <td>0.000000</td>\n",
       "      <td>0.000000</td>\n",
       "      <td>0.000000</td>\n",
       "      <td>0.000000</td>\n",
       "      <td>0.000000</td>\n",
       "    </tr>\n",
       "    <tr>\n",
       "      <th>50%</th>\n",
       "      <td>401.000000</td>\n",
       "      <td>44.000000</td>\n",
       "      <td>470.000000</td>\n",
       "      <td>0.000000</td>\n",
       "      <td>NaN</td>\n",
       "      <td>NaN</td>\n",
       "      <td>23.000000</td>\n",
       "      <td>5355.000000</td>\n",
       "      <td>9591.000000</td>\n",
       "      <td>1681.000000</td>\n",
       "      <td>...</td>\n",
       "      <td>0.000000</td>\n",
       "      <td>0.000000</td>\n",
       "      <td>0.000000</td>\n",
       "      <td>0.000000</td>\n",
       "      <td>0.000000</td>\n",
       "      <td>0.000000</td>\n",
       "      <td>0.000000</td>\n",
       "      <td>0.000000</td>\n",
       "      <td>0.000000</td>\n",
       "      <td>0.000000</td>\n",
       "    </tr>\n",
       "    <tr>\n",
       "      <th>75%</th>\n",
       "      <td>582.000000</td>\n",
       "      <td>76.000000</td>\n",
       "      <td>672.000000</td>\n",
       "      <td>0.000000</td>\n",
       "      <td>NaN</td>\n",
       "      <td>NaN</td>\n",
       "      <td>34.000000</td>\n",
       "      <td>8051.000000</td>\n",
       "      <td>14383.500000</td>\n",
       "      <td>2554.000000</td>\n",
       "      <td>...</td>\n",
       "      <td>0.000000</td>\n",
       "      <td>0.000000</td>\n",
       "      <td>0.000000</td>\n",
       "      <td>0.000000</td>\n",
       "      <td>0.000000</td>\n",
       "      <td>0.000000</td>\n",
       "      <td>0.000000</td>\n",
       "      <td>0.000000</td>\n",
       "      <td>0.000000</td>\n",
       "      <td>0.000000</td>\n",
       "    </tr>\n",
       "    <tr>\n",
       "      <th>max</th>\n",
       "      <td>1263.000000</td>\n",
       "      <td>2577.000000</td>\n",
       "      <td>2577.000000</td>\n",
       "      <td>314.000000</td>\n",
       "      <td>NaN</td>\n",
       "      <td>NaN</td>\n",
       "      <td>43.000000</td>\n",
       "      <td>10419.000000</td>\n",
       "      <td>19198.000000</td>\n",
       "      <td>3283.000000</td>\n",
       "      <td>...</td>\n",
       "      <td>2.000000</td>\n",
       "      <td>2.000000</td>\n",
       "      <td>1.000000</td>\n",
       "      <td>1.000000</td>\n",
       "      <td>1.000000</td>\n",
       "      <td>1.000000</td>\n",
       "      <td>1.000000</td>\n",
       "      <td>1.000000</td>\n",
       "      <td>1.000000</td>\n",
       "      <td>1.000000</td>\n",
       "    </tr>\n",
       "  </tbody>\n",
       "</table>\n",
       "<p>11 rows × 242 columns</p>\n",
       "</div>"
      ],
      "text/plain": [
       "        liste_permanente  lista_suplimentare         total   urna_mobila  \\\n",
       "count       19171.000000        19171.000000  19171.000000  19171.000000   \n",
       "unique               NaN                 NaN           NaN           NaN   \n",
       "top                  NaN                 NaN           NaN           NaN   \n",
       "freq                 NaN                 NaN           NaN           NaN   \n",
       "mean          402.484847           81.316468    486.681863      2.880549   \n",
       "std           234.090739          162.995607    279.595538     12.756191   \n",
       "min             0.000000            0.000000      4.000000      0.000000   \n",
       "25%           204.000000           27.000000    260.000000      0.000000   \n",
       "50%           401.000000           44.000000    470.000000      0.000000   \n",
       "75%           582.000000           76.000000    672.000000      0.000000   \n",
       "max          1263.000000         2577.000000   2577.000000    314.000000   \n",
       "\n",
       "       county_code           county_name     id_county   id_locality  \\\n",
       "count        19171                 19171  19171.000000  19171.000000   \n",
       "unique          43                    43           NaN           NaN   \n",
       "top              B  MUNICIPIUL BUCUREŞTI           NaN           NaN   \n",
       "freq          1269                  1269           NaN           NaN   \n",
       "mean           NaN                   NaN     22.577852   5338.597517   \n",
       "std            NaN                   NaN     13.044442   3033.239896   \n",
       "min            NaN                   NaN      1.000000      1.000000   \n",
       "25%            NaN                   NaN     11.000000   2790.500000   \n",
       "50%            NaN                   NaN     23.000000   5355.000000   \n",
       "75%            NaN                   NaN     34.000000   8051.000000   \n",
       "max            NaN                   NaN     43.000000  10419.000000   \n",
       "\n",
       "         id_precinct        id_uat  ...      Femei 96      Femei 97  \\\n",
       "count   19171.000000  19171.000000  ...  19171.000000  19171.000000   \n",
       "unique           NaN           NaN  ...           NaN           NaN   \n",
       "top              NaN           NaN  ...           NaN           NaN   \n",
       "freq             NaN           NaN  ...           NaN           NaN   \n",
       "mean     9590.956132   1674.926817  ...      0.008137      0.004016   \n",
       "std      5536.418093    992.618029  ...      0.093818      0.064069   \n",
       "min         1.000000      1.000000  ...      0.000000      0.000000   \n",
       "25%      4798.500000    807.000000  ...      0.000000      0.000000   \n",
       "50%      9591.000000   1681.000000  ...      0.000000      0.000000   \n",
       "75%     14383.500000   2554.000000  ...      0.000000      0.000000   \n",
       "max     19198.000000   3283.000000  ...      2.000000      2.000000   \n",
       "\n",
       "            Femei 98      Femei 99     Femei 100     Femei 101     Femei 102  \\\n",
       "count   19171.000000  19171.000000  19171.000000  19171.000000  19171.000000   \n",
       "unique           NaN           NaN           NaN           NaN           NaN   \n",
       "top              NaN           NaN           NaN           NaN           NaN   \n",
       "freq             NaN           NaN           NaN           NaN           NaN   \n",
       "mean        0.001982      0.001565      0.000782      0.000156      0.000365   \n",
       "std         0.044478      0.039528      0.027962      0.012509      0.019106   \n",
       "min         0.000000      0.000000      0.000000      0.000000      0.000000   \n",
       "25%         0.000000      0.000000      0.000000      0.000000      0.000000   \n",
       "50%         0.000000      0.000000      0.000000      0.000000      0.000000   \n",
       "75%         0.000000      0.000000      0.000000      0.000000      0.000000   \n",
       "max         1.000000      1.000000      1.000000      1.000000      1.000000   \n",
       "\n",
       "           Femei 103     Femei 104     Femei 109  \n",
       "count   19171.000000  19171.000000  19171.000000  \n",
       "unique           NaN           NaN           NaN  \n",
       "top              NaN           NaN           NaN  \n",
       "freq             NaN           NaN           NaN  \n",
       "mean        0.000052      0.000104      0.000052  \n",
       "std         0.007222      0.010214      0.007222  \n",
       "min         0.000000      0.000000      0.000000  \n",
       "25%         0.000000      0.000000      0.000000  \n",
       "50%         0.000000      0.000000      0.000000  \n",
       "75%         0.000000      0.000000      0.000000  \n",
       "max         1.000000      1.000000      1.000000  \n",
       "\n",
       "[11 rows x 242 columns]"
      ]
     },
     "execution_count": 8,
     "metadata": {},
     "output_type": "execute_result"
    }
   ],
   "source": [
    "df.describe(include=\"all\")"
   ]
  },
  {
   "cell_type": "markdown",
   "metadata": {},
   "source": [
    "And all the available columns we have."
   ]
  },
  {
   "cell_type": "code",
   "execution_count": 13,
   "metadata": {
    "ExecuteTime": {
     "end_time": "2019-07-18T10:48:38.019427Z",
     "start_time": "2019-07-18T10:48:38.008422Z"
    },
    "collapsed": true
   },
   "outputs": [
    {
     "data": {
      "text/plain": [
       "['liste_permanente',\n",
       " 'lista_suplimentare',\n",
       " 'total',\n",
       " 'urna_mobila',\n",
       " 'county_code',\n",
       " 'county_name',\n",
       " 'id_county',\n",
       " 'id_locality',\n",
       " 'id_precinct',\n",
       " 'id_uat',\n",
       " 'latitude',\n",
       " 'locality_name',\n",
       " 'longitude',\n",
       " 'medium',\n",
       " 'precinct_name',\n",
       " 'precinct_nr',\n",
       " 'presence',\n",
       " 'siruta',\n",
       " 'uat_code',\n",
       " 'uat_name',\n",
       " 'men_18_24',\n",
       " 'men_25_34',\n",
       " 'men_35_44',\n",
       " 'men_45_64',\n",
       " 'men_65+',\n",
       " 'women_18_24',\n",
       " 'women_25_34',\n",
       " 'women_35_44',\n",
       " 'women_45_64',\n",
       " 'women_65+',\n",
       " 'Cod birou electoral',\n",
       " 'Localitate_x',\n",
       " 'Secție',\n",
       " 'Tip',\n",
       " 'Total alegatori',\n",
       " 'Total lista permanenta',\n",
       " 'Total urna mobila',\n",
       " 'Total prezenti',\n",
       " 'Prezenti lista permanenta',\n",
       " 'Prezenti urna mobila',\n",
       " 'Prezenti lista suplimentara',\n",
       " 'Total voturi',\n",
       " 'Voturi nefolosite',\n",
       " 'Voturi valabile',\n",
       " 'Voturi anulate',\n",
       " 'Contestatii',\n",
       " 'Starea sigiliilor',\n",
       " 'PSD',\n",
       " 'USR-PLUS',\n",
       " 'PRO Romania',\n",
       " 'UDMR',\n",
       " 'PNL',\n",
       " 'ALDE',\n",
       " 'PRODEMO',\n",
       " 'PMP',\n",
       " 'Partidul Socialist Roman',\n",
       " 'Partidul Social Democrat Independent',\n",
       " 'Partidul Romania Unita',\n",
       " 'Uniunea Nationala Pentur Progresul Romaniei',\n",
       " 'Blocul Unitatii Nationale',\n",
       " 'Gregoriana-Carmen Tudoran',\n",
       " 'George-Nicaolae Simion',\n",
       " 'Peter Costea',\n",
       " 'Siruta',\n",
       " 'Votanti lista',\n",
       " 'Barbati 18',\n",
       " 'Barbati 19',\n",
       " 'Barbati 20',\n",
       " 'Barbati 21',\n",
       " 'Barbati 22',\n",
       " 'Barbati 23',\n",
       " 'Barbati 24',\n",
       " 'Barbati 25',\n",
       " 'Barbati 26',\n",
       " 'Barbati 27',\n",
       " 'Barbati 28',\n",
       " 'Barbati 29',\n",
       " 'Barbati 30',\n",
       " 'Barbati 31',\n",
       " 'Barbati 32',\n",
       " 'Barbati 33',\n",
       " 'Barbati 34',\n",
       " 'Barbati 35',\n",
       " 'Barbati 36',\n",
       " 'Barbati 37',\n",
       " 'Barbati 38',\n",
       " 'Barbati 39',\n",
       " 'Barbati 40',\n",
       " 'Barbati 41',\n",
       " 'Barbati 42',\n",
       " 'Barbati 43',\n",
       " 'Barbati 44',\n",
       " 'Barbati 45',\n",
       " 'Barbati 46',\n",
       " 'Barbati 47',\n",
       " 'Barbati 48',\n",
       " 'Barbati 49',\n",
       " 'Barbati 50',\n",
       " 'Barbati 51',\n",
       " 'Barbati 52',\n",
       " 'Barbati 53',\n",
       " 'Barbati 54',\n",
       " 'Barbati 55',\n",
       " 'Barbati 56',\n",
       " 'Barbati 57',\n",
       " 'Barbati 58',\n",
       " 'Barbati 59',\n",
       " 'Barbati 60',\n",
       " 'Barbati 61',\n",
       " 'Barbati 62',\n",
       " 'Barbati 63',\n",
       " 'Barbati 64',\n",
       " 'Barbati 65',\n",
       " 'Barbati 66',\n",
       " 'Barbati 67',\n",
       " 'Barbati 68',\n",
       " 'Barbati 69',\n",
       " 'Barbati 70',\n",
       " 'Barbati 71',\n",
       " 'Barbati 72',\n",
       " 'Barbati 73',\n",
       " 'Barbati 74',\n",
       " 'Barbati 75',\n",
       " 'Barbati 76',\n",
       " 'Barbati 77',\n",
       " 'Barbati 78',\n",
       " 'Barbati 79',\n",
       " 'Barbati 80',\n",
       " 'Barbati 81',\n",
       " 'Barbati 82',\n",
       " 'Barbati 83',\n",
       " 'Barbati 84',\n",
       " 'Barbati 85',\n",
       " 'Barbati 86',\n",
       " 'Barbati 87',\n",
       " 'Barbati 88',\n",
       " 'Barbati 89',\n",
       " 'Barbati 90',\n",
       " 'Barbati 91',\n",
       " 'Barbati 92',\n",
       " 'Barbati 93',\n",
       " 'Barbati 94',\n",
       " 'Barbati 95',\n",
       " 'Barbati 96',\n",
       " 'Barbati 97',\n",
       " 'Barbati 98',\n",
       " 'Barbati 99',\n",
       " 'Barbati 100',\n",
       " 'Barbati 101',\n",
       " 'Barbati 102',\n",
       " 'Barbati 103',\n",
       " 'Barbati 105',\n",
       " 'Barbati 107',\n",
       " 'Barbati 111',\n",
       " 'Femei 18',\n",
       " 'Femei 19',\n",
       " 'Femei 20',\n",
       " 'Femei 21',\n",
       " 'Femei 22',\n",
       " 'Femei 23',\n",
       " 'Femei 24',\n",
       " 'Femei 25',\n",
       " 'Femei 26',\n",
       " 'Femei 27',\n",
       " 'Femei 28',\n",
       " 'Femei 29',\n",
       " 'Femei 30',\n",
       " 'Femei 31',\n",
       " 'Femei 32',\n",
       " 'Femei 33',\n",
       " 'Femei 34',\n",
       " 'Femei 35',\n",
       " 'Femei 36',\n",
       " 'Femei 37',\n",
       " 'Femei 38',\n",
       " 'Femei 39',\n",
       " 'Femei 40',\n",
       " 'Femei 41',\n",
       " 'Femei 42',\n",
       " 'Femei 43',\n",
       " 'Femei 44',\n",
       " 'Femei 45',\n",
       " 'Femei 46',\n",
       " 'Femei 47',\n",
       " 'Femei 48',\n",
       " 'Femei 49',\n",
       " 'Femei 50',\n",
       " 'Femei 51',\n",
       " 'Femei 52',\n",
       " 'Femei 53',\n",
       " 'Femei 54',\n",
       " 'Femei 55',\n",
       " 'Femei 56',\n",
       " 'Femei 57',\n",
       " 'Femei 58',\n",
       " 'Femei 59',\n",
       " 'Femei 60',\n",
       " 'Femei 61',\n",
       " 'Femei 62',\n",
       " 'Femei 63',\n",
       " 'Femei 64',\n",
       " 'Femei 65',\n",
       " 'Femei 66',\n",
       " 'Femei 67',\n",
       " 'Femei 68',\n",
       " 'Femei 69',\n",
       " 'Femei 70',\n",
       " 'Femei 71',\n",
       " 'Femei 72',\n",
       " 'Femei 73',\n",
       " 'Femei 74',\n",
       " 'Femei 75',\n",
       " 'Femei 76',\n",
       " 'Femei 77',\n",
       " 'Femei 78',\n",
       " 'Femei 79',\n",
       " 'Femei 80',\n",
       " 'Femei 81',\n",
       " 'Femei 82',\n",
       " 'Femei 83',\n",
       " 'Femei 84',\n",
       " 'Femei 85',\n",
       " 'Femei 86',\n",
       " 'Femei 87',\n",
       " 'Femei 88',\n",
       " 'Femei 89',\n",
       " 'Femei 90',\n",
       " 'Femei 91',\n",
       " 'Femei 92',\n",
       " 'Femei 93',\n",
       " 'Femei 94',\n",
       " 'Femei 95',\n",
       " 'Femei 96',\n",
       " 'Femei 97',\n",
       " 'Femei 98',\n",
       " 'Femei 99',\n",
       " 'Femei 100',\n",
       " 'Femei 101',\n",
       " 'Femei 102',\n",
       " 'Femei 103',\n",
       " 'Femei 104',\n",
       " 'Femei 109']"
      ]
     },
     "execution_count": 13,
     "metadata": {},
     "output_type": "execute_result"
    }
   ],
   "source": [
    "list(df.columns)"
   ]
  },
  {
   "cell_type": "markdown",
   "metadata": {},
   "source": [
    "# Score validations"
   ]
  },
  {
   "cell_type": "markdown",
   "metadata": {},
   "source": [
    "The first thing I'd like to see is the percentage of votes that each party has received."
   ]
  },
  {
   "cell_type": "code",
   "execution_count": 47,
   "metadata": {
    "ExecuteTime": {
     "end_time": "2019-07-18T13:52:04.928885Z",
     "start_time": "2019-07-18T13:52:04.911931Z"
    }
   },
   "outputs": [
    {
     "data": {
      "text/plain": [
       "[('PNL', 26.25),\n",
       " ('PSD', 21.87),\n",
       " ('USR-PLUS', 21.74),\n",
       " ('PRO Romania', 6.26),\n",
       " ('PMP', 5.6),\n",
       " ('UDMR', 5.11),\n",
       " ('ALDE', 4.0)]"
      ]
     },
     "execution_count": 47,
     "metadata": {},
     "output_type": "execute_result"
    }
   ],
   "source": [
    "def score(party):\n",
    "    return df[party].sum() / df['total'].sum()\n",
    "\n",
    "parties = [\"PSD\", \"USR-PLUS\", \"PRO Romania\", \"UDMR\", \"PNL\", \"ALDE\", \"PMP\",]\n",
    "sorted([(party, np.round(score(party)*100, 2)) for party in parties], reverse=True, key=lambda x: x[1])"
   ]
  },
  {
   "cell_type": "markdown",
   "metadata": {},
   "source": [
    "Officialy (according to [here](https://www.europafm.ro/bec-anunta-rezultatele-finale-ale-alegerilor-europarlamentare/)) we have the following results.\n",
    "\n",
    "* PNL 27,0%\n",
    "* PSD 22,51%\n",
    "* ALIANȚA 2020 USR-PLUS 22,36%\n",
    "* PRO ROMÂNIA 6,55%\n",
    "* PMP 5,66%\n",
    "* UDMR 5,44%\n",
    "* ALDE 4,0%\n",
    "* Others 6,1%\n",
    "\n",
    "This is a bit at odds with the results that I've got from my computations. I'd like to see exaclty by how much.."
   ]
  },
  {
   "cell_type": "markdown",
   "metadata": {},
   "source": [
    "## Investigating some discrepancies in the numbers"
   ]
  },
  {
   "cell_type": "markdown",
   "metadata": {},
   "source": [
    "I'm going to compute the difference between my numbers and the official numbers in two ways:\n",
    "* absolute improvement, meaning the amount of percentace points that each party has changed with\n",
    "* relative score increase (i.e. how much did the absolute improvement above meant for the scores that each party got) "
   ]
  },
  {
   "cell_type": "code",
   "execution_count": 32,
   "metadata": {
    "ExecuteTime": {
     "end_time": "2019-07-18T11:29:04.297713Z",
     "start_time": "2019-07-18T11:29:04.281781Z"
    }
   },
   "outputs": [
    {
     "data": {
      "text/plain": [
       "[('UDMR', '+6.46% relative score increase', '+0.33% absolute improvement'),\n",
       " ('PRO Romania',\n",
       "  '+4.63% relative score increase',\n",
       "  '+0.29% absolute improvement'),\n",
       " ('PSD', '+2.93% relative score increase', '+0.64% absolute improvement'),\n",
       " ('PNL', '+2.86% relative score increase', '+0.75% absolute improvement'),\n",
       " ('USR-PLUS', '+2.85% relative score increase', '+0.62% absolute improvement'),\n",
       " ('PMP', '+1.07% relative score increase', '+0.06% absolute improvement'),\n",
       " ('ALDE', '+0.0% relative score increase', '+0.0% absolute improvement')]"
      ]
     },
     "execution_count": 32,
     "metadata": {},
     "output_type": "execute_result"
    }
   ],
   "source": [
    "my_results = {party: np.round(score(party)*100, 2) for party in parties}\n",
    "official_results = {\n",
    "    \"PNL\": 27.0,\n",
    "    \"PSD\": 22.51,\n",
    "    \"USR-PLUS\": 22.36,\n",
    "    \"PRO Romania\": 6.55,\n",
    "    \"PMP\": 5.66,\n",
    "    \"UDMR\": 5.44,\n",
    "    \"ALDE\": 4.0,\n",
    "    \"Others\": 6.1,\n",
    "}\n",
    "\n",
    "sorted([(\n",
    "    party, \n",
    "    f\"+{np.round((official_results[party] - my_results[party]) / my_results[party] * 100 , 2)}% relative score increase\",\n",
    "    f\"+{np.round((official_results[party] - my_results[party]), 2)}% absolute improvement\"\n",
    ") for party in parties], key=lambda x: x[1], reverse=True)"
   ]
  },
  {
   "cell_type": "code",
   "execution_count": 41,
   "metadata": {
    "ExecuteTime": {
     "end_time": "2019-07-18T11:35:55.149333Z",
     "start_time": "2019-07-18T11:35:55.126740Z"
    }
   },
   "outputs": [
    {
     "data": {
      "text/html": [
       "<div>\n",
       "<style scoped>\n",
       "    .dataframe tbody tr th:only-of-type {\n",
       "        vertical-align: middle;\n",
       "    }\n",
       "\n",
       "    .dataframe tbody tr th {\n",
       "        vertical-align: top;\n",
       "    }\n",
       "\n",
       "    .dataframe thead th {\n",
       "        text-align: right;\n",
       "    }\n",
       "</style>\n",
       "<table border=\"1\" class=\"dataframe\">\n",
       "  <thead>\n",
       "    <tr style=\"text-align: right;\">\n",
       "      <th></th>\n",
       "      <th>party</th>\n",
       "      <th>absolute improvement</th>\n",
       "      <th>relative score improvement</th>\n",
       "    </tr>\n",
       "  </thead>\n",
       "  <tbody>\n",
       "    <tr>\n",
       "      <th>3</th>\n",
       "      <td>UDMR</td>\n",
       "      <td>0.33</td>\n",
       "      <td>6.46</td>\n",
       "    </tr>\n",
       "    <tr>\n",
       "      <th>2</th>\n",
       "      <td>PRO Romania</td>\n",
       "      <td>0.29</td>\n",
       "      <td>4.63</td>\n",
       "    </tr>\n",
       "    <tr>\n",
       "      <th>0</th>\n",
       "      <td>PSD</td>\n",
       "      <td>0.64</td>\n",
       "      <td>2.93</td>\n",
       "    </tr>\n",
       "    <tr>\n",
       "      <th>4</th>\n",
       "      <td>PNL</td>\n",
       "      <td>0.75</td>\n",
       "      <td>2.86</td>\n",
       "    </tr>\n",
       "    <tr>\n",
       "      <th>1</th>\n",
       "      <td>USR-PLUS</td>\n",
       "      <td>0.62</td>\n",
       "      <td>2.85</td>\n",
       "    </tr>\n",
       "    <tr>\n",
       "      <th>6</th>\n",
       "      <td>PMP</td>\n",
       "      <td>0.06</td>\n",
       "      <td>1.07</td>\n",
       "    </tr>\n",
       "    <tr>\n",
       "      <th>5</th>\n",
       "      <td>ALDE</td>\n",
       "      <td>0.00</td>\n",
       "      <td>0.00</td>\n",
       "    </tr>\n",
       "  </tbody>\n",
       "</table>\n",
       "</div>"
      ],
      "text/plain": [
       "         party  absolute improvement  relative score improvement\n",
       "3         UDMR                  0.33                        6.46\n",
       "2  PRO Romania                  0.29                        4.63\n",
       "0          PSD                  0.64                        2.93\n",
       "4          PNL                  0.75                        2.86\n",
       "1     USR-PLUS                  0.62                        2.85\n",
       "6          PMP                  0.06                        1.07\n",
       "5         ALDE                  0.00                        0.00"
      ]
     },
     "execution_count": 41,
     "metadata": {},
     "output_type": "execute_result"
    }
   ],
   "source": [
    "score_changes = pd.DataFrame.from_records([{\"party\":party, \n",
    "    \"relative score improvement\": np.round((official_results[party] - my_results[party]) / my_results[party] * 100 , 2),\n",
    "    \"absolute improvement\": np.round((official_results[party] - my_results[party]), 2)\n",
    " } for party in parties])\n",
    "\n",
    "score_changes = score_changes[[\"party\", \"absolute improvement\", \"relative score improvement\"]]\n",
    "score_changes.sort_values(by=\"relative score improvement\", ascending=False)"
   ]
  },
  {
   "cell_type": "markdown",
   "metadata": {},
   "source": [
    "So it seems that in the end, the change between the official results and the one I've calculated for (example) UDMR meant a boost of +6.4% of their score ( from 5.11 to 5.44 ). In absolute terms they've only gained 0.33%, but that 0.33% increase meant a 6.4% boost when you consider that they had 5.11% to begin with.\n",
    "\n",
    "From the data, it seems that virtually all the parties benefited from some form of increase in final scores. I'm unsure to what this is due. The data already counts in a separate row the invalidated votes and I suspect that for each party only the valid votes are counted. So in essence, invalidated vote shouldn't be the cause of these changes. We've also counted the data form the foreign offices."
   ]
  },
  {
   "cell_type": "markdown",
   "metadata": {},
   "source": [
    "# Column correlations"
   ]
  },
  {
   "cell_type": "markdown",
   "metadata": {},
   "source": [
    "In the following sections we will analize the dependence of various columns to others in order and discuss what the results mean (by using correlation scores)."
   ]
  },
  {
   "cell_type": "markdown",
   "metadata": {},
   "source": [
    "## What is a `correlation`"
   ]
  },
  {
   "cell_type": "markdown",
   "metadata": {},
   "source": [
    "A [correlation](https://en.wikipedia.org/wiki/Correlation_and_dependence) is a statistical measure that shows how likely are to variables to move in sync. This is usually due to a common underlying factor or in other cases because one of the variables influences the other (causation). \n",
    "\n",
    "> Bear in mind that **causation is not the same as correlation**! Sometimes, if two variables are correlated it might be because they have a cause and effect relation, but it's not a given that if we observe correlation we have causation.  For example, read this [seminal paper](http://robertmatthews.org/wp-content/uploads/2016/03/RM-storks-paper.pdf) that shows some great fallacies we might end up with if we consider that correlation means causation. \n",
    "\n",
    "So please keep an eye on this statement while reading the sections bellow."
   ]
  },
  {
   "cell_type": "markdown",
   "metadata": {},
   "source": [
    "## Types of correlations"
   ]
  },
  {
   "cell_type": "markdown",
   "metadata": {},
   "source": [
    "Two of the most common type of correlation measures are the [Pearson correlation coefficient](https://en.wikipedia.org/wiki/Pearson_correlation_coefficient) and [Spearman's rank correlation](https://en.wikipedia.org/wiki/Pearson_correlation_coefficient).\n",
    "\n",
    "Both of them show how likely two variables are correlated, but using a slightly different approach and thus, have a different interpretation of their results:"
   ]
  },
  {
   "cell_type": "markdown",
   "metadata": {},
   "source": [
    "***Pearson correlation***\n",
    "\n",
    "    ..evaluates the linear relationship between two continuous variables. A relationship is linear when a change in one variable is associated with a proportional change in the other variable.\n",
    "\n",
    "    For example, you might use a Pearson correlation to evaluate whether increases in temperature at your production facility are associated with decreasing thickness of your chocolate coating.\n",
    "\n",
    "***Spearman rank-order correlation***\n",
    "\n",
    "    ..evaluates the monotonic relationship between two continuous or ordinal variables. In a monotonic relationship, the variables tend to change together, but not necessarily at a constant rate. The Spearman correlation coefficient is based on the ranked values for each variable rather than the raw data.\n",
    "\n",
    "    Spearman correlation is often used to evaluate relationships involving ordinal variables. For example, you might use a Spearman correlation to evaluate whether the order in which employees complete a test exercise is related to the number of months they have been employed."
   ]
  },
  {
   "cell_type": "markdown",
   "metadata": {},
   "source": [
    "> `Pearson` measures (for two data series $F_1$ and $F_2$) how well a change of size `a` in the series $F_1$ leads to a change of size `C * a` (proportionaly large) in $F_2$ when `C` is a constant\n",
    "\n",
    "> `Spearman` measures how common is for two variables to move in the same direction (not by how much)"
   ]
  },
  {
   "cell_type": "markdown",
   "metadata": {},
   "source": [
    "## Generic correlations between columns"
   ]
  },
  {
   "cell_type": "markdown",
   "metadata": {},
   "source": [
    "As a first example, we will take all the columns of our dataset and print the pairs with the highest correlation between them. Note that we've excluded from the results the (A, A) pairs that will have a score of 1 (naturally). "
   ]
  },
  {
   "cell_type": "code",
   "execution_count": 50,
   "metadata": {
    "ExecuteTime": {
     "end_time": "2019-07-18T13:56:39.726841Z",
     "start_time": "2019-07-18T13:56:39.605084Z"
    },
    "collapsed": true
   },
   "outputs": [
    {
     "data": {
      "text/plain": [
       "[(0.9999988405995148, 'Total alegatori', 'Total lista permanenta'),\n",
       " (0.9998662230466443, 'Total alegatori', 'Votanti lista'),\n",
       " (0.9998609492610934, 'Total lista permanenta', 'Votanti lista'),\n",
       " (0.9986963671087307, 'Total prezenti', 'Voturi valabile'),\n",
       " (0.998433713220943, 'liste_permanente', 'Prezenti lista permanenta'),\n",
       " (0.9981585374630918, 'total', 'Voturi valabile'),\n",
       " (0.9978683615024313, 'total', 'Total prezenti'),\n",
       " (0.9933939092376602, 'lista_suplimentare', 'Prezenti lista suplimentara'),\n",
       " (0.9847303875910568, 'siruta', 'Cod birou electoral'),\n",
       " (0.9363222144727064, 'Total voturi', 'Voturi nefolosite'),\n",
       " (0.9340859461869343, 'men_25_34', 'women_25_34'),\n",
       " (0.9207424840375259, 'women_35_44', 'Voturi valabile'),\n",
       " (0.9199551991340589, 'total', 'women_35_44'),\n",
       " (0.9189659926817213, 'women_35_44', 'Total prezenti'),\n",
       " (0.9163024438767253, 'men_45_64', 'women_45_64'),\n",
       " (0.9111562909051516, 'men_35_44', 'women_35_44'),\n",
       " (0.9107249415201683, 'liste_permanente', 'Votanti lista'),\n",
       " (0.9106335321830499, 'liste_permanente', 'Total alegatori'),\n",
       " (0.9106224412691745, 'liste_permanente', 'Total lista permanenta'),\n",
       " (0.908997006641406, 'Prezenti lista permanenta', 'Votanti lista'),\n",
       " (0.9089103759743806, 'Total alegatori', 'Prezenti lista permanenta'),\n",
       " (0.9088995061839914, 'Total lista permanenta', 'Prezenti lista permanenta'),\n",
       " (0.9074301748600953, 'Total urna mobila', 'Prezenti urna mobila'),\n",
       " (0.9039615687968309, 'total', 'men_45_64'),\n",
       " (0.9037799402851376, 'total', 'women_45_64'),\n",
       " (0.9030713989974236, 'men_65+', 'women_65+'),\n",
       " (0.9022989994403603, 'men_45_64', 'Total prezenti'),\n",
       " (0.8998027165804341, 'women_45_64', 'Total prezenti'),\n",
       " (0.8991597124396662, 'women_45_64', 'Voturi valabile'),\n",
       " (0.8985049758239619, 'men_45_64', 'Voturi valabile'),\n",
       " (0.8967270820273472, 'men_18_24', 'women_18_24'),\n",
       " (0.8908618299795728, 'men_35_44', 'Voturi valabile'),\n",
       " (0.8888218041604524, 'women_25_34', 'USR-PLUS'),\n",
       " (0.8887240874383147, 'men_35_44', 'Total prezenti'),\n",
       " (0.8860149146658227, 'total', 'men_35_44'),\n",
       " (0.8747165727556893, 'men_35_44', 'women_25_34'),\n",
       " (0.8729206517041824, 'men_25_34', 'men_35_44'),\n",
       " (0.8637026563242342, 'women_25_34', 'Voturi valabile'),\n",
       " (0.8593377684464183, 'women_25_34', 'Total prezenti'),\n",
       " (0.8589415270450032, 'total', 'women_25_34'),\n",
       " (0.857176283783107, 'liste_permanente', 'women_45_64'),\n",
       " (0.8555291030023521, 'women_45_64', 'Prezenti lista permanenta'),\n",
       " (0.8501787402222709, 'men_25_34', 'USR-PLUS'),\n",
       " (0.8451625847881826, 'women_25_34', 'women_35_44'),\n",
       " (0.8296537782008973, 'Voturi valabile', 'USR-PLUS'),\n",
       " (0.8295418917497576, 'Total prezenti', 'Total voturi'),\n",
       " (0.8273592381868828, 'Total voturi', 'Voturi valabile'),\n",
       " (0.8272181179939182, 'total', 'Total voturi'),\n",
       " (0.8265304038867696, 'men_35_44', 'USR-PLUS'),\n",
       " (0.8207357960597029, 'Total prezenti', 'USR-PLUS'),\n",
       " (0.8192307035006394, 'men_25_34', 'Voturi valabile'),\n",
       " (0.8190729838269484, 'women_35_44', 'USR-PLUS'),\n",
       " (0.8180420312893399, 'total', 'USR-PLUS'),\n",
       " (0.8153670474875289, 'men_25_34', 'Total prezenti'),\n",
       " (0.8138593556241418, 'women_35_44', 'women_45_64'),\n",
       " (0.8127342804319291, 'total', 'men_25_34'),\n",
       " (0.8117302058713984, 'liste_permanente', 'total'),\n",
       " (0.8112533755954947, 'total', 'Prezenti lista permanenta'),\n",
       " (0.8067669151863641, 'men_35_44', 'Total voturi'),\n",
       " (0.8029910006823214, 'Total prezenti', 'Prezenti lista permanenta'),\n",
       " (0.8016131049036849, 'liste_permanente', 'Total prezenti'),\n",
       " (0.7990448966513194, 'liste_permanente', 'Voturi valabile'),\n",
       " (0.7987923861712766, 'Prezenti lista permanenta', 'Voturi valabile'),\n",
       " (0.7950079031310202, 'men_45_64', 'women_35_44'),\n",
       " (0.7860224946965823, 'men_45_64', 'Total voturi'),\n",
       " (0.7839708453323573, 'women_35_44', 'Total voturi'),\n",
       " (0.7740197427607262, 'women_45_64', 'Votanti lista'),\n",
       " (0.773963857795013, 'women_45_64', 'Total alegatori'),\n",
       " (0.7739601605473143, 'women_45_64', 'Total lista permanenta'),\n",
       " (0.7647309406800955, 'liste_permanente', 'men_45_64'),\n",
       " (0.7644672026349517, 'men_45_64', 'Prezenti lista permanenta'),\n",
       " (0.7617570239480886, 'men_35_44', 'men_45_64'),\n",
       " (0.7611922539503859, 'men_25_34', 'women_35_44'),\n",
       " (0.7501232242497844, 'men_65+', 'Prezenti lista permanenta'),\n",
       " (0.74717912322135, 'liste_permanente', 'men_65+'),\n",
       " (0.7456087369882822, 'women_45_64', 'Total voturi'),\n",
       " (0.7409023076933792, 'women_65+', 'Prezenti lista permanenta'),\n",
       " (0.7398691878680022, 'men_25_34', 'Prezenti lista suplimentara'),\n",
       " (0.7397541277546892, 'lista_suplimentare', 'men_25_34'),\n",
       " (0.7386603777289847, 'women_25_34', 'Total voturi'),\n",
       " (0.7372965307428793, 'liste_permanente', 'women_65+'),\n",
       " (0.7333825588918097, 'men_25_34', 'Total voturi'),\n",
       " (0.7327504034393008, 'liste_permanente', 'women_35_44'),\n",
       " (0.7310501998866197, 'women_35_44', 'Prezenti lista permanenta'),\n",
       " (0.7293022553805606, 'total', 'men_18_24'),\n",
       " (0.7289327350577404, 'men_18_24', 'Total prezenti'),\n",
       " (0.7288113811199555, 'men_18_24', 'Voturi valabile'),\n",
       " (0.7261606942057695, 'men_45_64', 'PNL'),\n",
       " (0.7221733347347928, 'Total prezenti', 'PNL'),\n",
       " (0.7197383645636486, 'Voturi valabile', 'PNL'),\n",
       " (0.7183902680243516, 'total', 'PNL'),\n",
       " (0.7145341764852035, 'men_35_44', 'Prezenti lista suplimentara'),\n",
       " (0.7127539080142462, 'lista_suplimentare', 'men_35_44'),\n",
       " (0.7074948272403041, 'total', 'Votanti lista'),\n",
       " (0.7074411003449943, 'total', 'Total alegatori'),\n",
       " (0.7074320136669552, 'total', 'Total lista permanenta'),\n",
       " (0.7045203177292684, 'men_35_44', 'women_45_64'),\n",
       " (0.7024018973661189, 'men_45_64', 'Votanti lista'),\n",
       " (0.7023213138280959, 'men_45_64', 'Total alegatori'),\n",
       " (0.7023155994268526, 'men_45_64', 'Total lista permanenta'),\n",
       " (0.7019356748569177, 'men_18_24', 'men_25_34'),\n",
       " (0.6983167086682324, 'Total prezenti', 'Votanti lista'),\n",
       " (0.6982773254292051, 'Total alegatori', 'Total prezenti'),\n",
       " (0.6982684664717136, 'Total lista permanenta', 'Total prezenti'),\n",
       " (0.6970356922489198, 'USR-PLUS', 'George-Nicaolae Simion'),\n",
       " (0.691999455646935, 'Voturi valabile', 'Votanti lista'),\n",
       " (0.6919651605615834, 'Total alegatori', 'Voturi valabile'),\n",
       " (0.6919565146203496, 'Total lista permanenta', 'Voturi valabile'),\n",
       " (0.6878717344881574, 'Total voturi', 'USR-PLUS'),\n",
       " (0.6877978555910668, 'men_18_24', 'women_25_34'),\n",
       " (0.68554303507526, 'women_18_24', 'Voturi valabile'),\n",
       " (0.6850249796700719, 'total', 'women_18_24'),\n",
       " (0.684622668902946, 'women_18_24', 'Total prezenti'),\n",
       " (0.684594002154606, 'men_35_44', 'George-Nicaolae Simion'),\n",
       " (0.6830407634963409, 'men_18_24', 'USR-PLUS'),\n",
       " (0.6788126994283751, 'Voturi valabile', 'George-Nicaolae Simion'),\n",
       " (0.6751574009166196, 'Total prezenti', 'George-Nicaolae Simion'),\n",
       " (0.674777042150644, 'men_35_44', 'PNL'),\n",
       " (0.6729511358325007, 'Voturi valabile', 'PMP'),\n",
       " (0.6725140990148408, 'women_18_24', 'USR-PLUS'),\n",
       " (0.6715098567461779, 'total', 'PMP'),\n",
       " (0.6703028345713855, 'men_65+', 'women_45_64'),\n",
       " (0.6700747790081832, 'Total prezenti', 'PMP'),\n",
       " (0.6698486024444747, 'total', 'George-Nicaolae Simion'),\n",
       " (0.6664304019504717, 'women_18_24', 'women_25_34'),\n",
       " (0.6638699667494284, 'men_25_34', 'George-Nicaolae Simion'),\n",
       " (0.6602176336077453, 'women_25_34', 'George-Nicaolae Simion'),\n",
       " (0.6600992921049851, 'men_65+', 'Votanti lista'),\n",
       " (0.6598940395296187, 'men_65+', 'Total alegatori'),\n",
       " (0.6598697309444518, 'men_65+', 'Total lista permanenta'),\n",
       " (0.6587965714350892, 'women_25_34', 'women_45_64'),\n",
       " (0.6587555384254217, 'men_45_64', 'women_25_34'),\n",
       " (0.6553425750112236, 'women_45_64', 'PMP'),\n",
       " (0.6540284546319199, 'Total voturi', 'George-Nicaolae Simion'),\n",
       " (0.6523864095587261, 'PMP', 'George-Nicaolae Simion'),\n",
       " (0.6507217748666585, 'women_35_44', 'George-Nicaolae Simion'),\n",
       " (0.6490574642716371, 'women_35_44', 'PNL'),\n",
       " (0.6488548953535342, 'total', 'women_65+'),\n",
       " (0.6477731050629054, 'lista_suplimentare', 'women_25_34'),\n",
       " (0.647503357372423, 'women_45_64', 'USR-PLUS'),\n",
       " (0.6467578511067698, 'women_45_64', 'women_65+'),\n",
       " (0.6462833867963701, 'total', 'men_65+'),\n",
       " (0.644286453940188, 'women_25_34', 'Prezenti lista suplimentara'),\n",
       " (0.6435985015318786, 'men_25_34', 'women_18_24'),\n",
       " (0.6419038885142373, 'women_65+', 'Total prezenti'),\n",
       " (0.6412039155491145, 'Total voturi', 'PNL'),\n",
       " (0.6403344436381941, 'women_65+', 'Voturi valabile'),\n",
       " (0.6400487402293206, 'women_45_64', 'PNL'),\n",
       " (0.6389010201515093, 'Total voturi', 'Votanti lista'),\n",
       " (0.6388138780430961, 'Total lista permanenta', 'Total voturi'),\n",
       " (0.6388132090732743, 'Total alegatori', 'Total voturi'),\n",
       " (0.6386794670316503, 'men_65+', 'Total prezenti'),\n",
       " (0.6345965588687608, 'men_65+', 'Voturi valabile'),\n",
       " (0.6332160431818976, 'men_25_34', 'men_45_64'),\n",
       " (0.6327727988581671, 'Prezenti lista suplimentara', 'George-Nicaolae Simion'),\n",
       " (0.6323820883892561, 'women_35_44', 'PMP'),\n",
       " (0.6302278804016929, 'lista_suplimentare', 'George-Nicaolae Simion'),\n",
       " (0.6287214644125425, 'Prezenti lista suplimentara', 'USR-PLUS'),\n",
       " (0.6280239631212078, 'lista_suplimentare', 'USR-PLUS'),\n",
       " (0.6258882850733374, 'women_65+', 'Votanti lista'),\n",
       " (0.6257854226694695, 'women_35_44', 'Votanti lista'),\n",
       " (0.6257797133880051, 'women_35_44', 'Total alegatori'),\n",
       " (0.6257777344858919, 'women_35_44', 'Total lista permanenta'),\n",
       " (0.6257716727079021, 'women_65+', 'Total alegatori'),\n",
       " (0.6257422077955548, 'women_65+', 'Total lista permanenta'),\n",
       " (0.6253483738440837, 'men_45_64', 'men_65+'),\n",
       " (0.6251428174424312, 'women_45_64', 'PRO Romania'),\n",
       " (0.6203316508218127, 'men_45_64', 'PMP'),\n",
       " (0.6190891232026141, 'men_35_44', 'Voturi nefolosite'),\n",
       " (0.6174768258038619, 'men_65+', 'PSD'),\n",
       " (0.6166403358382414, 'men_18_24', 'men_35_44'),\n",
       " (0.6080595915618895, 'men_18_24', 'women_35_44'),\n",
       " (0.6072325198142238, 'liste_permanente', 'PRO Romania'),\n",
       " (0.6067708749164424, 'women_25_34', 'PNL'),\n",
       " (0.6063187755893609, 'men_25_34', 'PNL'),\n",
       " (0.6044842057638279, 'Prezenti lista permanenta', 'PRO Romania'),\n",
       " (0.5958420293965467, 'men_45_64', 'USR-PLUS'),\n",
       " (0.5935108220931711, 'USR-PLUS', 'PMP'),\n",
       " (0.589984869357973, 'women_45_64', 'George-Nicaolae Simion'),\n",
       " (0.5867054463721634, 'men_35_44', 'PMP'),\n",
       " (0.5860751001098103, 'Total prezenti', 'Voturi nefolosite'),\n",
       " (0.5840665681994462, 'Prezenti lista suplimentara', 'Total voturi'),\n",
       " (0.58355457702146, 'USR-PLUS', 'Gregoriana-Carmen Tudoran'),\n",
       " (0.5830409080253222, 'total', 'Voturi nefolosite'),\n",
       " (0.5827947563550113, 'Voturi nefolosite', 'Voturi valabile'),\n",
       " (0.5820793102951033, 'men_45_64', 'Voturi nefolosite'),\n",
       " (0.581053822137188, 'liste_permanente', 'Total voturi'),\n",
       " (0.5809831828048029, 'lista_suplimentare', 'Total voturi'),\n",
       " (0.5794296564996461, 'Prezenti lista permanenta', 'Total voturi'),\n",
       " (0.5740124549259857, 'liste_permanente', 'women_25_34'),\n",
       " (0.5732512573210689, 'women_25_34', 'PMP'),\n",
       " (0.5722663356060166, 'women_18_24', 'women_35_44'),\n",
       " (0.572245196185383, 'men_45_64', 'George-Nicaolae Simion'),\n",
       " (0.5720356630614744, 'women_25_34', 'Prezenti lista permanenta'),\n",
       " (0.5713365432475015, 'men_25_34', 'women_45_64'),\n",
       " (0.5712295201731679, 'men_45_64', 'women_65+'),\n",
       " (0.569117663543072, 'women_35_44', 'Voturi nefolosite'),\n",
       " (0.5681810599387154, 'total', 'PRO Romania'),\n",
       " (0.5677483617927789, 'Voturi valabile', 'Partidul Romania Unita'),\n",
       " (0.5676972710038537, 'Total prezenti', 'Partidul Romania Unita'),\n",
       " (0.5667618194870088, 'total', 'Partidul Romania Unita'),\n",
       " (0.5637126309251154, 'Total prezenti', 'PRO Romania'),\n",
       " (0.5635708916388684, 'PRO Romania', 'Votanti lista'),\n",
       " (0.5634695476031741, 'Total lista permanenta', 'PRO Romania'),\n",
       " (0.5634635933386309, 'Total alegatori', 'PRO Romania'),\n",
       " (0.5631499579643666, 'Total voturi', 'PMP'),\n",
       " (0.5629007841551946, 'Voturi valabile', 'PRO Romania'),\n",
       " (0.562289647511278, 'Prezenti lista suplimentara', 'Voturi valabile'),\n",
       " (0.5616477439369739, 'Voturi valabile', 'Gregoriana-Carmen Tudoran'),\n",
       " (0.561499988521805, 'men_45_64', 'PRO Romania'),\n",
       " (0.5613479440982699, 'men_18_24', 'men_45_64'),\n",
       " (0.5606739796931852, 'total', 'Gregoriana-Carmen Tudoran'),\n",
       " (0.56055132703434, 'Gregoriana-Carmen Tudoran', 'George-Nicaolae Simion'),\n",
       " (0.5596755941730587, 'Total prezenti', 'Gregoriana-Carmen Tudoran'),\n",
       " (0.5586316215998096, 'Total prezenti', 'Prezenti lista suplimentara'),\n",
       " (0.5581676360585548, 'men_18_24', 'Total voturi'),\n",
       " (0.5581092393788818, 'men_25_34', 'Voturi nefolosite'),\n",
       " (0.5579416431840721, 'liste_permanente', 'men_35_44'),\n",
       " (0.5569461176228407, 'men_35_44', 'Prezenti lista permanenta'),\n",
       " (0.5559290436898493, 'lista_suplimentare', 'Voturi valabile'),\n",
       " (0.5514179470769757, 'lista_suplimentare', 'Total prezenti'),\n",
       " (0.5478992591187692, 'women_35_44', 'Partidul Romania Unita'),\n",
       " (0.5470905333513876, 'men_35_44', 'women_18_24'),\n",
       " (0.5443772802953679, 'women_65+', 'PSD'),\n",
       " (0.5439340700260347, 'women_35_44', 'Gregoriana-Carmen Tudoran'),\n",
       " (0.5435600664777013, 'total', 'Prezenti lista suplimentara'),\n",
       " (0.5413330079681774, 'Total voturi', 'Partidul Romania Unita'),\n",
       " (0.5407538772983785, 'lista_suplimentare', 'total'),\n",
       " (0.540503194677919, 'women_45_64', 'Partidul Romania Unita'),\n",
       " (0.5398935644528039, 'liste_permanente', 'USR-PLUS'),\n",
       " (0.539611559112094, 'women_25_34', 'Voturi nefolosite'),\n",
       " (0.5379839309149224, 'men_18_24', 'PNL'),\n",
       " (0.5375607304617895, 'USR-PLUS', 'Partidul Romania Unita'),\n",
       " (0.5374423691088724, 'men_35_44', 'Partidul Romania Unita'),\n",
       " (0.5367282724713272, 'Prezenti lista permanenta', 'USR-PLUS'),\n",
       " (0.5325373212271269, 'men_18_24', 'women_45_64'),\n",
       " (0.5303841312440434, 'Voturi nefolosite', 'George-Nicaolae Simion'),\n",
       " (0.5297788849134184, 'men_25_34', 'PMP'),\n",
       " (0.529652237824334, 'women_45_64', 'Gregoriana-Carmen Tudoran'),\n",
       " (0.5294727313720982, 'Partidul Romania Unita', 'George-Nicaolae Simion'),\n",
       " (0.5258738497823281, 'women_45_64', 'Voturi nefolosite'),\n",
       " (0.5231471295875563, 'Prezenti lista permanenta', 'PSD'),\n",
       " (0.52294083023703, 'women_35_44', 'Prezenti lista suplimentara'),\n",
       " (0.5225963595758947, 'liste_permanente', 'men_18_24'),\n",
       " (0.5225267085510171, 'men_18_24', 'Prezenti lista permanenta'),\n",
       " (0.5223874289581562, 'lista_suplimentare', 'women_35_44'),\n",
       " (0.5220405307407661, 'women_35_44', 'PRO Romania'),\n",
       " (0.5215786068355495, 'men_45_64', 'Partidul Romania Unita'),\n",
       " (0.5206196004106123, 'women_25_34', 'Gregoriana-Carmen Tudoran'),\n",
       " (0.5171260210863707, 'liste_permanente', 'PSD'),\n",
       " (0.5144753162180705, 'Prezenti lista suplimentara', 'PNL'),\n",
       " (0.5102334372504758, 'women_25_34', 'Partidul Romania Unita'),\n",
       " (0.5097395261337209, 'lista_suplimentare', 'PNL'),\n",
       " (0.5066271496753216, 'women_18_24', 'Prezenti lista permanenta'),\n",
       " (0.5065347407411611, 'liste_permanente', 'women_18_24'),\n",
       " (0.5037841097169911, 'women_18_24', 'Total voturi'),\n",
       " (0.5021115961503974, 'men_45_64', 'PSD'),\n",
       " (0.5019958584221322, 'USR-PLUS', 'PNL'),\n",
       " (0.5018248228899487, 'liste_permanente', 'PNL'),\n",
       " (0.5010697606084394, 'women_18_24', 'women_45_64'),\n",
       " (0.5009242507495689, 'liste_permanente', 'PMP'),\n",
       " (0.5001207719708801, 'Prezenti lista permanenta', 'PNL')]"
      ]
     },
     "execution_count": 50,
     "metadata": {},
     "output_type": "execute_result"
    }
   ],
   "source": [
    "_corr = df[[column for column in df.columns if \"Barbati\" not in column and \"Femei\" not in column and \"id_\" not in column]].corr()\n",
    "_correlations = _corr.fillna(0).values.flatten()\n",
    "\n",
    "_pairs = [(_idx // _corr.shape[0], _idx % _corr.shape[0], _correlations[_idx]) for _idx in np.where(_correlations > 0.5)[0]]\n",
    "_pairs = {(i, j, _corr_val) if i < j else (j, i, _corr_val) for i, j, _corr_val in _pairs if i != j}\n",
    "_pairs = {(_corr_val, _corr.columns[i], _corr.columns[j]) for i, j, _corr_val in _pairs}\n",
    "sorted(_pairs, reverse=True)"
   ]
  },
  {
   "cell_type": "markdown",
   "metadata": {},
   "source": [
    "So you can see some obvious correlations at the top, like, `('Total alegatori', 'Total lista permanenta')`. This means that the total number of votes is strongly correlated with the number of people allowed to vote, and this makes sense:\n",
    "* whenever you have a higher number of people on the voting lists, you will end up with a higher number (in absolute terms) of people who actually voted (spearman). Even more than this, the increase in total voters is proportional with the number of eligible votes (pearson).\n",
    "\n",
    "The above correlation coefficients were computed using the `pearson` method, which is the `pandas` default setting."
   ]
  },
  {
   "cell_type": "markdown",
   "metadata": {},
   "source": [
    "Further down the lists you start to see some interesting results:\n",
    "```\n",
    "(0.8888218041604524, 'women_25_34', 'USR-PLUS')\n",
    "..\n",
    "(0.7261606942057695, 'men_45_64', 'PNL')\n",
    "```\n",
    "\n",
    "These indicate that when we have an increase in each category, we have a **proportional** increase if the other category. In other words, `women_25_34` high attendence resulted in proportionally higher votes for `USR-PLUS`. \n",
    "\n",
    "One conclusion you could draw from the above is that, by a large margin (0.88 correlation), `women_25_34` voted for `USR-PLUS`. To a somewhat leasear extent, but by the same reasoning, `men_45_64` voted for `PNL`."
   ]
  },
  {
   "cell_type": "markdown",
   "metadata": {
    "ExecuteTime": {
     "end_time": "2019-07-18T13:57:57.746390Z",
     "start_time": "2019-07-18T13:57:55.797334Z"
    }
   },
   "source": [
    "## Correlation matrix"
   ]
  },
  {
   "cell_type": "markdown",
   "metadata": {},
   "source": [
    "Since a correlation compares two variables at a time, we can compute the scores for all the possible pairs. We end up with a [symetric matrix](https://en.wikipedia.org/wiki/Symmetric_matrix) whose diagonal values are all 1 (the correlation of the pair (column X, column X) is always 1). \n",
    "\n",
    "For example, this is the correlation matrix that we get as a result of comparing all the demographic buckets to each other."
   ]
  },
  {
   "cell_type": "code",
   "execution_count": 450,
   "metadata": {
    "ExecuteTime": {
     "end_time": "2019-07-23T11:07:13.771474Z",
     "start_time": "2019-07-23T11:07:13.744596Z"
    }
   },
   "outputs": [
    {
     "data": {
      "text/html": [
       "<div>\n",
       "<style scoped>\n",
       "    .dataframe tbody tr th:only-of-type {\n",
       "        vertical-align: middle;\n",
       "    }\n",
       "\n",
       "    .dataframe tbody tr th {\n",
       "        vertical-align: top;\n",
       "    }\n",
       "\n",
       "    .dataframe thead th {\n",
       "        text-align: right;\n",
       "    }\n",
       "</style>\n",
       "<table border=\"1\" class=\"dataframe\">\n",
       "  <thead>\n",
       "    <tr style=\"text-align: right;\">\n",
       "      <th></th>\n",
       "      <th>men_18_24</th>\n",
       "      <th>men_25_34</th>\n",
       "      <th>men_35_44</th>\n",
       "      <th>men_45_64</th>\n",
       "      <th>men_65+</th>\n",
       "      <th>women_18_24</th>\n",
       "      <th>women_25_34</th>\n",
       "      <th>women_35_44</th>\n",
       "      <th>women_45_64</th>\n",
       "      <th>women_65+</th>\n",
       "    </tr>\n",
       "  </thead>\n",
       "  <tbody>\n",
       "    <tr>\n",
       "      <th>men_18_24</th>\n",
       "      <td>1.000000</td>\n",
       "      <td>0.701936</td>\n",
       "      <td>0.616640</td>\n",
       "      <td>0.561348</td>\n",
       "      <td>0.338181</td>\n",
       "      <td>0.896727</td>\n",
       "      <td>0.687798</td>\n",
       "      <td>0.608060</td>\n",
       "      <td>0.532537</td>\n",
       "      <td>0.352328</td>\n",
       "    </tr>\n",
       "    <tr>\n",
       "      <th>men_25_34</th>\n",
       "      <td>0.701936</td>\n",
       "      <td>1.000000</td>\n",
       "      <td>0.872921</td>\n",
       "      <td>0.633216</td>\n",
       "      <td>0.222204</td>\n",
       "      <td>0.643599</td>\n",
       "      <td>0.934086</td>\n",
       "      <td>0.761192</td>\n",
       "      <td>0.571337</td>\n",
       "      <td>0.247303</td>\n",
       "    </tr>\n",
       "    <tr>\n",
       "      <th>men_35_44</th>\n",
       "      <td>0.616640</td>\n",
       "      <td>0.872921</td>\n",
       "      <td>1.000000</td>\n",
       "      <td>0.761757</td>\n",
       "      <td>0.362060</td>\n",
       "      <td>0.547091</td>\n",
       "      <td>0.874717</td>\n",
       "      <td>0.911156</td>\n",
       "      <td>0.704520</td>\n",
       "      <td>0.370324</td>\n",
       "    </tr>\n",
       "    <tr>\n",
       "      <th>men_45_64</th>\n",
       "      <td>0.561348</td>\n",
       "      <td>0.633216</td>\n",
       "      <td>0.761757</td>\n",
       "      <td>1.000000</td>\n",
       "      <td>0.625348</td>\n",
       "      <td>0.491986</td>\n",
       "      <td>0.658756</td>\n",
       "      <td>0.795008</td>\n",
       "      <td>0.916302</td>\n",
       "      <td>0.571230</td>\n",
       "    </tr>\n",
       "    <tr>\n",
       "      <th>men_65+</th>\n",
       "      <td>0.338181</td>\n",
       "      <td>0.222204</td>\n",
       "      <td>0.362060</td>\n",
       "      <td>0.625348</td>\n",
       "      <td>1.000000</td>\n",
       "      <td>0.313547</td>\n",
       "      <td>0.286544</td>\n",
       "      <td>0.478729</td>\n",
       "      <td>0.670303</td>\n",
       "      <td>0.903071</td>\n",
       "    </tr>\n",
       "    <tr>\n",
       "      <th>women_18_24</th>\n",
       "      <td>0.896727</td>\n",
       "      <td>0.643599</td>\n",
       "      <td>0.547091</td>\n",
       "      <td>0.491986</td>\n",
       "      <td>0.313547</td>\n",
       "      <td>1.000000</td>\n",
       "      <td>0.666430</td>\n",
       "      <td>0.572266</td>\n",
       "      <td>0.501070</td>\n",
       "      <td>0.343935</td>\n",
       "    </tr>\n",
       "    <tr>\n",
       "      <th>women_25_34</th>\n",
       "      <td>0.687798</td>\n",
       "      <td>0.934086</td>\n",
       "      <td>0.874717</td>\n",
       "      <td>0.658756</td>\n",
       "      <td>0.286544</td>\n",
       "      <td>0.666430</td>\n",
       "      <td>1.000000</td>\n",
       "      <td>0.845163</td>\n",
       "      <td>0.658797</td>\n",
       "      <td>0.320458</td>\n",
       "    </tr>\n",
       "    <tr>\n",
       "      <th>women_35_44</th>\n",
       "      <td>0.608060</td>\n",
       "      <td>0.761192</td>\n",
       "      <td>0.911156</td>\n",
       "      <td>0.795008</td>\n",
       "      <td>0.478729</td>\n",
       "      <td>0.572266</td>\n",
       "      <td>0.845163</td>\n",
       "      <td>1.000000</td>\n",
       "      <td>0.813859</td>\n",
       "      <td>0.499351</td>\n",
       "    </tr>\n",
       "    <tr>\n",
       "      <th>women_45_64</th>\n",
       "      <td>0.532537</td>\n",
       "      <td>0.571337</td>\n",
       "      <td>0.704520</td>\n",
       "      <td>0.916302</td>\n",
       "      <td>0.670303</td>\n",
       "      <td>0.501070</td>\n",
       "      <td>0.658797</td>\n",
       "      <td>0.813859</td>\n",
       "      <td>1.000000</td>\n",
       "      <td>0.646758</td>\n",
       "    </tr>\n",
       "    <tr>\n",
       "      <th>women_65+</th>\n",
       "      <td>0.352328</td>\n",
       "      <td>0.247303</td>\n",
       "      <td>0.370324</td>\n",
       "      <td>0.571230</td>\n",
       "      <td>0.903071</td>\n",
       "      <td>0.343935</td>\n",
       "      <td>0.320458</td>\n",
       "      <td>0.499351</td>\n",
       "      <td>0.646758</td>\n",
       "      <td>1.000000</td>\n",
       "    </tr>\n",
       "  </tbody>\n",
       "</table>\n",
       "</div>"
      ],
      "text/plain": [
       "             men_18_24  men_25_34  men_35_44  men_45_64   men_65+  \\\n",
       "men_18_24     1.000000   0.701936   0.616640   0.561348  0.338181   \n",
       "men_25_34     0.701936   1.000000   0.872921   0.633216  0.222204   \n",
       "men_35_44     0.616640   0.872921   1.000000   0.761757  0.362060   \n",
       "men_45_64     0.561348   0.633216   0.761757   1.000000  0.625348   \n",
       "men_65+       0.338181   0.222204   0.362060   0.625348  1.000000   \n",
       "women_18_24   0.896727   0.643599   0.547091   0.491986  0.313547   \n",
       "women_25_34   0.687798   0.934086   0.874717   0.658756  0.286544   \n",
       "women_35_44   0.608060   0.761192   0.911156   0.795008  0.478729   \n",
       "women_45_64   0.532537   0.571337   0.704520   0.916302  0.670303   \n",
       "women_65+     0.352328   0.247303   0.370324   0.571230  0.903071   \n",
       "\n",
       "             women_18_24  women_25_34  women_35_44  women_45_64  women_65+  \n",
       "men_18_24       0.896727     0.687798     0.608060     0.532537   0.352328  \n",
       "men_25_34       0.643599     0.934086     0.761192     0.571337   0.247303  \n",
       "men_35_44       0.547091     0.874717     0.911156     0.704520   0.370324  \n",
       "men_45_64       0.491986     0.658756     0.795008     0.916302   0.571230  \n",
       "men_65+         0.313547     0.286544     0.478729     0.670303   0.903071  \n",
       "women_18_24     1.000000     0.666430     0.572266     0.501070   0.343935  \n",
       "women_25_34     0.666430     1.000000     0.845163     0.658797   0.320458  \n",
       "women_35_44     0.572266     0.845163     1.000000     0.813859   0.499351  \n",
       "women_45_64     0.501070     0.658797     0.813859     1.000000   0.646758  \n",
       "women_65+       0.343935     0.320458     0.499351     0.646758   1.000000  "
      ]
     },
     "execution_count": 450,
     "metadata": {},
     "output_type": "execute_result"
    }
   ],
   "source": [
    "df.iloc[:,range(20, 30)].corr().fillna(0)"
   ]
  },
  {
   "cell_type": "markdown",
   "metadata": {},
   "source": [
    "# What each party is correlated with"
   ]
  },
  {
   "cell_type": "markdown",
   "metadata": {},
   "source": [
    "Now that we know what a correlation is and how to obtain it, we will compute the full (`pearson` in this case) correlation matrix for all columns, and then get the top 10 most correlated columns for each party. The top most correlated column will always be itself (the diagonal value) so we will continue from 1."
   ]
  },
  {
   "cell_type": "code",
   "execution_count": 451,
   "metadata": {
    "ExecuteTime": {
     "end_time": "2019-07-23T11:18:20.897041Z",
     "start_time": "2019-07-23T11:18:18.953760Z"
    }
   },
   "outputs": [
    {
     "data": {
      "text/plain": [
       "men_65+                      0.617477\n",
       "women_65+                    0.544377\n",
       "Prezenti lista permanenta    0.523147\n",
       "liste_permanente             0.517126\n",
       "men_45_64                    0.502112\n",
       "Votanti lista                0.485241\n",
       "Total alegatori              0.485193\n",
       "Total lista permanenta       0.485173\n",
       "Voturi anulate               0.474736\n",
       "Name: PSD, dtype: float64"
      ]
     },
     "execution_count": 451,
     "metadata": {},
     "output_type": "execute_result"
    }
   ],
   "source": [
    "_corr = df.corr().fillna(0)\n",
    "_corr['PSD'].sort_values(ascending=False)[1:10]"
   ]
  },
  {
   "cell_type": "markdown",
   "metadata": {},
   "source": [
    "For `PSD` it seems that the top two are `men_65+` and `women_65+`. "
   ]
  },
  {
   "cell_type": "code",
   "execution_count": 57,
   "metadata": {
    "ExecuteTime": {
     "end_time": "2019-07-18T14:00:08.810209Z",
     "start_time": "2019-07-18T14:00:08.799856Z"
    }
   },
   "outputs": [
    {
     "data": {
      "text/plain": [
       "men_45_64          0.726161\n",
       "Total prezenti     0.722173\n",
       "Voturi valabile    0.719738\n",
       "total              0.718390\n",
       "men_35_44          0.674777\n",
       "women_35_44        0.649057\n",
       "Total voturi       0.641204\n",
       "women_45_64        0.640049\n",
       "women_25_34        0.606771\n",
       "Name: PNL, dtype: float64"
      ]
     },
     "execution_count": 57,
     "metadata": {},
     "output_type": "execute_result"
    }
   ],
   "source": [
    "_corr['PNL'].sort_values(ascending=False)[1:10]"
   ]
  },
  {
   "cell_type": "code",
   "execution_count": 58,
   "metadata": {
    "ExecuteTime": {
     "end_time": "2019-07-18T14:00:49.270014Z",
     "start_time": "2019-07-18T14:00:49.259504Z"
    }
   },
   "outputs": [
    {
     "data": {
      "text/plain": [
       "Votanti lista                0.475865\n",
       "Total alegatori              0.475692\n",
       "Total lista permanenta       0.475680\n",
       "PSD                          0.474736\n",
       "men_45_64                    0.459099\n",
       "Prezenti lista permanenta    0.422869\n",
       "liste_permanente             0.421464\n",
       "men_65+                      0.394126\n",
       "total                        0.387026\n",
       "Name: Voturi anulate, dtype: float64"
      ]
     },
     "execution_count": 58,
     "metadata": {},
     "output_type": "execute_result"
    }
   ],
   "source": [
    "_corr['Voturi anulate'].sort_values(ascending=False)[1:10]"
   ]
  },
  {
   "cell_type": "markdown",
   "metadata": {},
   "source": [
    "Of course there is a certain threshold bellowe which, the numbers might mean noise but this number is dataset related. In our case, after working a bit with this dataset, I'd say that 0.5 is a good one for `pearson` and 0.6 for `spearman`. Anything bellow we ignore.  "
   ]
  },
  {
   "cell_type": "markdown",
   "metadata": {},
   "source": [
    "We will list bellow the top 3 correlated columns, with each individual column using both methods. For some columns it's not worth showind the results because they are meaningless (`id_*` columns, `total`s columns and the like) so we will skip these."
   ]
  },
  {
   "cell_type": "code",
   "execution_count": 506,
   "metadata": {
    "ExecuteTime": {
     "end_time": "2019-07-23T13:43:01.315767Z",
     "start_time": "2019-07-23T13:43:01.224506Z"
    }
   },
   "outputs": [],
   "source": [
    "na_columns = df.columns[df.isna().sum() > 0]\n",
    "non_na_columns = df.columns.difference(na_columns)\n",
    "non_na_columns\n",
    "\n",
    "def correlations(corr_matrix, column, irrelevant_score_threshold=0.4):\n",
    "    \"\"\"\n",
    "    Returns the top 3 most correlated columns with the given one, in descending order.\n",
    "    For columns that have a correlation lower than 0.4 we ignore the results and consider the \n",
    "    coefficient score irrelevant.\n",
    "    \"\"\"\n",
    "    _corr = corr_matrix[column][corr_matrix[column] > irrelevant_score_threshold].sort_values(ascending=False)[1:4]\n",
    "    return [(name, round(score, 2)) for name, score in _corr.items() if \"id_\" not in name]\n",
    "\n",
    "def is_column_ignored(column):\n",
    "    \"\"\"\"We exclude some columns because the output is too verbose\"\"\"\n",
    "    return \\\n",
    "        \"id_\" in column or \\\n",
    "        \"total\" in column.lower() or \\\n",
    "        \"Barbati\" in column or \\\n",
    "        \"Femei\" in column or \\\n",
    "        column.lower().startswith(\"list\") or \\\n",
    "        column == \"siruta\""
   ]
  },
  {
   "cell_type": "code",
   "execution_count": 504,
   "metadata": {
    "ExecuteTime": {
     "end_time": "2019-07-23T13:32:31.851934Z",
     "start_time": "2019-07-23T13:32:29.870433Z"
    }
   },
   "outputs": [
    {
     "name": "stdout",
     "output_type": "stream",
     "text": [
      "George-Nicaolae Simion -> [('USR-PLUS', 0.7), ('men_35_44', 0.68), ('Voturi valabile', 0.68)]\n",
      "Gregoriana-Carmen Tudoran -> [('USR-PLUS', 0.58), ('Voturi valabile', 0.56), ('total', 0.56)]\n",
      "PMP -> [('Voturi valabile', 0.67), ('total', 0.67), ('Total prezenti', 0.67)]\n",
      "PNL -> [('men_45_64', 0.73), ('Total prezenti', 0.72), ('Voturi valabile', 0.72)]\n",
      "PRO Romania -> [('women_45_64', 0.63), ('liste_permanente', 0.61), ('Prezenti lista permanenta', 0.6)]\n",
      "PSD -> [('men_65+', 0.62), ('women_65+', 0.54), ('Prezenti lista permanenta', 0.52)]\n",
      "Partidul Romania Unita -> [('Voturi valabile', 0.57), ('Total prezenti', 0.57), ('total', 0.57)]\n",
      "Prezenti lista permanenta -> [('liste_permanente', 1.0), ('Votanti lista', 0.91), ('Total alegatori', 0.91)]\n",
      "Prezenti lista suplimentara -> [('lista_suplimentare', 0.99), ('men_25_34', 0.74), ('men_35_44', 0.71)]\n",
      "Prezenti urna mobila -> [('Total urna mobila', 0.91)]\n",
      "USR-PLUS -> [('women_25_34', 0.89), ('men_25_34', 0.85), ('Voturi valabile', 0.83)]\n",
      "Votanti lista -> [('Total alegatori', 1.0), ('Total lista permanenta', 1.0), ('liste_permanente', 0.91)]\n",
      "Voturi nefolosite -> [('Total voturi', 0.94), ('men_35_44', 0.62), ('Total prezenti', 0.59)]\n",
      "Voturi valabile -> [('Total prezenti', 1.0), ('total', 1.0), ('women_35_44', 0.92)]\n",
      "men_18_24 -> [('women_18_24', 0.9), ('Barbati 21', 0.87), ('Barbati 22', 0.86)]\n",
      "men_25_34 -> [('women_25_34', 0.93), ('Barbati 30', 0.91), ('Barbati 31', 0.91)]\n",
      "men_35_44 -> [('women_35_44', 0.91), ('Voturi valabile', 0.89), ('Total prezenti', 0.89)]\n",
      "men_45_64 -> [('women_45_64', 0.92), ('total', 0.9), ('Total prezenti', 0.9)]\n",
      "men_65+ -> [('women_65+', 0.9), ('Prezenti lista permanenta', 0.75), ('liste_permanente', 0.75)]\n",
      "women_18_24 -> [('Femei 21', 0.9), ('men_18_24', 0.9), ('Femei 20', 0.89)]\n",
      "women_25_34 -> [('men_25_34', 0.93), ('Femei 29', 0.89), ('Femei 31', 0.89)]\n",
      "women_35_44 -> [('Voturi valabile', 0.92), ('total', 0.92), ('Total prezenti', 0.92)]\n",
      "women_45_64 -> [('men_45_64', 0.92), ('total', 0.9), ('Total prezenti', 0.9)]\n",
      "women_65+ -> [('men_65+', 0.9), ('Femei 69', 0.76), ('Femei 70', 0.75)]\n"
     ]
    }
   ],
   "source": [
    "_corr = df[non_na_columns]._get_numeric_data().corr(method=\"pearson\")\n",
    "for column in _corr.columns:\n",
    "    if is_column_ignored(column): continue\n",
    "    correlated_var = correlations(_corr, column, irrelevant_score_threshold=0.5)\n",
    "    if correlated_var:\n",
    "        print(f\"{column} -> {correlated_var}\")"
   ]
  },
  {
   "cell_type": "markdown",
   "metadata": {},
   "source": [
    "We can see that `George-Nicolae Simion`, `Gregoriana-Carmen Tudoran` are correlated with `USR-PLUS`. My view is that these three parties cattered to the same kind of demographics. So whenever we had an increase in these kind of people, all three rose with the same velocity. \n",
    "\n",
    "`USR-PLUS` specifically though, is mostly correlated (by far) with `women_25_34` and `men_25_34`. \n",
    "Even more, being also highly correlated with `Voturi valabile` means that whenever there were more eligible votes its score rose. Since the increase in votes leads to better scores for `USR+` and increase votes means larger and larger cities, we can deduce that `USR-PLUS` was especially well represented as cities got larger, and the population density increased. \n",
    "\n",
    "Other interesting results worth highlighting:\n",
    "* `PSD -> [('men_65+', 0.62), ('women_65+', 0.54)]`\n",
    "* `PRO Romania -> [('women_45_64', 0.63)]`\n",
    "* `PNL -> [('men_45_64', 0.73)`\n",
    "* `UDMR` isn't present in the above because it seems none of the columns have a high correlation with it.\n",
    "\n",
    "Interesting how, on the 45-65 age range, women choose to vote `PRO Romania` whereas men, `PNL`."
   ]
  },
  {
   "cell_type": "code",
   "execution_count": 505,
   "metadata": {
    "ExecuteTime": {
     "end_time": "2019-07-23T13:35:53.968008Z",
     "start_time": "2019-07-23T13:34:37.610589Z"
    },
    "scrolled": false
   },
   "outputs": [
    {
     "name": "stdout",
     "output_type": "stream",
     "text": [
      "ALDE -> [('Voturi valabile', 0.65), ('total', 0.65), ('Total prezenti', 0.65)]\n",
      "George-Nicaolae Simion -> [('USR-PLUS', 0.8), ('Gregoriana-Carmen Tudoran', 0.76), ('PMP', 0.75)]\n",
      "Gregoriana-Carmen Tudoran -> [('USR-PLUS', 0.78), ('George-Nicaolae Simion', 0.76), ('PMP', 0.74)]\n",
      "PMP -> [('USR-PLUS', 0.83), ('Voturi valabile', 0.79), ('total', 0.79)]\n",
      "PNL -> [('men_45_64', 0.74), ('total', 0.74), ('Total prezenti', 0.74)]\n",
      "PRO Romania -> [('women_45_64', 0.76), ('PMP', 0.75), ('USR-PLUS', 0.75)]\n",
      "PRODEMO -> [('PRO Romania', 0.6)]\n",
      "PSD -> [('men_65+', 0.68), ('women_65+', 0.64), ('Prezenti lista permanenta', 0.63)]\n",
      "Partidul Romania Unita -> [('USR-PLUS', 0.69), ('PMP', 0.66), ('George-Nicaolae Simion', 0.65)]\n",
      "Peter Costea -> [('USR-PLUS', 0.68), ('women_25_34', 0.63), ('Voturi valabile', 0.63)]\n",
      "Prezenti lista permanenta -> [('liste_permanente', 1.0), ('Votanti lista', 0.92), ('Total alegatori', 0.92)]\n",
      "Prezenti lista suplimentara -> [('lista_suplimentare', 0.98), ('men_25_34', 0.63), ('Voturi valabile', 0.62)]\n",
      "Prezenti urna mobila -> [('Total urna mobila', 0.86)]\n",
      "USR-PLUS -> [('Voturi valabile', 0.86), ('total', 0.85), ('Total prezenti', 0.85)]\n",
      "Uniunea Nationala Pentur Progresul Romaniei -> [('USR-PLUS', 0.64), ('PMP', 0.62), ('Voturi valabile', 0.6)]\n",
      "Votanti lista -> [('Total alegatori', 1.0), ('Total lista permanenta', 1.0), ('liste_permanente', 0.92)]\n",
      "Voturi nefolosite -> [('Total voturi', 0.93), ('Votanti lista', 0.82), ('Total lista permanenta', 0.82)]\n",
      "Voturi valabile -> [('total', 1.0), ('Total prezenti', 1.0), ('women_35_44', 0.95)]\n",
      "men_18_24 -> [('women_18_24', 0.87), ('total', 0.85), ('Total prezenti', 0.85)]\n",
      "men_25_34 -> [('women_25_34', 0.94), ('total', 0.92), ('Voturi valabile', 0.92)]\n",
      "men_35_44 -> [('women_35_44', 0.95), ('total', 0.95), ('Voturi valabile', 0.95)]\n",
      "men_45_64 -> [('women_45_64', 0.94), ('total', 0.93), ('Total prezenti', 0.93)]\n",
      "men_65+ -> [('women_65+', 0.92), ('Prezenti lista permanenta', 0.79), ('liste_permanente', 0.79)]\n",
      "women_18_24 -> [('men_18_24', 0.87), ('men_25_34', 0.86), ('women_25_34', 0.86)]\n",
      "women_25_34 -> [('men_25_34', 0.94), ('total', 0.93), ('Voturi valabile', 0.93)]\n",
      "women_35_44 -> [('men_35_44', 0.95), ('total', 0.95), ('Voturi valabile', 0.95)]\n",
      "women_45_64 -> [('Voturi valabile', 0.95), ('total', 0.95), ('Total prezenti', 0.95)]\n",
      "women_65+ -> [('men_65+', 0.92), ('Prezenti lista permanenta', 0.79), ('liste_permanente', 0.79)]\n"
     ]
    }
   ],
   "source": [
    "_corr = df[non_na_columns]._get_numeric_data().corr(method=\"spearman\")\n",
    "for column in _corr.columns:\n",
    "    if is_column_ignored(column): continue\n",
    "    correlated_var = correlations(_corr, column, irrelevant_score_threshold=0.6)\n",
    "    if correlated_var:\n",
    "        print(f\"{column} -> {correlated_var}\")"
   ]
  },
  {
   "cell_type": "markdown",
   "metadata": {},
   "source": [
    "In the `spearman` analisys, we can see there is an even stronger effect of the `same-people-overlap` of the following: [`George-Nicolae Simion`, `Gregoriana-Carmen Tudoran`, `PRO Romania`, `Partidul Romania Unita`, `Peter Costea`, `Uniunea Nationala Pentur Progresul Romaniei`] linked to `USR-PLUS`. So whenever `USR-PLUS` scores increased, these candidate' scores increased as well. We can assume that these being all `niche candidates` they were mostly voted by `progresist`s seeking out alternatives to the older, more established parties.\n",
    "\n",
    "It's interesting to observe `PRODEMO -> [('PRO Romania', 0.6)]` so an increase in `PRO Romania` means an increase in `PRODEMO`. This might be due to a confusion of naming, both starting with `PRO`, and due to the higher scores obtained by `PRO Romania` and given the fact that it's being led by a former [prime-minister](https://en.wikipedia.org/wiki/Victor_Ponta), I'd say `PRODEMO` were the ones that ganied more votes from this confusion (and not the other way arround).\n",
    "\n",
    "Again, interesting how, on the 45-65 age range, women choose to vote `PRO Romania` whereas men, `PNL`.\n",
    "```\n",
    "PNL -> [('men_45_64', 0.74)]\n",
    "PRO Romania -> [('women_45_64', 0.76)]\n",
    "```"
   ]
  },
  {
   "cell_type": "markdown",
   "metadata": {},
   "source": [
    "# Party corelation with each demographic category"
   ]
  },
  {
   "cell_type": "markdown",
   "metadata": {},
   "source": [
    "Using all the columns is somewhat distracting because some columns (like the `totals` are obscuring other possible patterns). In this section we're mainly interested to see which demographic category (men and women of various ages) are correlated with each party. We will only do computations on the main parties that got scores above > 4%. \n",
    "\n",
    "What we do is compute the correlation between each party and all the granular demographic data that we have, and then show the top 10 correlated columns for each party. "
   ]
  },
  {
   "cell_type": "code",
   "execution_count": 124,
   "metadata": {
    "ExecuteTime": {
     "end_time": "2019-07-18T14:32:00.702987Z",
     "start_time": "2019-07-18T14:31:59.425638Z"
    }
   },
   "outputs": [],
   "source": [
    "only_granular_demographic_columns = [column for column in df.columns if \"Barbati\" in column or \"Femei\" in column]\n",
    "_granular_demographics = df[parties+only_granular_demographic_columns].corr(method='pearson').fillna(0)"
   ]
  },
  {
   "cell_type": "code",
   "execution_count": 251,
   "metadata": {
    "ExecuteTime": {
     "end_time": "2019-07-22T09:13:24.677728Z",
     "start_time": "2019-07-22T09:13:24.644467Z"
    }
   },
   "outputs": [
    {
     "data": {
      "text/plain": [
       "'PSD'"
      ]
     },
     "metadata": {},
     "output_type": "display_data"
    },
    {
     "data": {
      "text/plain": [
       "Barbati 69    0.464600\n",
       "Femei 69      0.452073\n",
       "Barbati 70    0.449218\n",
       "Barbati 68    0.439194\n",
       "Barbati 71    0.437439\n",
       "Barbati 66    0.429882\n",
       "Femei 70      0.424870\n",
       "Barbati 67    0.422452\n",
       "Barbati 72    0.422372\n",
       "Name: PSD, dtype: float64"
      ]
     },
     "metadata": {},
     "output_type": "display_data"
    },
    {
     "data": {
      "text/plain": [
       "'USR-PLUS'"
      ]
     },
     "metadata": {},
     "output_type": "display_data"
    },
    {
     "data": {
      "text/plain": [
       "Femei 31      0.790589\n",
       "Barbati 34    0.789017\n",
       "Femei 29      0.787429\n",
       "Femei 32      0.787392\n",
       "Femei 33      0.787345\n",
       "Femei 30      0.786208\n",
       "Femei 34      0.784999\n",
       "Barbati 33    0.784203\n",
       "Barbati 32    0.769324\n",
       "Name: USR-PLUS, dtype: float64"
      ]
     },
     "metadata": {},
     "output_type": "display_data"
    },
    {
     "data": {
      "text/plain": [
       "'PRO Romania'"
      ]
     },
     "metadata": {},
     "output_type": "display_data"
    },
    {
     "data": {
      "text/plain": [
       "Femei 51      0.575745\n",
       "Femei 50      0.519486\n",
       "Barbati 51    0.496390\n",
       "Femei 49      0.488390\n",
       "Femei 63      0.483246\n",
       "Femei 61      0.481602\n",
       "Femei 62      0.481364\n",
       "Femei 60      0.473459\n",
       "Femei 59      0.469298\n",
       "Name: PRO Romania, dtype: float64"
      ]
     },
     "metadata": {},
     "output_type": "display_data"
    },
    {
     "data": {
      "text/plain": [
       "'UDMR'"
      ]
     },
     "metadata": {},
     "output_type": "display_data"
    },
    {
     "data": {
      "text/plain": [
       "Femei 75      0.184590\n",
       "Femei 77      0.183656\n",
       "Femei 74      0.172165\n",
       "Femei 76      0.162428\n",
       "Barbati 75    0.150304\n",
       "Barbati 77    0.146041\n",
       "Barbati 74    0.144867\n",
       "Barbati 76    0.125835\n",
       "Femei 67      0.120261\n",
       "Name: UDMR, dtype: float64"
      ]
     },
     "metadata": {},
     "output_type": "display_data"
    },
    {
     "data": {
      "text/plain": [
       "'PNL'"
      ]
     },
     "metadata": {},
     "output_type": "display_data"
    },
    {
     "data": {
      "text/plain": [
       "Barbati 44    0.606405\n",
       "Barbati 46    0.599908\n",
       "Barbati 45    0.598910\n",
       "Barbati 43    0.597983\n",
       "Barbati 48    0.595641\n",
       "Barbati 47    0.594866\n",
       "Barbati 49    0.591697\n",
       "Barbati 42    0.589587\n",
       "Barbati 50    0.588989\n",
       "Name: PNL, dtype: float64"
      ]
     },
     "metadata": {},
     "output_type": "display_data"
    },
    {
     "data": {
      "text/plain": [
       "'ALDE'"
      ]
     },
     "metadata": {},
     "output_type": "display_data"
    },
    {
     "data": {
      "text/plain": [
       "Femei 51      0.337525\n",
       "Barbati 51    0.333236\n",
       "Femei 50      0.312419\n",
       "Femei 49      0.293341\n",
       "Barbati 50    0.284151\n",
       "Femei 48      0.282056\n",
       "Femei 44      0.281466\n",
       "Femei 63      0.280512\n",
       "Femei 64      0.280196\n",
       "Name: ALDE, dtype: float64"
      ]
     },
     "metadata": {},
     "output_type": "display_data"
    },
    {
     "data": {
      "text/plain": [
       "'PMP'"
      ]
     },
     "metadata": {},
     "output_type": "display_data"
    },
    {
     "data": {
      "text/plain": [
       "USR-PLUS    0.593511\n",
       "Femei 51    0.566518\n",
       "Femei 50    0.538230\n",
       "Femei 34    0.537767\n",
       "Femei 39    0.536655\n",
       "Femei 38    0.536526\n",
       "Femei 35    0.534226\n",
       "Femei 36    0.532233\n",
       "Femei 42    0.532082\n",
       "Name: PMP, dtype: float64"
      ]
     },
     "metadata": {},
     "output_type": "display_data"
    }
   ],
   "source": [
    "from IPython.display import display\n",
    "\n",
    "def correlations(corr_matrix, party):\n",
    "    _corr = corr_matrix[party].sort_values(ascending=False)[1:10]\n",
    "    return _corr\n",
    "\n",
    "for party in parties:\n",
    "    display(f\"{party}\", correlations(_granular_demographics, party))"
   ]
  },
  {
   "cell_type": "markdown",
   "metadata": {},
   "source": [
    "So by age, the 10 most correlated groups for each party indicate the main support demographics (obvious to read and undertand the results). "
   ]
  },
  {
   "cell_type": "markdown",
   "metadata": {},
   "source": [
    "## Joint correlation graphs"
   ]
  },
  {
   "cell_type": "markdown",
   "metadata": {},
   "source": [
    "We can read the above results but is rather hard to make an idea of the whole picture at once. In this section we will put all the numbers above on a single graph (one for males and one for females) s follows:\n",
    "\n",
    "* each age will represent a bar\n",
    "* it will be a stacked percentage bar plot, so \n",
    "    * the bar will be made out of multiple segments, each representing one party\n",
    "    * the sum of the dimensinos of the segments will be equals for all ages and so, the segment heights will actually be percentages of 100% (total voted for each age)\n",
    "    * only the significant result will be included (correlation > 0.4)"
   ]
  },
  {
   "cell_type": "markdown",
   "metadata": {},
   "source": [
    "For easyer interpretation we will add some dominant colors for each party."
   ]
  },
  {
   "cell_type": "code",
   "execution_count": 220,
   "metadata": {
    "ExecuteTime": {
     "end_time": "2019-07-18T18:10:17.656517Z",
     "start_time": "2019-07-18T18:10:17.651121Z"
    }
   },
   "outputs": [],
   "source": [
    "party_colors = {\n",
    "    \"PNL\": \"xkcd:yellow\", \n",
    "    \"PSD\": \"r\", \n",
    "    \"USR-PLUS\": \"xkcd:sky blue\", \n",
    "    \"PMP\": \"xkcd:yellowgreen\",\n",
    "    \"UDMR\": \"g\",\n",
    "    \"ALDE\": \"xkcd:darkblue\",\n",
    "    \"PRO Romania\": \"xkcd:orange\"\n",
    "}"
   ]
  },
  {
   "cell_type": "code",
   "execution_count": 324,
   "metadata": {
    "ExecuteTime": {
     "end_time": "2019-07-22T11:01:56.925665Z",
     "start_time": "2019-07-22T11:01:56.908107Z"
    }
   },
   "outputs": [],
   "source": [
    "_males_columns = [column for column in only_granular_demographic_columns if \"Barbati\" in column]\n",
    "_female_columns = [column for column in only_granular_demographic_columns if \"Femei\" in column]\n",
    "\n",
    "def drop_constant_column(dataframe):\n",
    "    \"\"\"\n",
    "    Drops constant value columns of pandas dataframe.\n",
    "    \"\"\"\n",
    "    return dataframe.loc[:, (dataframe != dataframe.iloc[0]).any()]\n",
    "\n",
    "def male_female_series(corr_matrix, party, correlation_threshold=0.4):\n",
    "    _party_demographics = correlations(corr_matrix, party)[only_granular_demographic_columns]\n",
    "    _party_males = _party_demographics[_males_columns].copy()\n",
    "    _party_females = _party_demographics[_female_columns].copy()\n",
    "    _party_males.loc[_party_males < correlation_threshold] = 0\n",
    "    _party_females.loc[_party_females < correlation_threshold] = 0\n",
    "    return _party_males, _party_females\n",
    "    \n",
    "def process_gender(_males, column_prefix=\"Barbati \"):\n",
    "    _males = pd.DataFrame({party: _series for party, _series in zip(parties, _males)}).T\n",
    "    _males = drop_constant_column(_males)\n",
    "    _males.columns = [int(column.replace(column_prefix, \"\")) for column in _males.columns]\n",
    "    return _males\n",
    "\n",
    "def get_gender_correlations(_granular_demographics, correlation_threshold=0.4):\n",
    "    _male_females = [male_female_series(_granular_demographics, party, correlation_threshold=correlation_threshold) for party in parties]\n",
    "    males = list(zip(*_male_females))[0]\n",
    "    females = list(zip(*_male_females))[1]\n",
    "\n",
    "    males = process_gender(males, column_prefix=\"Barbati \")\n",
    "    females = process_gender(females, column_prefix=\"Femei \")\n",
    "    \n",
    "    return males, females"
   ]
  },
  {
   "cell_type": "code",
   "execution_count": null,
   "metadata": {
    "ExecuteTime": {
     "end_time": "2019-07-22T09:09:33.952129Z",
     "start_time": "2019-07-22T09:09:28.578142Z"
    }
   },
   "outputs": [],
   "source": [
    "from cycler import cycler\n",
    "import matplotlib.pyplot as plt\n",
    "\n",
    "def stacked_percentage_bar_plot(_df, title): \n",
    "    _df = (_df / _df.sum()).T\n",
    "    bar_l = range(_df.shape[0])\n",
    "\n",
    "    cm = plt.get_cmap('nipy_spectral')\n",
    "\n",
    "    f, ax = plt.subplots(1, figsize=(15,15))\n",
    "    ax.set_prop_cycle(cycler('color', [party_colors[party] for party in parties]))\n",
    "\n",
    "    bottom = np.zeros_like(bar_l).astype('float')\n",
    "    for i, column in enumerate(_df.columns):\n",
    "        ax.bar(bar_l, _df[column], bottom = bottom, label=column)\n",
    "        bottom += _df[column].values\n",
    "\n",
    "    ax.set_xticks(bar_l)\n",
    "    ax.set_xticklabels(_df.T.columns, rotation=90, size='x-small')\n",
    "    ax.legend(ncol=2, fontsize='x-small')\n",
    "    f.subplots_adjust(right=0.75, bottom=0.4)\n",
    "    ax.set_title(title)\n",
    "    f.show()\n",
    "\n",
    "    \n",
    "def plot_graphs(df, method='pearson', correlation_threshold=0.4):\n",
    "    _correlation_matrix = df.corr(method=method).fillna(0)\n",
    "    males, females = get_gender_correlations(_correlation_matrix, correlation_threshold=correlation_threshold)\n",
    "    stacked_percentage_bar_plot(males, \"Males\")\n",
    "    stacked_percentage_bar_plot(females, \"Females\")"
   ]
  },
  {
   "cell_type": "markdown",
   "metadata": {},
   "source": [
    "So here we have the results:"
   ]
  },
  {
   "cell_type": "code",
   "execution_count": 249,
   "metadata": {
    "ExecuteTime": {
     "end_time": "2019-07-22T09:09:33.952129Z",
     "start_time": "2019-07-22T09:09:28.578142Z"
    }
   },
   "outputs": [
    {
     "data": {
      "image/png": "[encoded data removed]",
      "text/plain": [
       "<Figure size 1080x1080 with 1 Axes>"
      ]
     },
     "metadata": {
      "needs_background": "light"
     },
     "output_type": "display_data"
    },
    {
     "data": {
      "image/png": "[encoded data removed]",
      "text/plain": [
       "<Figure size 1080x1080 with 1 Axes>"
      ]
     },
     "metadata": {
      "needs_background": "light"
     },
     "output_type": "display_data"
    }
   ],
   "source": [
    "plot_graphs(df[parties+only_granular_demographic_columns], method=\"pearson\", correlation_threshold=0.4)"
   ]
  },
  {
   "cell_type": "markdown",
   "metadata": {},
   "source": [
    "So, my interpretation:\n",
    "* `PNL` had a surprising grip on the `18` year olds\n",
    "* `USR-PLUS` took most of the votes for ages `19-20` in both men and women\n",
    "* until the age of `36`, the votes were (mostly) split between `USR-PLUS` and `PNL` with `USR-PLUS` starting strong and gradually decreasing. \n",
    "* `PRO Romania` was strongly voted by women aged between 37 and 68 (30 year span), and men aged 57-67 (only 10 year span)\n",
    "* `PSD` was mainly voted by the elderly (60+) in both men and women, but women between 60 and 64 more likely to have voted for `PRO Romania` instead.\n",
    "* `PMP` had a steady fan-base of people between 25-64 in both women and men (but as percentages show this is makes for aprox. 5% of the electorate)."
   ]
  },
  {
   "cell_type": "markdown",
   "metadata": {},
   "source": [
    "The above were computed on the `perason` correlation scores. We can do the same with the `spearman` method."
   ]
  },
  {
   "cell_type": "code",
   "execution_count": 250,
   "metadata": {
    "ExecuteTime": {
     "end_time": "2019-07-22T09:10:29.413355Z",
     "start_time": "2019-07-22T09:09:35.802235Z"
    }
   },
   "outputs": [
    {
     "data": {
      "image/png": "[encoded data removed]",
      "text/plain": [
       "<Figure size 1080x1080 with 1 Axes>"
      ]
     },
     "metadata": {
      "needs_background": "light"
     },
     "output_type": "display_data"
    },
    {
     "data": {
      "image/png": "[encoded data removed]",
      "text/plain": [
       "<Figure size 1080x1080 with 1 Axes>"
      ]
     },
     "metadata": {
      "needs_background": "light"
     },
     "output_type": "display_data"
    }
   ],
   "source": [
    "plot_graphs(df[parties+only_granular_demographic_columns], method=\"spearman\", correlation_threshold=0.5)"
   ]
  },
  {
   "cell_type": "markdown",
   "metadata": {},
   "source": [
    "These graphs show `ALDE` for the first time, and it seems to mostly be liked by women.\n",
    "\n",
    "In both men and women there's something happening at the age of 51, where all of a sudden we see `PSD`. After this, there is a gap of around 11 years in both men and women until we see again a correlation with `PSD`.\n",
    "\n",
    "It's possible that this is the exact age of people born during the natality boom Romania had in the 2 years that followed the [Decree 770](https://en.wikipedia.org/wiki/Decree_770). The first year this decree started to have an effect on, was 1967 and the peak lasted to around 2 years. The people born between 1967 and 1970 should have between 50 and 52 years now, and should be almost twice as many as the people aged 54-56.\n",
    "\n",
    "Depending on when in 1967 each person was born, on 26 may one may have been either 51 or 52 [1967 + (51, 52) = (2018, 2019)]"
   ]
  },
  {
   "cell_type": "markdown",
   "metadata": {},
   "source": [
    "<img src=\"https://upload.wikimedia.org/wikipedia/commons/thumb/d/d3/BirthDeath_1950_RO.svg/2560px-BirthDeath_1950_RO.svg.png\" alt=\"Drawing\" style=\"width: 600px;\"/>"
   ]
  },
  {
   "cell_type": "markdown",
   "metadata": {
    "ExecuteTime": {
     "end_time": "2019-07-18T14:20:03.408739Z",
     "start_time": "2019-07-18T14:20:03.386619Z"
    }
   },
   "source": [
    "## Correlation with bucketed demographics"
   ]
  },
  {
   "cell_type": "markdown",
   "metadata": {},
   "source": [
    "Since we also have age buckets already computed (`men_25_34`, etc..) we will also print the correlations of parties relative to these only. The interpretation is easy to make."
   ]
  },
  {
   "cell_type": "code",
   "execution_count": 511,
   "metadata": {
    "ExecuteTime": {
     "end_time": "2019-07-29T10:44:16.672978Z",
     "start_time": "2019-07-29T10:44:16.603771Z"
    },
    "scrolled": false
   },
   "outputs": [
    {
     "data": {
      "text/plain": [
       "'PSD'"
      ]
     },
     "metadata": {},
     "output_type": "display_data"
    },
    {
     "data": {
      "text/plain": [
       "women_65+    0.544377\n",
       "men_45_64    0.502112\n",
       "Name: PSD, dtype: float64"
      ]
     },
     "metadata": {},
     "output_type": "display_data"
    },
    {
     "name": "stdout",
     "output_type": "stream",
     "text": [
      "=====================\n"
     ]
    },
    {
     "data": {
      "text/plain": [
       "'USR-PLUS'"
      ]
     },
     "metadata": {},
     "output_type": "display_data"
    },
    {
     "data": {
      "text/plain": [
       "men_25_34      0.850179\n",
       "men_35_44      0.826530\n",
       "women_35_44    0.819073\n",
       "men_18_24      0.683041\n",
       "women_18_24    0.672514\n",
       "women_45_64    0.647503\n",
       "men_45_64      0.595842\n",
       "Name: USR-PLUS, dtype: float64"
      ]
     },
     "metadata": {},
     "output_type": "display_data"
    },
    {
     "name": "stdout",
     "output_type": "stream",
     "text": [
      "=====================\n"
     ]
    },
    {
     "data": {
      "text/plain": [
       "'PRO Romania'"
      ]
     },
     "metadata": {},
     "output_type": "display_data"
    },
    {
     "data": {
      "text/plain": [
       "men_45_64      0.561500\n",
       "women_35_44    0.522041\n",
       "Name: PRO Romania, dtype: float64"
      ]
     },
     "metadata": {},
     "output_type": "display_data"
    },
    {
     "name": "stdout",
     "output_type": "stream",
     "text": [
      "=====================\n"
     ]
    },
    {
     "data": {
      "text/plain": [
       "'UDMR'"
      ]
     },
     "metadata": {},
     "output_type": "display_data"
    },
    {
     "data": {
      "text/plain": [
       "Series([], Name: UDMR, dtype: float64)"
      ]
     },
     "metadata": {},
     "output_type": "display_data"
    },
    {
     "name": "stdout",
     "output_type": "stream",
     "text": [
      "=====================\n"
     ]
    },
    {
     "data": {
      "text/plain": [
       "'PNL'"
      ]
     },
     "metadata": {},
     "output_type": "display_data"
    },
    {
     "data": {
      "text/plain": [
       "men_35_44      0.674777\n",
       "women_35_44    0.649057\n",
       "women_45_64    0.640049\n",
       "women_25_34    0.606771\n",
       "men_25_34      0.606319\n",
       "men_18_24      0.537984\n",
       "Name: PNL, dtype: float64"
      ]
     },
     "metadata": {},
     "output_type": "display_data"
    },
    {
     "name": "stdout",
     "output_type": "stream",
     "text": [
      "=====================\n"
     ]
    },
    {
     "data": {
      "text/plain": [
       "'ALDE'"
      ]
     },
     "metadata": {},
     "output_type": "display_data"
    },
    {
     "data": {
      "text/plain": [
       "Series([], Name: ALDE, dtype: float64)"
      ]
     },
     "metadata": {},
     "output_type": "display_data"
    },
    {
     "name": "stdout",
     "output_type": "stream",
     "text": [
      "=====================\n"
     ]
    },
    {
     "data": {
      "text/plain": [
       "'PMP'"
      ]
     },
     "metadata": {},
     "output_type": "display_data"
    },
    {
     "data": {
      "text/plain": [
       "women_35_44    0.632382\n",
       "men_45_64      0.620332\n",
       "men_35_44      0.586705\n",
       "women_25_34    0.573251\n",
       "men_25_34      0.529779\n",
       "Name: PMP, dtype: float64"
      ]
     },
     "metadata": {},
     "output_type": "display_data"
    },
    {
     "name": "stdout",
     "output_type": "stream",
     "text": [
      "=====================\n"
     ]
    }
   ],
   "source": [
    "from IPython.display import display\n",
    "\n",
    "def correlations(corr_matrix, party):\n",
    "    _corr = corr_matrix.T[_bucketed_demographics_columns].T[party].sort_values(ascending=False)[1:]\n",
    "    return _corr[_corr > 0.5]\n",
    "\n",
    "\n",
    "_bucketed_demographics_columns = [column for column in df.columns if \"men_\" in column or \"women_\" in column]\n",
    "_bucketed_demographics = df[parties+_bucketed_demographics_columns].corr().fillna(0)\n",
    "for party in parties:\n",
    "    display(f\"{party}\", correlations(_bucketed_demographics, party))\n",
    "    print(\"=====================\")"
   ]
  },
  {
   "cell_type": "markdown",
   "metadata": {},
   "source": [
    "# Interparty correlation"
   ]
  },
  {
   "cell_type": "markdown",
   "metadata": {},
   "source": [
    "We've explored in some detail the effect of age and gender on the vote results associated with each candidate. \n",
    "\n",
    "In this section I'm going to try to plot the correlation that each party had, relative to the other parties. By doing this I'm trying to by how much, each party attracts the same kind of votes. So by inference, by how much each two parties share the same message / catters to the same group of interests.\n",
    "\n",
    "In order to do this I'll use a dendogram plot, where at each step, the two most similar elements are linked togheter. "
   ]
  },
  {
   "cell_type": "code",
   "execution_count": 260,
   "metadata": {
    "ExecuteTime": {
     "end_time": "2019-07-22T09:28:45.657232Z",
     "start_time": "2019-07-22T09:28:45.428781Z"
    }
   },
   "outputs": [
    {
     "data": {
      "image/png": "[encoded data removed]",
      "text/plain": [
       "<Figure size 720x720 with 1 Axes>"
      ]
     },
     "metadata": {
      "needs_background": "light"
     },
     "output_type": "display_data"
    }
   ],
   "source": [
    "import scipy\n",
    "from scipy.cluster import hierarchy as hc\n",
    "from matplotlib import pyplot as plt\n",
    "\n",
    "def plot_correlation(_df, method='pearson'):\n",
    "    # compute the correlation matrix\n",
    "    corr = _df.corr(method=method)\n",
    "    corr.fillna(value=0, inplace=True)\n",
    "    \n",
    "    # compress into a condensed format (only the top triangle of a symetric matrix)\n",
    "    corr_condensed = hc.distance.squareform(1-corr, checks=False)\n",
    "    \n",
    "    # compute the linakages (what is closer to what) \n",
    "    z = hc.linkage(corr_condensed, method='average')\n",
    "    fig = plt.figure(figsize=(10,10))\n",
    "    plt.title(f\"{method.title()} correlation dendogram\")\n",
    "    dendrogram = hc.dendrogram(z, labels=corr.columns, orientation='left', leaf_font_size=16)\n",
    "    plt.show()\n",
    "    \n",
    "plot_correlation(df[parties], method='pearson')"
   ]
  },
  {
   "cell_type": "code",
   "execution_count": 512,
   "metadata": {
    "ExecuteTime": {
     "end_time": "2019-07-29T14:28:08.363624Z",
     "start_time": "2019-07-29T14:28:08.316525Z"
    }
   },
   "outputs": [
    {
     "data": {
      "text/plain": [
       "'PSD'"
      ]
     },
     "metadata": {},
     "output_type": "display_data"
    },
    {
     "data": {
      "text/plain": [
       "PRO Romania    0.382307\n",
       "ALDE           0.261416\n",
       "PMP            0.218082\n",
       "PNL            0.206330\n",
       "USR-PLUS       0.079658\n",
       "UDMR          -0.223707\n",
       "Name: PSD, dtype: float64"
      ]
     },
     "metadata": {},
     "output_type": "display_data"
    },
    {
     "name": "stdout",
     "output_type": "stream",
     "text": [
      "=====================\n"
     ]
    },
    {
     "data": {
      "text/plain": [
       "'USR-PLUS'"
      ]
     },
     "metadata": {},
     "output_type": "display_data"
    },
    {
     "data": {
      "text/plain": [
       "PMP            0.593511\n",
       "PNL            0.501996\n",
       "PRO Romania    0.418803\n",
       "ALDE           0.231465\n",
       "PSD            0.079658\n",
       "UDMR          -0.042722\n",
       "Name: USR-PLUS, dtype: float64"
      ]
     },
     "metadata": {},
     "output_type": "display_data"
    },
    {
     "name": "stdout",
     "output_type": "stream",
     "text": [
      "=====================\n"
     ]
    },
    {
     "data": {
      "text/plain": [
       "'PRO Romania'"
      ]
     },
     "metadata": {},
     "output_type": "display_data"
    },
    {
     "data": {
      "text/plain": [
       "PMP         0.462144\n",
       "USR-PLUS    0.418803\n",
       "PSD         0.382307\n",
       "PNL         0.267807\n",
       "ALDE        0.255237\n",
       "UDMR       -0.148242\n",
       "Name: PRO Romania, dtype: float64"
      ]
     },
     "metadata": {},
     "output_type": "display_data"
    },
    {
     "name": "stdout",
     "output_type": "stream",
     "text": [
      "=====================\n"
     ]
    },
    {
     "data": {
      "text/plain": [
       "'UDMR'"
      ]
     },
     "metadata": {},
     "output_type": "display_data"
    },
    {
     "data": {
      "text/plain": [
       "USR-PLUS      -0.042722\n",
       "ALDE          -0.113350\n",
       "PMP           -0.130799\n",
       "PNL           -0.139204\n",
       "PRO Romania   -0.148242\n",
       "PSD           -0.223707\n",
       "Name: UDMR, dtype: float64"
      ]
     },
     "metadata": {},
     "output_type": "display_data"
    },
    {
     "name": "stdout",
     "output_type": "stream",
     "text": [
      "=====================\n"
     ]
    },
    {
     "data": {
      "text/plain": [
       "'PNL'"
      ]
     },
     "metadata": {},
     "output_type": "display_data"
    },
    {
     "data": {
      "text/plain": [
       "USR-PLUS       0.501996\n",
       "PMP            0.447272\n",
       "PRO Romania    0.267807\n",
       "PSD            0.206330\n",
       "ALDE           0.168811\n",
       "UDMR          -0.139204\n",
       "Name: PNL, dtype: float64"
      ]
     },
     "metadata": {},
     "output_type": "display_data"
    },
    {
     "name": "stdout",
     "output_type": "stream",
     "text": [
      "=====================\n"
     ]
    },
    {
     "data": {
      "text/plain": [
       "'ALDE'"
      ]
     },
     "metadata": {},
     "output_type": "display_data"
    },
    {
     "data": {
      "text/plain": [
       "PSD            0.261416\n",
       "PRO Romania    0.255237\n",
       "PMP            0.237606\n",
       "USR-PLUS       0.231465\n",
       "PNL            0.168811\n",
       "UDMR          -0.113350\n",
       "Name: ALDE, dtype: float64"
      ]
     },
     "metadata": {},
     "output_type": "display_data"
    },
    {
     "name": "stdout",
     "output_type": "stream",
     "text": [
      "=====================\n"
     ]
    },
    {
     "data": {
      "text/plain": [
       "'PMP'"
      ]
     },
     "metadata": {},
     "output_type": "display_data"
    },
    {
     "data": {
      "text/plain": [
       "USR-PLUS       0.593511\n",
       "PRO Romania    0.462144\n",
       "PNL            0.447272\n",
       "ALDE           0.237606\n",
       "PSD            0.218082\n",
       "UDMR          -0.130799\n",
       "Name: PMP, dtype: float64"
      ]
     },
     "metadata": {},
     "output_type": "display_data"
    },
    {
     "name": "stdout",
     "output_type": "stream",
     "text": [
      "=====================\n"
     ]
    }
   ],
   "source": [
    "_party_correlation = df[parties].corr().fillna(0)\n",
    "\n",
    "def correlations(corr_matrix, party):\n",
    "    _corr = corr_matrix[party].sort_values(ascending=False)[1:]\n",
    "    return _corr\n",
    "#     return _corr[_corr > 0.5]\n",
    "\n",
    "for party in parties:\n",
    "    display(f\"{party}\", correlations(_party_correlation, party))\n",
    "    print(\"=====================\")"
   ]
  },
  {
   "cell_type": "markdown",
   "metadata": {},
   "source": [
    "* Close to 0 scores mean that the two parties have orthogonal behaviour (when one's score is increasing it doesn't influence the score of the other - this means that they address wildly different people cathegories and interests).\n",
    "* Minus scores mean that if the score of one party is increasing, the score of the other is decreasing. The only such case is UDMR, that is inversely correlated with all the other parties. This means that whenever UDMR has a high score, the scores of the others go in the oposite way, and whenever the others start to gain traction, UDMR is loosing scores. "
   ]
  },
  {
   "cell_type": "markdown",
   "metadata": {},
   "source": [
    "# Urban vs Rural attendence"
   ]
  },
  {
   "cell_type": "markdown",
   "metadata": {},
   "source": [
    "The data that we have also contains the `medium` information, telling us if votes were cast in rural areas versus urban ones. Since we have this, I'd like to see the how men and women behaved in each setting.\n",
    "\n",
    "In order to do this we first have to do some data manipulation, adding the gender column, and reparating the data for each one. "
   ]
  },
  {
   "cell_type": "code",
   "execution_count": 317,
   "metadata": {
    "ExecuteTime": {
     "end_time": "2019-07-22T10:56:04.300367Z",
     "start_time": "2019-07-22T10:56:04.293556Z"
    }
   },
   "outputs": [],
   "source": [
    "non_demographic_columns = set(df.columns) - \\\n",
    "    {column for column in df.columns if column.startswith(\"men_\")} - \\\n",
    "    {column for column in df.columns if column.startswith(\"women_\")} - \\\n",
    "    set(_males_columns) - \\\n",
    "    set(_female_columns)"
   ]
  },
  {
   "cell_type": "code",
   "execution_count": 334,
   "metadata": {
    "ExecuteTime": {
     "end_time": "2019-07-22T12:20:35.346521Z",
     "start_time": "2019-07-22T12:20:27.068248Z"
    },
    "collapsed": true
   },
   "outputs": [
    {
     "name": "stderr",
     "output_type": "stream",
     "text": [
      "/home/tecknoworks/~Envs/deep3.6/lib/python3.6/site-packages/ipykernel_launcher.py:3: SettingWithCopyWarning: \n",
      "A value is trying to be set on a copy of a slice from a DataFrame.\n",
      "Try using .loc[row_indexer,col_indexer] = value instead\n",
      "\n",
      "See the caveats in the documentation: http://pandas.pydata.org/pandas-docs/stable/indexing.html#indexing-view-versus-copy\n",
      "  This is separate from the ipykernel package so we can avoid doing imports until\n",
      "/home/tecknoworks/~Envs/deep3.6/lib/python3.6/site-packages/ipykernel_launcher.py:7: SettingWithCopyWarning: \n",
      "A value is trying to be set on a copy of a slice from a DataFrame.\n",
      "Try using .loc[row_indexer,col_indexer] = value instead\n",
      "\n",
      "See the caveats in the documentation: http://pandas.pydata.org/pandas-docs/stable/indexing.html#indexing-view-versus-copy\n",
      "  import sys\n",
      "/home/tecknoworks/~Envs/deep3.6/lib/python3.6/site-packages/ipykernel_launcher.py:12: FutureWarning: Sorting because non-concatenation axis is not aligned. A future version\n",
      "of pandas will change to not sort by default.\n",
      "\n",
      "To accept the future behavior, pass 'sort=False'.\n",
      "\n",
      "To retain the current behavior and silence the warning, pass 'sort=True'.\n",
      "\n",
      "  if sys.path[0] == '':\n"
     ]
    }
   ],
   "source": [
    "_male_columns = df[_males_columns + [\"precinct_nr\"]]\n",
    "_male_columns.columns = [int(column.replace(\"Barbati \", \"\")) for column in _males_columns] + [\"precinct_nr\"]\n",
    "_male_columns[\"gender\"] = \"males\"\n",
    "\n",
    "_fem_columns = df[_female_columns + [\"precinct_nr\"]]\n",
    "_fem_columns.columns = [int(column.replace(\"Femei \", \"\")) for column in _female_columns] + [\"precinct_nr\"]\n",
    "_fem_columns[\"gender\"] = \"females\"\n",
    "\n",
    "\n",
    "df_by_gender = pd.concat((\n",
    "    pd.merge(df[non_demographic_columns].copy(), _male_columns, on=\"precinct_nr\"),\n",
    "    pd.merge(df[non_demographic_columns].copy(), _fem_columns, on=\"precinct_nr\")\n",
    "))"
   ]
  },
  {
   "cell_type": "markdown",
   "metadata": {},
   "source": [
    "And here are the results. You can read their interpretation from the titles."
   ]
  },
  {
   "cell_type": "code",
   "execution_count": 414,
   "metadata": {
    "ExecuteTime": {
     "end_time": "2019-07-22T14:43:57.256649Z",
     "start_time": "2019-07-22T14:43:52.758792Z"
    }
   },
   "outputs": [],
   "source": [
    "age_columns = list(range(18, 90))\n",
    "\n",
    "_df = df_by_gender[[\"gender\", \"medium\"] + age_columns].fillna(0)\n",
    "\n",
    "urban_males_votes = np.sum(_df[(_df.medium == \"U\") & (_df.gender == \"males\")][age_columns].values)\n",
    "urban_females_votes = np.sum(_df[(_df.medium == \"U\") & (_df.gender == \"females\")][age_columns].values)\n",
    "\n",
    "rural_males_votes = np.sum(_df[(_df.medium == \"R\") & (_df.gender == \"males\")][age_columns].values)\n",
    "rural_females_votes = np.sum(_df[(_df.medium == \"R\") & (_df.gender == \"females\")][age_columns].values)\n",
    "\n",
    "# scale the numbers according to their total magnitude. Urban dwellers are more numerous\n",
    "_pivot = _df.pivot_table(index=[\"medium\", \"gender\"], aggfunc=lambda x: x.sum())\n",
    "\n",
    "_pivot.loc[(\"U\", \"males\"), age_columns] /= urban_males_votes\n",
    "_pivot.loc[(\"U\", \"females\"), age_columns] /= urban_females_votes\n",
    "_pivot.loc[(\"R\", \"males\"), age_columns] /= rural_males_votes\n",
    "_pivot.loc[(\"R\", \"females\"), age_columns] /= rural_females_votes"
   ]
  },
  {
   "cell_type": "code",
   "execution_count": 429,
   "metadata": {
    "ExecuteTime": {
     "end_time": "2019-07-23T09:52:42.539065Z",
     "start_time": "2019-07-23T09:52:42.229185Z"
    }
   },
   "outputs": [
    {
     "data": {
      "text/plain": [
       "<matplotlib.axes._subplots.AxesSubplot at 0x7fee176d74e0>"
      ]
     },
     "execution_count": 429,
     "metadata": {},
     "output_type": "execute_result"
    },
    {
     "data": {
      "image/png": "[encoded data removed]",
      "text/plain": [
       "<Figure size 720x720 with 1 Axes>"
      ]
     },
     "metadata": {
      "needs_background": "light"
     },
     "output_type": "display_data"
    }
   ],
   "source": [
    "_pivot.loc[[(\"U\", \"males\"), (\"U\", \"females\")], :].T.plot(figsize=(10,10), title=\"In cities, men attendence is higher until the age of 47, after which women attendence is higher.\")"
   ]
  },
  {
   "cell_type": "code",
   "execution_count": 427,
   "metadata": {
    "ExecuteTime": {
     "end_time": "2019-07-22T14:50:30.413540Z",
     "start_time": "2019-07-22T14:50:30.107720Z"
    }
   },
   "outputs": [
    {
     "data": {
      "text/plain": [
       "<matplotlib.axes._subplots.AxesSubplot at 0x7fee17771128>"
      ]
     },
     "execution_count": 427,
     "metadata": {},
     "output_type": "execute_result"
    },
    {
     "data": {
      "image/png": "[encoded data removed]",
      "text/plain": [
       "<Figure size 720x720 with 1 Axes>"
      ]
     },
     "metadata": {
      "needs_background": "light"
     },
     "output_type": "display_data"
    }
   ],
   "source": [
    "_pivot.loc[[(\"R\", \"males\"), (\"R\", \"females\")], :].T.plot(figsize=(10,10), title=\"In rural areas, males surpass females in attendence, until the age of 58, after which the trend reverses.\")"
   ]
  },
  {
   "cell_type": "markdown",
   "metadata": {},
   "source": [
    "# Other interesting findings"
   ]
  },
  {
   "cell_type": "markdown",
   "metadata": {},
   "source": [
    "Columns highly correlated with \"Urna mobila\" (mobile voting booth)"
   ]
  },
  {
   "cell_type": "code",
   "execution_count": 281,
   "metadata": {
    "ExecuteTime": {
     "end_time": "2019-07-22T10:37:34.848436Z",
     "start_time": "2019-07-22T10:37:34.805261Z"
    }
   },
   "outputs": [
    {
     "data": {
      "text/plain": [
       "PSD                          0.233645\n",
       "women_65+                    0.197278\n",
       "men_65+                      0.190935\n",
       "Voturi anulate               0.148569\n",
       "men_45_64                    0.124989\n",
       "Total prezenti               0.115288\n",
       "total                        0.112613\n",
       "Voturi valabile              0.111136\n",
       "presence                     0.106723\n",
       "men_18_24                    0.098921\n",
       "UDMR                         0.098836\n",
       "Prezenti lista permanenta    0.093936\n",
       "women_45_64                  0.087840\n",
       "liste_permanente             0.082491\n",
       "Total alegatori              0.073915\n",
       "Total lista permanenta       0.073891\n",
       "Votanti lista                0.073797\n",
       "men_35_44                    0.073775\n",
       "men_25_34                    0.070998\n",
       "dtype: float64"
      ]
     },
     "execution_count": 281,
     "metadata": {},
     "output_type": "execute_result"
    }
   ],
   "source": [
    "df[[column for column in df.columns if \"Femei \" not in column and \"Barbati \" not in column]].corrwith(df.urna_mobila).sort_values(ascending=False)[1:20]"
   ]
  },
  {
   "cell_type": "markdown",
   "metadata": {},
   "source": [
    "Columns highly correlated with \"Liste suplimentare\" (mobile voting booth)"
   ]
  },
  {
   "cell_type": "code",
   "execution_count": 282,
   "metadata": {
    "ExecuteTime": {
     "end_time": "2019-07-22T10:38:09.658607Z",
     "start_time": "2019-07-22T10:38:09.614399Z"
    }
   },
   "outputs": [
    {
     "data": {
      "text/plain": [
       "Prezenti lista suplimentara    0.993394\n",
       "men_25_34                      0.739754\n",
       "men_35_44                      0.712754\n",
       "women_25_34                    0.647773\n",
       "George-Nicaolae Simion         0.630228\n",
       "USR-PLUS                       0.628024\n",
       "Total voturi                   0.580983\n",
       "Voturi valabile                0.555929\n",
       "Total prezenti                 0.551418\n",
       "total                          0.540754\n",
       "women_35_44                    0.522387\n",
       "PNL                            0.509740\n",
       "Voturi nefolosite              0.498012\n",
       "men_18_24                      0.492730\n",
       "women_18_24                    0.443678\n",
       "men_45_64                      0.442544\n",
       "PMP                            0.431459\n",
       "Partidul Romania Unita         0.346605\n",
       "Peter Costea                   0.329325\n",
       "dtype: float64"
      ]
     },
     "execution_count": 282,
     "metadata": {},
     "output_type": "execute_result"
    }
   ],
   "source": [
    "df[[column for column in df.columns if \"Femei \" not in column and \"Barbati \" not in column]].corrwith(df.lista_suplimentare).sort_values(ascending=False)[1:20]"
   ]
  },
  {
   "cell_type": "markdown",
   "metadata": {
    "ExecuteTime": {
     "end_time": "2019-07-22T10:38:57.560736Z",
     "start_time": "2019-07-22T10:38:57.554823Z"
    }
   },
   "source": [
    "Columns highly correlated with \"Voturi anulate\" (mobile voting booth)"
   ]
  },
  {
   "cell_type": "code",
   "execution_count": 287,
   "metadata": {
    "ExecuteTime": {
     "end_time": "2019-07-22T10:40:51.985592Z",
     "start_time": "2019-07-22T10:40:51.941858Z"
    }
   },
   "outputs": [
    {
     "data": {
      "text/plain": [
       "Votanti lista                0.475865\n",
       "Total alegatori              0.475692\n",
       "Total lista permanenta       0.475680\n",
       "PSD                          0.474736\n",
       "men_45_64                    0.459099\n",
       "Prezenti lista permanenta    0.422869\n",
       "liste_permanente             0.421464\n",
       "men_65+                      0.394126\n",
       "total                        0.387026\n",
       "Total prezenti               0.386483\n",
       "Total voturi                 0.380412\n",
       "women_45_64                  0.375835\n",
       "Voturi valabile              0.356550\n",
       "PNL                          0.342141\n",
       "women_65+                    0.323280\n",
       "Partidul Socialist Roman     0.320872\n",
       "Voturi nefolosite            0.313705\n",
       "women_35_44                  0.312228\n",
       "men_18_24                    0.281524\n",
       "dtype: float64"
      ]
     },
     "execution_count": 287,
     "metadata": {},
     "output_type": "execute_result"
    }
   ],
   "source": [
    "df[[column for column in df.columns if \"Femei \" not in column and \"Barbati \" not in column]].corrwith(df[\"Voturi anulate\"]).sort_values(ascending=False)[1:20]"
   ]
  }
 ],
 "metadata": {
  "kernelspec": {
   "display_name": "Python 3",
   "language": "python",
   "name": "python3"
  },
  "language_info": {
   "codemirror_mode": {
    "name": "ipython",
    "version": 3
   },
   "file_extension": ".py",
   "mimetype": "text/x-python",
   "name": "python",
   "nbconvert_exporter": "python",
   "pygments_lexer": "ipython3",
   "version": "3.6.7"
  },
  "toc": {
   "base_numbering": 1,
   "nav_menu": {},
   "number_sections": true,
   "sideBar": true,
   "skip_h1_title": false,
   "title_cell": "Table of Contents",
   "title_sidebar": "Contents",
   "toc_cell": false,
   "toc_position": {
    "height": "calc(100% - 180px)",
    "left": "10px",
    "top": "150px",
    "width": "237.756px"
   },
   "toc_section_display": true,
   "toc_window_display": true
  },
  "varInspector": {
   "cols": {
    "lenName": 16,
    "lenType": 16,
    "lenVar": 40
   },
   "kernels_config": {
    "python": {
     "delete_cmd_postfix": "",
     "delete_cmd_prefix": "del ",
     "library": "var_list.py",
     "varRefreshCmd": "print(var_dic_list())"
    },
    "r": {
     "delete_cmd_postfix": ") ",
     "delete_cmd_prefix": "rm(",
     "library": "var_list.r",
     "varRefreshCmd": "cat(var_dic_list()) "
    }
   },
   "position": {
    "height": "183.082px",
    "left": "763.912px",
    "right": "20px",
    "top": "155px",
    "width": "319.489px"
   },
   "types_to_exclude": [
    "module",
    "function",
    "builtin_function_or_method",
    "instance",
    "_Feature"
   ],
   "window_display": false
  }
 },
 "nbformat": 4,
 "nbformat_minor": 2
}
